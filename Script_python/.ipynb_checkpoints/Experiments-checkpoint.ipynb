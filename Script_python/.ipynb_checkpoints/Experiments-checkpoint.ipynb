{
 "cells": [
  {
   "cell_type": "code",
   "execution_count": 1,
   "id": "6deeb5ef",
   "metadata": {},
   "outputs": [
    {
     "name": "stdout",
     "output_type": "stream",
     "text": [
      "Imports\n"
     ]
    }
   ],
   "source": [
    "print(\"Imports\")\n",
    "from keras.models import load_model\n",
    "from Class_Image import Image\n",
    "from os.path import abspath\n",
    "from Class_training import *\n",
    "from Model_comparisons import *\n",
    "from os.path import abspath, join\n",
    "import numpy as np\n",
    "\n",
    "import matplotlib.pyplot as plt\n",
    "import tensorflow as tf\n",
    "from tensorflow.keras.applications import VGG19\n",
    "#import keras\n",
    "from tensorflow.keras import Input, Model\n",
    "from keras.preprocessing.image import ImageDataGenerator\n",
    "import keras_tuner as kt\n",
    "\n",
    "%matplotlib inline"
   ]
  },
  {
   "cell_type": "code",
   "execution_count": 2,
   "id": "d7c97df4",
   "metadata": {},
   "outputs": [],
   "source": [
    "def map_fn(serialized_example):\n",
    "    feature = {\n",
    "        'data_label': tf.io.FixedLenFeature([2], tf.int64),\n",
    "        'data_right': tf.io.FixedLenFeature([150528], tf.int64),\n",
    "        'data_left': tf.io.FixedLenFeature([150528], tf.int64),\n",
    "    }\n",
    "    \n",
    "    ex = tf.io.parse_single_example(serialized_example, feature)\n",
    "    #ex['data_label'] = ex['data_label'][0]\n",
    "    return ex, ex['data_label']"
   ]
  },
  {
   "cell_type": "code",
   "execution_count": 3,
   "id": "cbc472fb",
   "metadata": {},
   "outputs": [],
   "source": [
    "dataset_val = tf.data.TFRecordDataset((\n",
    "    'D:/Comparison_1_npy/data_val.tfrecord'\n",
    ")\n",
    ")\n",
    "dataset_train = tf.data.TFRecordDataset((\n",
    "    'D:/Comparison_1_npy/data_train.tfrecord', \n",
    "    #'Z:/data_train_synthetic.tfrecord'\n",
    ")\n",
    ")\n",
    "dataset_train = dataset_train.map(map_fn)\n",
    "dataset_train = dataset_train.shuffle(2048, reshuffle_each_iteration = True)\n",
    "dataset_train = dataset_train.prefetch(buffer_size=tf.data.AUTOTUNE)\n",
    "dataset_train = dataset_train.batch(6)\n",
    "\n",
    "dataset_val = dataset_val.map(map_fn)\n",
    "#dataset_val = dataset_val.shuffle(2048)\n",
    "dataset_val = dataset_val.prefetch(buffer_size=tf.data.AUTOTUNE)\n",
    "dataset_val = dataset_val.batch(6)"
   ]
  },
  {
   "cell_type": "code",
   "execution_count": 4,
   "id": "1fe2fe7d",
   "metadata": {
    "scrolled": true
   },
   "outputs": [
    {
     "name": "stdout",
     "output_type": "stream",
     "text": [
      "Epoch 1/100\n"
     ]
    },
    {
     "name": "stderr",
     "output_type": "stream",
     "text": [
      "c:\\users\\lmacl\\appdata\\local\\programs\\python\\python38\\lib\\site-packages\\tensorflow\\python\\keras\\engine\\functional.py:588: UserWarning: Input dict contained keys ['data_label'] which did not match any model input. They will be ignored by the model.\n",
      "  warnings.warn(\n"
     ]
    },
    {
     "name": "stdout",
     "output_type": "stream",
     "text": [
      "487/487 [==============================] - 188s 332ms/step - loss: 1.0337 - accuracy: 0.6236 - val_loss: 1.7737 - val_accuracy: 0.6977\n",
      "Epoch 2/100\n",
      "487/487 [==============================] - 181s 324ms/step - loss: 0.9163 - accuracy: 0.6647 - val_loss: 1.0250 - val_accuracy: 0.7579\n",
      "Epoch 3/100\n",
      "487/487 [==============================] - 180s 324ms/step - loss: 0.8722 - accuracy: 0.6860 - val_loss: 0.7122 - val_accuracy: 0.6990\n",
      "Epoch 4/100\n",
      "487/487 [==============================] - 181s 324ms/step - loss: 0.8948 - accuracy: 0.6572 - val_loss: 0.8093 - val_accuracy: 0.7141\n",
      "Epoch 5/100\n",
      "487/487 [==============================] - 180s 324ms/step - loss: 0.8218 - accuracy: 0.6853 - val_loss: 0.7294 - val_accuracy: 0.7469\n",
      "Epoch 6/100\n",
      "487/487 [==============================] - 180s 324ms/step - loss: 0.8001 - accuracy: 0.6853 - val_loss: 1.0730 - val_accuracy: 0.6813\n",
      "Epoch 7/100\n",
      "487/487 [==============================] - 180s 324ms/step - loss: 0.7443 - accuracy: 0.7031 - val_loss: 1.2032 - val_accuracy: 0.7223\n",
      "Epoch 8/100\n",
      "487/487 [==============================] - 178s 320ms/step - loss: 0.7645 - accuracy: 0.6894 - val_loss: 0.7497 - val_accuracy: 0.6867\n",
      "Epoch 9/100\n",
      "487/487 [==============================] - 175s 316ms/step - loss: 0.7234 - accuracy: 0.6925 - val_loss: 0.9703 - val_accuracy: 0.7264\n",
      "Epoch 10/100\n",
      "487/487 [==============================] - 181s 327ms/step - loss: 0.7077 - accuracy: 0.7113 - val_loss: 0.6381 - val_accuracy: 0.7729\n",
      "Epoch 11/100\n",
      "487/487 [==============================] - 181s 324ms/step - loss: 0.6911 - accuracy: 0.7116 - val_loss: 0.6005 - val_accuracy: 0.7469\n",
      "Epoch 12/100\n",
      "487/487 [==============================] - 181s 324ms/step - loss: 0.7004 - accuracy: 0.7045 - val_loss: 0.7166 - val_accuracy: 0.7811\n",
      "Epoch 13/100\n",
      "487/487 [==============================] - 181s 324ms/step - loss: 0.7023 - accuracy: 0.7003 - val_loss: 0.5926 - val_accuracy: 0.7565\n",
      "Epoch 14/100\n",
      "487/487 [==============================] - 181s 324ms/step - loss: 0.6645 - accuracy: 0.7127 - val_loss: 0.7962 - val_accuracy: 0.7989\n",
      "Epoch 15/100\n",
      "487/487 [==============================] - 180s 324ms/step - loss: 0.6685 - accuracy: 0.7147 - val_loss: 0.6123 - val_accuracy: 0.7469\n",
      "Epoch 16/100\n",
      "487/487 [==============================] - 180s 324ms/step - loss: 0.6595 - accuracy: 0.7140 - val_loss: 0.8099 - val_accuracy: 0.7756\n",
      "Epoch 17/100\n",
      "487/487 [==============================] - 178s 318ms/step - loss: 0.6499 - accuracy: 0.7199 - val_loss: 0.6582 - val_accuracy: 0.8044\n",
      "Epoch 18/100\n",
      "487/487 [==============================] - 175s 315ms/step - loss: 0.6344 - accuracy: 0.7236 - val_loss: 0.8179 - val_accuracy: 0.7346\n",
      "Epoch 19/100\n",
      "487/487 [==============================] - 174s 314ms/step - loss: 0.6219 - accuracy: 0.7370 - val_loss: 0.4951 - val_accuracy: 0.8085\n",
      "Epoch 20/100\n",
      "487/487 [==============================] - 174s 314ms/step - loss: 0.5796 - accuracy: 0.7473 - val_loss: 0.6443 - val_accuracy: 0.7223\n",
      "Epoch 21/100\n",
      "487/487 [==============================] - 174s 314ms/step - loss: 0.6110 - accuracy: 0.7271 - val_loss: 0.5025 - val_accuracy: 0.7715\n",
      "Epoch 22/100\n",
      "487/487 [==============================] - 174s 314ms/step - loss: 0.5937 - accuracy: 0.7250 - val_loss: 0.5147 - val_accuracy: 0.7921\n",
      "Epoch 23/100\n",
      "487/487 [==============================] - 176s 319ms/step - loss: 0.5936 - accuracy: 0.7373 - val_loss: 0.5709 - val_accuracy: 0.8071\n",
      "Epoch 24/100\n",
      "487/487 [==============================] - 186s 339ms/step - loss: 0.5674 - accuracy: 0.7562 - val_loss: 0.9316 - val_accuracy: 0.7798\n",
      "Epoch 25/100\n",
      "487/487 [==============================] - 186s 339ms/step - loss: 0.5616 - accuracy: 0.7517 - val_loss: 0.5156 - val_accuracy: 0.7784\n",
      "Epoch 26/100\n",
      "487/487 [==============================] - 189s 342ms/step - loss: 0.5887 - accuracy: 0.7329 - val_loss: 0.5301 - val_accuracy: 0.7975\n",
      "Epoch 27/100\n",
      "487/487 [==============================] - 190s 346ms/step - loss: 0.5532 - accuracy: 0.7531 - val_loss: 0.8742 - val_accuracy: 0.7415\n",
      "Epoch 28/100\n",
      "487/487 [==============================] - 188s 341ms/step - loss: 0.5485 - accuracy: 0.7527 - val_loss: 0.6129 - val_accuracy: 0.7606\n",
      "Epoch 29/100\n",
      "487/487 [==============================] - 175s 316ms/step - loss: 0.5738 - accuracy: 0.7408 - val_loss: 0.5450 - val_accuracy: 0.8057\n",
      "Epoch 30/100\n",
      "487/487 [==============================] - 181s 328ms/step - loss: 0.5378 - accuracy: 0.7479 - val_loss: 0.5644 - val_accuracy: 0.8098\n",
      "Epoch 31/100\n",
      "487/487 [==============================] - 181s 329ms/step - loss: 0.5542 - accuracy: 0.7534 - val_loss: 0.6929 - val_accuracy: 0.6990\n",
      "Epoch 32/100\n",
      "487/487 [==============================] - 180s 325ms/step - loss: 0.5424 - accuracy: 0.7565 - val_loss: 0.4997 - val_accuracy: 0.7948\n",
      "Epoch 33/100\n",
      "487/487 [==============================] - 178s 318ms/step - loss: 0.5332 - accuracy: 0.7562 - val_loss: 0.4813 - val_accuracy: 0.8071\n",
      "Epoch 34/100\n",
      "487/487 [==============================] - 175s 316ms/step - loss: 0.5405 - accuracy: 0.7541 - val_loss: 0.4788 - val_accuracy: 0.8140\n",
      "Epoch 35/100\n",
      "487/487 [==============================] - 176s 318ms/step - loss: 0.5309 - accuracy: 0.7627 - val_loss: 0.4737 - val_accuracy: 0.8085\n",
      "Epoch 36/100\n",
      "487/487 [==============================] - 174s 314ms/step - loss: 0.5230 - accuracy: 0.7582 - val_loss: 0.5804 - val_accuracy: 0.7839\n",
      "Epoch 37/100\n",
      "487/487 [==============================] - 176s 318ms/step - loss: 0.5421 - accuracy: 0.7435 - val_loss: 0.7909 - val_accuracy: 0.7907\n",
      "Epoch 38/100\n",
      "487/487 [==============================] - 177s 320ms/step - loss: 0.5179 - accuracy: 0.7562 - val_loss: 0.6770 - val_accuracy: 0.7948\n",
      "Epoch 39/100\n",
      "487/487 [==============================] - 176s 317ms/step - loss: 0.5173 - accuracy: 0.7671 - val_loss: 0.4949 - val_accuracy: 0.8126\n",
      "Epoch 40/100\n",
      "487/487 [==============================] - 175s 316ms/step - loss: 0.5245 - accuracy: 0.7521 - val_loss: 0.5122 - val_accuracy: 0.7729\n",
      "Epoch 41/100\n",
      "487/487 [==============================] - 175s 316ms/step - loss: 0.5229 - accuracy: 0.7616 - val_loss: 0.5341 - val_accuracy: 0.8044\n",
      "Epoch 42/100\n",
      "487/487 [==============================] - 175s 316ms/step - loss: 0.5224 - accuracy: 0.7548 - val_loss: 0.5149 - val_accuracy: 0.7866\n",
      "Epoch 43/100\n",
      "487/487 [==============================] - 176s 317ms/step - loss: 0.5189 - accuracy: 0.7555 - val_loss: 0.5060 - val_accuracy: 0.8016\n",
      "Epoch 44/100\n",
      "487/487 [==============================] - 175s 316ms/step - loss: 0.4878 - accuracy: 0.7901 - val_loss: 0.5059 - val_accuracy: 0.7852\n",
      "Epoch 45/100\n",
      "487/487 [==============================] - 176s 317ms/step - loss: 0.4987 - accuracy: 0.7692 - val_loss: 0.5363 - val_accuracy: 0.7934\n",
      "Epoch 46/100\n",
      "487/487 [==============================] - 176s 316ms/step - loss: 0.4980 - accuracy: 0.7757 - val_loss: 0.6147 - val_accuracy: 0.7921\n",
      "Epoch 47/100\n",
      "487/487 [==============================] - 176s 318ms/step - loss: 0.5168 - accuracy: 0.7558 - val_loss: 0.5002 - val_accuracy: 0.7784\n",
      "Epoch 48/100\n",
      "487/487 [==============================] - 175s 316ms/step - loss: 0.4859 - accuracy: 0.7743 - val_loss: 0.4920 - val_accuracy: 0.8030\n",
      "Epoch 49/100\n",
      "487/487 [==============================] - 175s 316ms/step - loss: 0.5156 - accuracy: 0.7620 - val_loss: 0.4524 - val_accuracy: 0.8126\n",
      "Epoch 50/100\n",
      "487/487 [==============================] - 176s 316ms/step - loss: 0.4962 - accuracy: 0.7818 - val_loss: 0.4757 - val_accuracy: 0.7989\n",
      "Epoch 51/100\n",
      "487/487 [==============================] - 179s 323ms/step - loss: 0.4717 - accuracy: 0.7784 - val_loss: 0.4887 - val_accuracy: 0.8085\n",
      "Epoch 52/100\n",
      "487/487 [==============================] - 177s 318ms/step - loss: 0.4844 - accuracy: 0.7719 - val_loss: 0.5069 - val_accuracy: 0.7770\n",
      "Epoch 53/100\n",
      "487/487 [==============================] - 179s 323ms/step - loss: 0.4970 - accuracy: 0.7664 - val_loss: 0.5871 - val_accuracy: 0.7839\n",
      "Epoch 54/100\n",
      "487/487 [==============================] - 175s 314ms/step - loss: 0.4887 - accuracy: 0.7712 - val_loss: 0.4593 - val_accuracy: 0.8030\n",
      "Epoch 55/100\n",
      "487/487 [==============================] - 175s 316ms/step - loss: 0.4621 - accuracy: 0.7880 - val_loss: 0.5268 - val_accuracy: 0.7989\n",
      "Epoch 56/100\n",
      "487/487 [==============================] - 176s 317ms/step - loss: 0.4848 - accuracy: 0.7750 - val_loss: 0.6214 - val_accuracy: 0.7907\n",
      "Epoch 57/100\n",
      "487/487 [==============================] - 176s 318ms/step - loss: 0.4743 - accuracy: 0.7890 - val_loss: 0.5846 - val_accuracy: 0.7934\n",
      "Epoch 58/100\n",
      "487/487 [==============================] - 176s 318ms/step - loss: 0.4674 - accuracy: 0.7757 - val_loss: 0.5472 - val_accuracy: 0.7934\n",
      "Epoch 59/100\n",
      "487/487 [==============================] - 187s 339ms/step - loss: 0.4748 - accuracy: 0.7808 - val_loss: 0.5543 - val_accuracy: 0.8153\n",
      "Epoch 60/100\n",
      "487/487 [==============================] - 187s 338ms/step - loss: 0.4710 - accuracy: 0.7788 - val_loss: 0.4715 - val_accuracy: 0.8044\n",
      "Epoch 61/100\n",
      "487/487 [==============================] - 187s 338ms/step - loss: 0.4834 - accuracy: 0.7853 - val_loss: 0.4628 - val_accuracy: 0.8098\n",
      "Epoch 62/100\n",
      "487/487 [==============================] - 188s 338ms/step - loss: 0.4677 - accuracy: 0.7795 - val_loss: 0.5299 - val_accuracy: 0.7934\n",
      "Epoch 63/100\n",
      "487/487 [==============================] - 187s 338ms/step - loss: 0.4730 - accuracy: 0.7781 - val_loss: 0.4768 - val_accuracy: 0.8003\n",
      "Epoch 64/100\n",
      "487/487 [==============================] - 188s 339ms/step - loss: 0.4770 - accuracy: 0.7784 - val_loss: 0.4415 - val_accuracy: 0.8126\n",
      "Epoch 65/100\n",
      "487/487 [==============================] - 185s 334ms/step - loss: 0.4569 - accuracy: 0.7942 - val_loss: 0.5526 - val_accuracy: 0.7948\n",
      "Epoch 66/100\n",
      "487/487 [==============================] - 188s 338ms/step - loss: 0.4608 - accuracy: 0.7921 - val_loss: 0.4936 - val_accuracy: 0.8044\n",
      "Epoch 67/100\n",
      "487/487 [==============================] - 189s 343ms/step - loss: 0.4545 - accuracy: 0.7945 - val_loss: 0.4904 - val_accuracy: 0.8085\n",
      "Epoch 68/100\n",
      "487/487 [==============================] - 189s 345ms/step - loss: 0.4462 - accuracy: 0.8017 - val_loss: 0.6209 - val_accuracy: 0.8057\n",
      "Epoch 69/100\n",
      "487/487 [==============================] - 183s 333ms/step - loss: 0.4846 - accuracy: 0.7788 - val_loss: 0.5337 - val_accuracy: 0.8085\n",
      "Epoch 70/100\n",
      "487/487 [==============================] - 182s 330ms/step - loss: 0.4588 - accuracy: 0.7921 - val_loss: 0.5137 - val_accuracy: 0.7866\n",
      "Epoch 71/100\n",
      "487/487 [==============================] - 182s 329ms/step - loss: 0.4573 - accuracy: 0.7997 - val_loss: 0.5318 - val_accuracy: 0.7661\n",
      "Epoch 72/100\n",
      "487/487 [==============================] - 191s 348ms/step - loss: 0.4516 - accuracy: 0.7918 - val_loss: 0.4816 - val_accuracy: 0.7633\n",
      "Epoch 73/100\n",
      "487/487 [==============================] - 183s 331ms/step - loss: 0.4494 - accuracy: 0.7897 - val_loss: 0.4725 - val_accuracy: 0.8235\n",
      "Epoch 74/100\n",
      "487/487 [==============================] - 181s 327ms/step - loss: 0.4600 - accuracy: 0.7860 - val_loss: 0.5415 - val_accuracy: 0.8085\n",
      "Epoch 75/100\n",
      "487/487 [==============================] - 180s 326ms/step - loss: 0.4505 - accuracy: 0.7887 - val_loss: 0.4930 - val_accuracy: 0.8126\n",
      "Epoch 76/100\n",
      "487/487 [==============================] - 177s 321ms/step - loss: 0.4198 - accuracy: 0.8140 - val_loss: 0.5131 - val_accuracy: 0.7715\n",
      "Epoch 77/100\n",
      "487/487 [==============================] - 175s 315ms/step - loss: 0.4356 - accuracy: 0.8024 - val_loss: 0.5648 - val_accuracy: 0.7715\n",
      "Epoch 78/100\n",
      "487/487 [==============================] - 174s 313ms/step - loss: 0.4455 - accuracy: 0.7955 - val_loss: 0.4629 - val_accuracy: 0.8167\n",
      "Epoch 79/100\n",
      "487/487 [==============================] - 174s 313ms/step - loss: 0.4407 - accuracy: 0.8027 - val_loss: 0.4508 - val_accuracy: 0.8140\n",
      "Epoch 80/100\n",
      "487/487 [==============================] - 174s 313ms/step - loss: 0.4307 - accuracy: 0.8034 - val_loss: 0.5097 - val_accuracy: 0.7811\n",
      "Epoch 81/100\n",
      "487/487 [==============================] - 174s 313ms/step - loss: 0.4183 - accuracy: 0.8127 - val_loss: 0.4537 - val_accuracy: 0.8085\n",
      "Epoch 82/100\n",
      "487/487 [==============================] - 174s 313ms/step - loss: 0.4419 - accuracy: 0.8048 - val_loss: 0.4807 - val_accuracy: 0.7989\n",
      "Epoch 83/100\n",
      "487/487 [==============================] - 175s 316ms/step - loss: 0.4397 - accuracy: 0.8041 - val_loss: 0.4731 - val_accuracy: 0.8112\n",
      "Epoch 84/100\n",
      "487/487 [==============================] - 175s 315ms/step - loss: 0.4370 - accuracy: 0.8045 - val_loss: 0.4643 - val_accuracy: 0.8071\n",
      "Epoch 85/100\n",
      "487/487 [==============================] - 174s 314ms/step - loss: 0.4328 - accuracy: 0.8058 - val_loss: 0.5138 - val_accuracy: 0.8085\n",
      "Epoch 86/100\n",
      "487/487 [==============================] - 182s 330ms/step - loss: 0.4272 - accuracy: 0.8065 - val_loss: 0.6184 - val_accuracy: 0.7893\n",
      "Epoch 87/100\n",
      "487/487 [==============================] - 187s 339ms/step - loss: 0.4345 - accuracy: 0.8123 - val_loss: 0.4906 - val_accuracy: 0.7633\n",
      "Epoch 88/100\n",
      "487/487 [==============================] - 185s 335ms/step - loss: 0.4166 - accuracy: 0.8116 - val_loss: 0.4716 - val_accuracy: 0.8071\n",
      "Epoch 89/100\n",
      "482/487 [============================>.] - ETA: 1s - loss: 0.4327 - accuracy: 0.7994"
     ]
    },
    {
     "ename": "KeyboardInterrupt",
     "evalue": "",
     "output_type": "error",
     "traceback": [
      "\u001b[1;31m---------------------------------------------------------------------------\u001b[0m",
      "\u001b[1;31mKeyboardInterrupt\u001b[0m                         Traceback (most recent call last)",
      "\u001b[1;32m<ipython-input-4-2d0c69d07c44>\u001b[0m in \u001b[0;36m<module>\u001b[1;34m\u001b[0m\n\u001b[0;32m      1\u001b[0m \u001b[0mconv_model\u001b[0m \u001b[1;33m=\u001b[0m \u001b[0mranking_model\u001b[0m\u001b[1;33m(\u001b[0m\u001b[1;36m224\u001b[0m\u001b[1;33m)\u001b[0m\u001b[1;33m\u001b[0m\u001b[1;33m\u001b[0m\u001b[0m\n\u001b[1;32m----> 2\u001b[1;33m \u001b[0mhistory1\u001b[0m\u001b[1;33m=\u001b[0m\u001b[0mconv_model\u001b[0m\u001b[1;33m.\u001b[0m\u001b[0mfit\u001b[0m\u001b[1;33m(\u001b[0m\u001b[0mdataset_train\u001b[0m\u001b[1;33m,\u001b[0m \u001b[0mvalidation_data\u001b[0m \u001b[1;33m=\u001b[0m \u001b[0mdataset_val\u001b[0m\u001b[1;33m,\u001b[0m \u001b[0mepochs\u001b[0m \u001b[1;33m=\u001b[0m \u001b[1;36m100\u001b[0m\u001b[1;33m)\u001b[0m\u001b[1;33m\u001b[0m\u001b[1;33m\u001b[0m\u001b[0m\n\u001b[0m",
      "\u001b[1;32mc:\\users\\lmacl\\appdata\\local\\programs\\python\\python38\\lib\\site-packages\\tensorflow\\python\\keras\\engine\\training.py\u001b[0m in \u001b[0;36mfit\u001b[1;34m(self, x, y, batch_size, epochs, verbose, callbacks, validation_split, validation_data, shuffle, class_weight, sample_weight, initial_epoch, steps_per_epoch, validation_steps, validation_batch_size, validation_freq, max_queue_size, workers, use_multiprocessing)\u001b[0m\n\u001b[0;32m   1186\u001b[0m               \u001b[0mlogs\u001b[0m \u001b[1;33m=\u001b[0m \u001b[0mtmp_logs\u001b[0m  \u001b[1;31m# No error, now safe to assign to logs.\u001b[0m\u001b[1;33m\u001b[0m\u001b[1;33m\u001b[0m\u001b[0m\n\u001b[0;32m   1187\u001b[0m               \u001b[0mend_step\u001b[0m \u001b[1;33m=\u001b[0m \u001b[0mstep\u001b[0m \u001b[1;33m+\u001b[0m \u001b[0mdata_handler\u001b[0m\u001b[1;33m.\u001b[0m\u001b[0mstep_increment\u001b[0m\u001b[1;33m\u001b[0m\u001b[1;33m\u001b[0m\u001b[0m\n\u001b[1;32m-> 1188\u001b[1;33m               \u001b[0mcallbacks\u001b[0m\u001b[1;33m.\u001b[0m\u001b[0mon_train_batch_end\u001b[0m\u001b[1;33m(\u001b[0m\u001b[0mend_step\u001b[0m\u001b[1;33m,\u001b[0m \u001b[0mlogs\u001b[0m\u001b[1;33m)\u001b[0m\u001b[1;33m\u001b[0m\u001b[1;33m\u001b[0m\u001b[0m\n\u001b[0m\u001b[0;32m   1189\u001b[0m               \u001b[1;32mif\u001b[0m \u001b[0mself\u001b[0m\u001b[1;33m.\u001b[0m\u001b[0mstop_training\u001b[0m\u001b[1;33m:\u001b[0m\u001b[1;33m\u001b[0m\u001b[1;33m\u001b[0m\u001b[0m\n\u001b[0;32m   1190\u001b[0m                 \u001b[1;32mbreak\u001b[0m\u001b[1;33m\u001b[0m\u001b[1;33m\u001b[0m\u001b[0m\n",
      "\u001b[1;32mc:\\users\\lmacl\\appdata\\local\\programs\\python\\python38\\lib\\site-packages\\tensorflow\\python\\keras\\callbacks.py\u001b[0m in \u001b[0;36mon_train_batch_end\u001b[1;34m(self, batch, logs)\u001b[0m\n\u001b[0;32m    455\u001b[0m     \"\"\"\n\u001b[0;32m    456\u001b[0m     \u001b[1;32mif\u001b[0m \u001b[0mself\u001b[0m\u001b[1;33m.\u001b[0m\u001b[0m_should_call_train_batch_hooks\u001b[0m\u001b[1;33m:\u001b[0m\u001b[1;33m\u001b[0m\u001b[1;33m\u001b[0m\u001b[0m\n\u001b[1;32m--> 457\u001b[1;33m       \u001b[0mself\u001b[0m\u001b[1;33m.\u001b[0m\u001b[0m_call_batch_hook\u001b[0m\u001b[1;33m(\u001b[0m\u001b[0mModeKeys\u001b[0m\u001b[1;33m.\u001b[0m\u001b[0mTRAIN\u001b[0m\u001b[1;33m,\u001b[0m \u001b[1;34m'end'\u001b[0m\u001b[1;33m,\u001b[0m \u001b[0mbatch\u001b[0m\u001b[1;33m,\u001b[0m \u001b[0mlogs\u001b[0m\u001b[1;33m=\u001b[0m\u001b[0mlogs\u001b[0m\u001b[1;33m)\u001b[0m\u001b[1;33m\u001b[0m\u001b[1;33m\u001b[0m\u001b[0m\n\u001b[0m\u001b[0;32m    458\u001b[0m \u001b[1;33m\u001b[0m\u001b[0m\n\u001b[0;32m    459\u001b[0m   \u001b[1;32mdef\u001b[0m \u001b[0mon_test_batch_begin\u001b[0m\u001b[1;33m(\u001b[0m\u001b[0mself\u001b[0m\u001b[1;33m,\u001b[0m \u001b[0mbatch\u001b[0m\u001b[1;33m,\u001b[0m \u001b[0mlogs\u001b[0m\u001b[1;33m=\u001b[0m\u001b[1;32mNone\u001b[0m\u001b[1;33m)\u001b[0m\u001b[1;33m:\u001b[0m\u001b[1;33m\u001b[0m\u001b[1;33m\u001b[0m\u001b[0m\n",
      "\u001b[1;32mc:\\users\\lmacl\\appdata\\local\\programs\\python\\python38\\lib\\site-packages\\tensorflow\\python\\keras\\callbacks.py\u001b[0m in \u001b[0;36m_call_batch_hook\u001b[1;34m(self, mode, hook, batch, logs)\u001b[0m\n\u001b[0;32m    315\u001b[0m       \u001b[0mself\u001b[0m\u001b[1;33m.\u001b[0m\u001b[0m_call_batch_begin_hook\u001b[0m\u001b[1;33m(\u001b[0m\u001b[0mmode\u001b[0m\u001b[1;33m,\u001b[0m \u001b[0mbatch\u001b[0m\u001b[1;33m,\u001b[0m \u001b[0mlogs\u001b[0m\u001b[1;33m)\u001b[0m\u001b[1;33m\u001b[0m\u001b[1;33m\u001b[0m\u001b[0m\n\u001b[0;32m    316\u001b[0m     \u001b[1;32melif\u001b[0m \u001b[0mhook\u001b[0m \u001b[1;33m==\u001b[0m \u001b[1;34m'end'\u001b[0m\u001b[1;33m:\u001b[0m\u001b[1;33m\u001b[0m\u001b[1;33m\u001b[0m\u001b[0m\n\u001b[1;32m--> 317\u001b[1;33m       \u001b[0mself\u001b[0m\u001b[1;33m.\u001b[0m\u001b[0m_call_batch_end_hook\u001b[0m\u001b[1;33m(\u001b[0m\u001b[0mmode\u001b[0m\u001b[1;33m,\u001b[0m \u001b[0mbatch\u001b[0m\u001b[1;33m,\u001b[0m \u001b[0mlogs\u001b[0m\u001b[1;33m)\u001b[0m\u001b[1;33m\u001b[0m\u001b[1;33m\u001b[0m\u001b[0m\n\u001b[0m\u001b[0;32m    318\u001b[0m     \u001b[1;32melse\u001b[0m\u001b[1;33m:\u001b[0m\u001b[1;33m\u001b[0m\u001b[1;33m\u001b[0m\u001b[0m\n\u001b[0;32m    319\u001b[0m       \u001b[1;32mraise\u001b[0m \u001b[0mValueError\u001b[0m\u001b[1;33m(\u001b[0m\u001b[1;34m'Unrecognized hook: {}'\u001b[0m\u001b[1;33m.\u001b[0m\u001b[0mformat\u001b[0m\u001b[1;33m(\u001b[0m\u001b[0mhook\u001b[0m\u001b[1;33m)\u001b[0m\u001b[1;33m)\u001b[0m\u001b[1;33m\u001b[0m\u001b[1;33m\u001b[0m\u001b[0m\n",
      "\u001b[1;32mc:\\users\\lmacl\\appdata\\local\\programs\\python\\python38\\lib\\site-packages\\tensorflow\\python\\keras\\callbacks.py\u001b[0m in \u001b[0;36m_call_batch_end_hook\u001b[1;34m(self, mode, batch, logs)\u001b[0m\n\u001b[0;32m    335\u001b[0m       \u001b[0mself\u001b[0m\u001b[1;33m.\u001b[0m\u001b[0m_batch_times\u001b[0m\u001b[1;33m.\u001b[0m\u001b[0mappend\u001b[0m\u001b[1;33m(\u001b[0m\u001b[0mbatch_time\u001b[0m\u001b[1;33m)\u001b[0m\u001b[1;33m\u001b[0m\u001b[1;33m\u001b[0m\u001b[0m\n\u001b[0;32m    336\u001b[0m \u001b[1;33m\u001b[0m\u001b[0m\n\u001b[1;32m--> 337\u001b[1;33m     \u001b[0mself\u001b[0m\u001b[1;33m.\u001b[0m\u001b[0m_call_batch_hook_helper\u001b[0m\u001b[1;33m(\u001b[0m\u001b[0mhook_name\u001b[0m\u001b[1;33m,\u001b[0m \u001b[0mbatch\u001b[0m\u001b[1;33m,\u001b[0m \u001b[0mlogs\u001b[0m\u001b[1;33m)\u001b[0m\u001b[1;33m\u001b[0m\u001b[1;33m\u001b[0m\u001b[0m\n\u001b[0m\u001b[0;32m    338\u001b[0m \u001b[1;33m\u001b[0m\u001b[0m\n\u001b[0;32m    339\u001b[0m     \u001b[1;32mif\u001b[0m \u001b[0mlen\u001b[0m\u001b[1;33m(\u001b[0m\u001b[0mself\u001b[0m\u001b[1;33m.\u001b[0m\u001b[0m_batch_times\u001b[0m\u001b[1;33m)\u001b[0m \u001b[1;33m>=\u001b[0m \u001b[0mself\u001b[0m\u001b[1;33m.\u001b[0m\u001b[0m_num_batches_for_timing_check\u001b[0m\u001b[1;33m:\u001b[0m\u001b[1;33m\u001b[0m\u001b[1;33m\u001b[0m\u001b[0m\n",
      "\u001b[1;32mc:\\users\\lmacl\\appdata\\local\\programs\\python\\python38\\lib\\site-packages\\tensorflow\\python\\keras\\callbacks.py\u001b[0m in \u001b[0;36m_call_batch_hook_helper\u001b[1;34m(self, hook_name, batch, logs)\u001b[0m\n\u001b[0;32m    373\u001b[0m     \u001b[1;32mfor\u001b[0m \u001b[0mcallback\u001b[0m \u001b[1;32min\u001b[0m \u001b[0mself\u001b[0m\u001b[1;33m.\u001b[0m\u001b[0mcallbacks\u001b[0m\u001b[1;33m:\u001b[0m\u001b[1;33m\u001b[0m\u001b[1;33m\u001b[0m\u001b[0m\n\u001b[0;32m    374\u001b[0m       \u001b[0mhook\u001b[0m \u001b[1;33m=\u001b[0m \u001b[0mgetattr\u001b[0m\u001b[1;33m(\u001b[0m\u001b[0mcallback\u001b[0m\u001b[1;33m,\u001b[0m \u001b[0mhook_name\u001b[0m\u001b[1;33m)\u001b[0m\u001b[1;33m\u001b[0m\u001b[1;33m\u001b[0m\u001b[0m\n\u001b[1;32m--> 375\u001b[1;33m       \u001b[0mhook\u001b[0m\u001b[1;33m(\u001b[0m\u001b[0mbatch\u001b[0m\u001b[1;33m,\u001b[0m \u001b[0mlogs\u001b[0m\u001b[1;33m)\u001b[0m\u001b[1;33m\u001b[0m\u001b[1;33m\u001b[0m\u001b[0m\n\u001b[0m\u001b[0;32m    376\u001b[0m \u001b[1;33m\u001b[0m\u001b[0m\n\u001b[0;32m    377\u001b[0m     \u001b[1;32mif\u001b[0m \u001b[0mself\u001b[0m\u001b[1;33m.\u001b[0m\u001b[0m_check_timing\u001b[0m\u001b[1;33m:\u001b[0m\u001b[1;33m\u001b[0m\u001b[1;33m\u001b[0m\u001b[0m\n",
      "\u001b[1;32mc:\\users\\lmacl\\appdata\\local\\programs\\python\\python38\\lib\\site-packages\\tensorflow\\python\\keras\\callbacks.py\u001b[0m in \u001b[0;36mon_train_batch_end\u001b[1;34m(self, batch, logs)\u001b[0m\n\u001b[0;32m   1027\u001b[0m \u001b[1;33m\u001b[0m\u001b[0m\n\u001b[0;32m   1028\u001b[0m   \u001b[1;32mdef\u001b[0m \u001b[0mon_train_batch_end\u001b[0m\u001b[1;33m(\u001b[0m\u001b[0mself\u001b[0m\u001b[1;33m,\u001b[0m \u001b[0mbatch\u001b[0m\u001b[1;33m,\u001b[0m \u001b[0mlogs\u001b[0m\u001b[1;33m=\u001b[0m\u001b[1;32mNone\u001b[0m\u001b[1;33m)\u001b[0m\u001b[1;33m:\u001b[0m\u001b[1;33m\u001b[0m\u001b[1;33m\u001b[0m\u001b[0m\n\u001b[1;32m-> 1029\u001b[1;33m     \u001b[0mself\u001b[0m\u001b[1;33m.\u001b[0m\u001b[0m_batch_update_progbar\u001b[0m\u001b[1;33m(\u001b[0m\u001b[0mbatch\u001b[0m\u001b[1;33m,\u001b[0m \u001b[0mlogs\u001b[0m\u001b[1;33m)\u001b[0m\u001b[1;33m\u001b[0m\u001b[1;33m\u001b[0m\u001b[0m\n\u001b[0m\u001b[0;32m   1030\u001b[0m \u001b[1;33m\u001b[0m\u001b[0m\n\u001b[0;32m   1031\u001b[0m   \u001b[1;32mdef\u001b[0m \u001b[0mon_test_batch_end\u001b[0m\u001b[1;33m(\u001b[0m\u001b[0mself\u001b[0m\u001b[1;33m,\u001b[0m \u001b[0mbatch\u001b[0m\u001b[1;33m,\u001b[0m \u001b[0mlogs\u001b[0m\u001b[1;33m=\u001b[0m\u001b[1;32mNone\u001b[0m\u001b[1;33m)\u001b[0m\u001b[1;33m:\u001b[0m\u001b[1;33m\u001b[0m\u001b[1;33m\u001b[0m\u001b[0m\n",
      "\u001b[1;32mc:\\users\\lmacl\\appdata\\local\\programs\\python\\python38\\lib\\site-packages\\tensorflow\\python\\keras\\callbacks.py\u001b[0m in \u001b[0;36m_batch_update_progbar\u001b[1;34m(self, batch, logs)\u001b[0m\n\u001b[0;32m   1099\u001b[0m     \u001b[1;32mif\u001b[0m \u001b[0mself\u001b[0m\u001b[1;33m.\u001b[0m\u001b[0mverbose\u001b[0m \u001b[1;33m==\u001b[0m \u001b[1;36m1\u001b[0m\u001b[1;33m:\u001b[0m\u001b[1;33m\u001b[0m\u001b[1;33m\u001b[0m\u001b[0m\n\u001b[0;32m   1100\u001b[0m       \u001b[1;31m# Only block async when verbose = 1.\u001b[0m\u001b[1;33m\u001b[0m\u001b[1;33m\u001b[0m\u001b[1;33m\u001b[0m\u001b[0m\n\u001b[1;32m-> 1101\u001b[1;33m       \u001b[0mlogs\u001b[0m \u001b[1;33m=\u001b[0m \u001b[0mtf_utils\u001b[0m\u001b[1;33m.\u001b[0m\u001b[0msync_to_numpy_or_python_type\u001b[0m\u001b[1;33m(\u001b[0m\u001b[0mlogs\u001b[0m\u001b[1;33m)\u001b[0m\u001b[1;33m\u001b[0m\u001b[1;33m\u001b[0m\u001b[0m\n\u001b[0m\u001b[0;32m   1102\u001b[0m       \u001b[0mself\u001b[0m\u001b[1;33m.\u001b[0m\u001b[0mprogbar\u001b[0m\u001b[1;33m.\u001b[0m\u001b[0mupdate\u001b[0m\u001b[1;33m(\u001b[0m\u001b[0mself\u001b[0m\u001b[1;33m.\u001b[0m\u001b[0mseen\u001b[0m\u001b[1;33m,\u001b[0m \u001b[0mlist\u001b[0m\u001b[1;33m(\u001b[0m\u001b[0mlogs\u001b[0m\u001b[1;33m.\u001b[0m\u001b[0mitems\u001b[0m\u001b[1;33m(\u001b[0m\u001b[1;33m)\u001b[0m\u001b[1;33m)\u001b[0m\u001b[1;33m,\u001b[0m \u001b[0mfinalize\u001b[0m\u001b[1;33m=\u001b[0m\u001b[1;32mFalse\u001b[0m\u001b[1;33m)\u001b[0m\u001b[1;33m\u001b[0m\u001b[1;33m\u001b[0m\u001b[0m\n\u001b[0;32m   1103\u001b[0m \u001b[1;33m\u001b[0m\u001b[0m\n",
      "\u001b[1;32mc:\\users\\lmacl\\appdata\\local\\programs\\python\\python38\\lib\\site-packages\\tensorflow\\python\\keras\\utils\\tf_utils.py\u001b[0m in \u001b[0;36msync_to_numpy_or_python_type\u001b[1;34m(tensors)\u001b[0m\n\u001b[0;32m    517\u001b[0m     \u001b[1;32mreturn\u001b[0m \u001b[0mt\u001b[0m  \u001b[1;31m# Don't turn ragged or sparse tensors to NumPy.\u001b[0m\u001b[1;33m\u001b[0m\u001b[1;33m\u001b[0m\u001b[0m\n\u001b[0;32m    518\u001b[0m \u001b[1;33m\u001b[0m\u001b[0m\n\u001b[1;32m--> 519\u001b[1;33m   \u001b[1;32mreturn\u001b[0m \u001b[0mnest\u001b[0m\u001b[1;33m.\u001b[0m\u001b[0mmap_structure\u001b[0m\u001b[1;33m(\u001b[0m\u001b[0m_to_single_numpy_or_python_type\u001b[0m\u001b[1;33m,\u001b[0m \u001b[0mtensors\u001b[0m\u001b[1;33m)\u001b[0m\u001b[1;33m\u001b[0m\u001b[1;33m\u001b[0m\u001b[0m\n\u001b[0m\u001b[0;32m    520\u001b[0m \u001b[1;33m\u001b[0m\u001b[0m\n\u001b[0;32m    521\u001b[0m \u001b[1;33m\u001b[0m\u001b[0m\n",
      "\u001b[1;32mc:\\users\\lmacl\\appdata\\local\\programs\\python\\python38\\lib\\site-packages\\tensorflow\\python\\util\\nest.py\u001b[0m in \u001b[0;36mmap_structure\u001b[1;34m(func, *structure, **kwargs)\u001b[0m\n\u001b[0;32m    865\u001b[0m \u001b[1;33m\u001b[0m\u001b[0m\n\u001b[0;32m    866\u001b[0m   return pack_sequence_as(\n\u001b[1;32m--> 867\u001b[1;33m       \u001b[0mstructure\u001b[0m\u001b[1;33m[\u001b[0m\u001b[1;36m0\u001b[0m\u001b[1;33m]\u001b[0m\u001b[1;33m,\u001b[0m \u001b[1;33m[\u001b[0m\u001b[0mfunc\u001b[0m\u001b[1;33m(\u001b[0m\u001b[1;33m*\u001b[0m\u001b[0mx\u001b[0m\u001b[1;33m)\u001b[0m \u001b[1;32mfor\u001b[0m \u001b[0mx\u001b[0m \u001b[1;32min\u001b[0m \u001b[0mentries\u001b[0m\u001b[1;33m]\u001b[0m\u001b[1;33m,\u001b[0m\u001b[1;33m\u001b[0m\u001b[1;33m\u001b[0m\u001b[0m\n\u001b[0m\u001b[0;32m    868\u001b[0m       expand_composites=expand_composites)\n\u001b[0;32m    869\u001b[0m \u001b[1;33m\u001b[0m\u001b[0m\n",
      "\u001b[1;32mc:\\users\\lmacl\\appdata\\local\\programs\\python\\python38\\lib\\site-packages\\tensorflow\\python\\util\\nest.py\u001b[0m in \u001b[0;36m<listcomp>\u001b[1;34m(.0)\u001b[0m\n\u001b[0;32m    865\u001b[0m \u001b[1;33m\u001b[0m\u001b[0m\n\u001b[0;32m    866\u001b[0m   return pack_sequence_as(\n\u001b[1;32m--> 867\u001b[1;33m       \u001b[0mstructure\u001b[0m\u001b[1;33m[\u001b[0m\u001b[1;36m0\u001b[0m\u001b[1;33m]\u001b[0m\u001b[1;33m,\u001b[0m \u001b[1;33m[\u001b[0m\u001b[0mfunc\u001b[0m\u001b[1;33m(\u001b[0m\u001b[1;33m*\u001b[0m\u001b[0mx\u001b[0m\u001b[1;33m)\u001b[0m \u001b[1;32mfor\u001b[0m \u001b[0mx\u001b[0m \u001b[1;32min\u001b[0m \u001b[0mentries\u001b[0m\u001b[1;33m]\u001b[0m\u001b[1;33m,\u001b[0m\u001b[1;33m\u001b[0m\u001b[1;33m\u001b[0m\u001b[0m\n\u001b[0m\u001b[0;32m    868\u001b[0m       expand_composites=expand_composites)\n\u001b[0;32m    869\u001b[0m \u001b[1;33m\u001b[0m\u001b[0m\n",
      "\u001b[1;32mc:\\users\\lmacl\\appdata\\local\\programs\\python\\python38\\lib\\site-packages\\tensorflow\\python\\keras\\utils\\tf_utils.py\u001b[0m in \u001b[0;36m_to_single_numpy_or_python_type\u001b[1;34m(t)\u001b[0m\n\u001b[0;32m    513\u001b[0m   \u001b[1;32mdef\u001b[0m \u001b[0m_to_single_numpy_or_python_type\u001b[0m\u001b[1;33m(\u001b[0m\u001b[0mt\u001b[0m\u001b[1;33m)\u001b[0m\u001b[1;33m:\u001b[0m\u001b[1;33m\u001b[0m\u001b[1;33m\u001b[0m\u001b[0m\n\u001b[0;32m    514\u001b[0m     \u001b[1;32mif\u001b[0m \u001b[0misinstance\u001b[0m\u001b[1;33m(\u001b[0m\u001b[0mt\u001b[0m\u001b[1;33m,\u001b[0m \u001b[0mops\u001b[0m\u001b[1;33m.\u001b[0m\u001b[0mTensor\u001b[0m\u001b[1;33m)\u001b[0m\u001b[1;33m:\u001b[0m\u001b[1;33m\u001b[0m\u001b[1;33m\u001b[0m\u001b[0m\n\u001b[1;32m--> 515\u001b[1;33m       \u001b[0mx\u001b[0m \u001b[1;33m=\u001b[0m \u001b[0mt\u001b[0m\u001b[1;33m.\u001b[0m\u001b[0mnumpy\u001b[0m\u001b[1;33m(\u001b[0m\u001b[1;33m)\u001b[0m\u001b[1;33m\u001b[0m\u001b[1;33m\u001b[0m\u001b[0m\n\u001b[0m\u001b[0;32m    516\u001b[0m       \u001b[1;32mreturn\u001b[0m \u001b[0mx\u001b[0m\u001b[1;33m.\u001b[0m\u001b[0mitem\u001b[0m\u001b[1;33m(\u001b[0m\u001b[1;33m)\u001b[0m \u001b[1;32mif\u001b[0m \u001b[0mnp\u001b[0m\u001b[1;33m.\u001b[0m\u001b[0mndim\u001b[0m\u001b[1;33m(\u001b[0m\u001b[0mx\u001b[0m\u001b[1;33m)\u001b[0m \u001b[1;33m==\u001b[0m \u001b[1;36m0\u001b[0m \u001b[1;32melse\u001b[0m \u001b[0mx\u001b[0m\u001b[1;33m\u001b[0m\u001b[1;33m\u001b[0m\u001b[0m\n\u001b[0;32m    517\u001b[0m     \u001b[1;32mreturn\u001b[0m \u001b[0mt\u001b[0m  \u001b[1;31m# Don't turn ragged or sparse tensors to NumPy.\u001b[0m\u001b[1;33m\u001b[0m\u001b[1;33m\u001b[0m\u001b[0m\n",
      "\u001b[1;32mc:\\users\\lmacl\\appdata\\local\\programs\\python\\python38\\lib\\site-packages\\tensorflow\\python\\framework\\ops.py\u001b[0m in \u001b[0;36mnumpy\u001b[1;34m(self)\u001b[0m\n\u001b[0;32m   1092\u001b[0m     \"\"\"\n\u001b[0;32m   1093\u001b[0m     \u001b[1;31m# TODO(slebedev): Consider avoiding a copy for non-CPU or remote tensors.\u001b[0m\u001b[1;33m\u001b[0m\u001b[1;33m\u001b[0m\u001b[1;33m\u001b[0m\u001b[0m\n\u001b[1;32m-> 1094\u001b[1;33m     \u001b[0mmaybe_arr\u001b[0m \u001b[1;33m=\u001b[0m \u001b[0mself\u001b[0m\u001b[1;33m.\u001b[0m\u001b[0m_numpy\u001b[0m\u001b[1;33m(\u001b[0m\u001b[1;33m)\u001b[0m  \u001b[1;31m# pylint: disable=protected-access\u001b[0m\u001b[1;33m\u001b[0m\u001b[1;33m\u001b[0m\u001b[0m\n\u001b[0m\u001b[0;32m   1095\u001b[0m     \u001b[1;32mreturn\u001b[0m \u001b[0mmaybe_arr\u001b[0m\u001b[1;33m.\u001b[0m\u001b[0mcopy\u001b[0m\u001b[1;33m(\u001b[0m\u001b[1;33m)\u001b[0m \u001b[1;32mif\u001b[0m \u001b[0misinstance\u001b[0m\u001b[1;33m(\u001b[0m\u001b[0mmaybe_arr\u001b[0m\u001b[1;33m,\u001b[0m \u001b[0mnp\u001b[0m\u001b[1;33m.\u001b[0m\u001b[0mndarray\u001b[0m\u001b[1;33m)\u001b[0m \u001b[1;32melse\u001b[0m \u001b[0mmaybe_arr\u001b[0m\u001b[1;33m\u001b[0m\u001b[1;33m\u001b[0m\u001b[0m\n\u001b[0;32m   1096\u001b[0m \u001b[1;33m\u001b[0m\u001b[0m\n",
      "\u001b[1;32mc:\\users\\lmacl\\appdata\\local\\programs\\python\\python38\\lib\\site-packages\\tensorflow\\python\\framework\\ops.py\u001b[0m in \u001b[0;36m_numpy\u001b[1;34m(self)\u001b[0m\n\u001b[0;32m   1058\u001b[0m   \u001b[1;32mdef\u001b[0m \u001b[0m_numpy\u001b[0m\u001b[1;33m(\u001b[0m\u001b[0mself\u001b[0m\u001b[1;33m)\u001b[0m\u001b[1;33m:\u001b[0m\u001b[1;33m\u001b[0m\u001b[1;33m\u001b[0m\u001b[0m\n\u001b[0;32m   1059\u001b[0m     \u001b[1;32mtry\u001b[0m\u001b[1;33m:\u001b[0m\u001b[1;33m\u001b[0m\u001b[1;33m\u001b[0m\u001b[0m\n\u001b[1;32m-> 1060\u001b[1;33m       \u001b[1;32mreturn\u001b[0m \u001b[0mself\u001b[0m\u001b[1;33m.\u001b[0m\u001b[0m_numpy_internal\u001b[0m\u001b[1;33m(\u001b[0m\u001b[1;33m)\u001b[0m\u001b[1;33m\u001b[0m\u001b[1;33m\u001b[0m\u001b[0m\n\u001b[0m\u001b[0;32m   1061\u001b[0m     \u001b[1;32mexcept\u001b[0m \u001b[0mcore\u001b[0m\u001b[1;33m.\u001b[0m\u001b[0m_NotOkStatusException\u001b[0m \u001b[1;32mas\u001b[0m \u001b[0me\u001b[0m\u001b[1;33m:\u001b[0m  \u001b[1;31m# pylint: disable=protected-access\u001b[0m\u001b[1;33m\u001b[0m\u001b[1;33m\u001b[0m\u001b[0m\n\u001b[0;32m   1062\u001b[0m       \u001b[0msix\u001b[0m\u001b[1;33m.\u001b[0m\u001b[0mraise_from\u001b[0m\u001b[1;33m(\u001b[0m\u001b[0mcore\u001b[0m\u001b[1;33m.\u001b[0m\u001b[0m_status_to_exception\u001b[0m\u001b[1;33m(\u001b[0m\u001b[0me\u001b[0m\u001b[1;33m.\u001b[0m\u001b[0mcode\u001b[0m\u001b[1;33m,\u001b[0m \u001b[0me\u001b[0m\u001b[1;33m.\u001b[0m\u001b[0mmessage\u001b[0m\u001b[1;33m)\u001b[0m\u001b[1;33m,\u001b[0m \u001b[1;32mNone\u001b[0m\u001b[1;33m)\u001b[0m  \u001b[1;31m# pylint: disable=protected-access\u001b[0m\u001b[1;33m\u001b[0m\u001b[1;33m\u001b[0m\u001b[0m\n",
      "\u001b[1;31mKeyboardInterrupt\u001b[0m: "
     ]
    }
   ],
   "source": [
    "conv_model = ranking_model(224)\n",
    "history1=conv_model.fit(dataset_train, validation_data = dataset_val, epochs = 100)"
   ]
  },
  {
   "cell_type": "raw",
   "id": "fe528a5e",
   "metadata": {
    "scrolled": true
   },
   "source": [
    "#conv_model = comparisons_model(224)\n",
    "\n",
    "tuner = kt.Hyperband(comparisons_model,\n",
    "                     objective='val_accuracy',\n",
    "                     max_epochs=25,\n",
    "                     factor=3,\n",
    "                     directory='Z:/tuner',\n",
    "                     project_name='jad_model_hp_layer_freeze2')\n",
    "\n",
    "stop_early = tf.keras.callbacks.EarlyStopping(monitor='val_loss', patience=5)\n",
    "\n",
    "#history1=conv_model.fit(dataset_train, validation_data = dataset_val, epochs = 100)\n",
    "tuner.search(dataset_train, validation_data = dataset_val, epochs=500, callbacks=[stop_early], verbose=2)\n",
    "\n",
    "# Get the optimal hyperparameters\n",
    "best_hps=tuner.get_best_hyperparameters(num_trials=1)[0]"
   ]
  },
  {
   "cell_type": "raw",
   "id": "53fb426a",
   "metadata": {},
   "source": [
    "model = tuner.hypermodel.build(best_hps)\n",
    "history=model.fit(dataset_train, validation_data = dataset_val, epochs = 125)"
   ]
  },
  {
   "cell_type": "raw",
   "id": "1505fe2b",
   "metadata": {
    "scrolled": true
   },
   "source": [
    "plt.plot(history.history['val_accuracy'])\n",
    "plt.plot(history.history['val_loss'])"
   ]
  },
  {
   "cell_type": "raw",
   "id": "65bbeb96",
   "metadata": {},
   "source": [
    "best_hps.get(\"learning_rate\")\n",
    "best_hps.get(\"layers_frozen\")"
   ]
  },
  {
   "cell_type": "code",
   "execution_count": 6,
   "id": "bad07bb5",
   "metadata": {},
   "outputs": [
    {
     "name": "stderr",
     "output_type": "stream",
     "text": [
      "c:\\users\\lmacl\\appdata\\local\\programs\\python\\python38\\lib\\site-packages\\tensorflow\\python\\keras\\utils\\generic_utils.py:494: CustomMaskWarning: Custom mask layers require a config and must override get_config. When loading, the custom mask layer must be passed to the custom_objects argument.\n",
      "  warnings.warn('Custom mask layers require a config and must override '\n"
     ]
    },
    {
     "name": "stdout",
     "output_type": "stream",
     "text": [
      "INFO:tensorflow:Assets written to: Z:/ranking_model.h\\assets\n"
     ]
    }
   ],
   "source": [
    "conv_model.save_weights(\"Z:/ranking_model_weights.h\")\n",
    "conv_model.save(\"Z:/ranking_model.h\")"
   ]
  },
  {
   "cell_type": "code",
   "execution_count": 7,
   "id": "8b1ff5eb",
   "metadata": {},
   "outputs": [
    {
     "data": {
      "text/plain": [
       "3"
      ]
     },
     "execution_count": 7,
     "metadata": {},
     "output_type": "execute_result"
    }
   ],
   "source": [
    "3"
   ]
  },
  {
   "cell_type": "code",
   "execution_count": null,
   "id": "025f0b48",
   "metadata": {},
   "outputs": [],
   "source": []
  }
 ],
 "metadata": {
  "kernelspec": {
   "display_name": "Python 3",
   "language": "python",
   "name": "python3"
  },
  "language_info": {
   "codemirror_mode": {
    "name": "ipython",
    "version": 3
   },
   "file_extension": ".py",
   "mimetype": "text/x-python",
   "name": "python",
   "nbconvert_exporter": "python",
   "pygments_lexer": "ipython3",
   "version": "3.8.0"
  }
 },
 "nbformat": 4,
 "nbformat_minor": 5
}
