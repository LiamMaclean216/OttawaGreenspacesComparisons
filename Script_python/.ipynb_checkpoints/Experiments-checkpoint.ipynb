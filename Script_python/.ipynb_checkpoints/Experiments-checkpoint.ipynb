{
 "cells": [
  {
   "cell_type": "code",
   "execution_count": 1,
   "id": "6deeb5ef",
   "metadata": {},
   "outputs": [
    {
     "name": "stdout",
     "output_type": "stream",
     "text": [
      "Imports\n"
     ]
    }
   ],
   "source": [
    "print(\"Imports\")\n",
    "from keras.models import load_model\n",
    "from Class_Image import Image\n",
    "from os.path import abspath\n",
    "from Class_training import *\n",
    "from Model_comparisons import *\n",
    "from os.path import abspath, join\n",
    "import numpy as np\n",
    "\n",
    "import matplotlib.pyplot as plt\n",
    "import tensorflow as tf\n",
    "from tensorflow.keras.applications import VGG19\n",
    "#import keras\n",
    "from tensorflow.keras import Input, Model\n",
    "from keras.preprocessing.image import ImageDataGenerator\n",
    "\n",
    "%matplotlib inline"
   ]
  },
  {
   "cell_type": "code",
   "execution_count": 2,
   "id": "d7c97df4",
   "metadata": {},
   "outputs": [],
   "source": [
    "def map_fn(serialized_example):\n",
    "    feature = {\n",
    "        'data_label': tf.io.FixedLenFeature([2], tf.int64),\n",
    "        'data_right': tf.io.FixedLenFeature([150528], tf.int64),\n",
    "        'data_left': tf.io.FixedLenFeature([150528], tf.int64),\n",
    "    }\n",
    "    \n",
    "    ex = tf.io.parse_single_example(serialized_example, feature)\n",
    "    return ex, ex['data_label']"
   ]
  },
  {
   "cell_type": "raw",
   "id": "60f9721d",
   "metadata": {},
   "source": [
    "dataset_val = tf.data.TFRecordDataset((\n",
    "    'Z:/Comparison_1_npy/data_val.tfrecord',\n",
    "    'Z:/Comparison_2_npy/data_val.tfrecord',\n",
    "    'Z:/Comparison_3_npy/data_val.tfrecord',\n",
    "    'Z:/Comparison_4_npy/data_val.tfrecord'\n",
    ")\n",
    ")\n",
    "dataset_train = tf.data.TFRecordDataset((\n",
    "    'Z:/Comparison_1_npy/data_train.tfrecord',\n",
    "    'Z:/Comparison_2_npy/data_train.tfrecord',\n",
    "    'Z:/Comparison_3_npy/data_train.tfrecord',\n",
    "    'Z:/Comparison_4_npy/data_train.tfrecord'\n",
    ")\n",
    ")\n",
    "\n",
    "dataset_train = dataset_train.map(map_fn)\n",
    "dataset_train = dataset_train.shuffle(2048, reshuffle_each_iteration = True)\n",
    "dataset_train = dataset_train.prefetch(buffer_size=tf.data.AUTOTUNE)\n",
    "dataset_train = dataset_train.batch(6)\n",
    "\n",
    "dataset_val = dataset_val.map(map_fn)\n",
    "#dataset_val = dataset_val.shuffle(2048)\n",
    "dataset_val = dataset_val.prefetch(buffer_size=tf.data.AUTOTUNE)\n",
    "dataset_val = dataset_val.batch(6)"
   ]
  },
  {
   "cell_type": "code",
   "execution_count": 3,
   "id": "3be244b0",
   "metadata": {},
   "outputs": [],
   "source": [
    "conv_model = comparisons_model(224)"
   ]
  },
  {
   "cell_type": "raw",
   "id": "0e38ed65",
   "metadata": {
    "scrolled": true
   },
   "source": [
    "history=conv_model.fit(dataset_train, validation_data = dataset_val, epochs = 200)"
   ]
  },
  {
   "cell_type": "raw",
   "id": "7033cc40",
   "metadata": {},
   "source": [
    "conv_model.save_weights(\"Z:/all_questions_VGG19_weights.h5\")\n",
    "conv_model.save(\"Z:/all_questions_VGG19.h5\")"
   ]
  },
  {
   "cell_type": "raw",
   "id": "0004a70f",
   "metadata": {},
   "source": [
    "for l in conv_model.layers:\n",
    "    l.trainable = True"
   ]
  },
  {
   "cell_type": "code",
   "execution_count": 4,
   "id": "cbc472fb",
   "metadata": {},
   "outputs": [],
   "source": [
    "dataset_val = tf.data.TFRecordDataset((\n",
    "    'Z:/Comparison_1_npy/data_val.tfrecord'\n",
    ")\n",
    ")\n",
    "dataset_train = tf.data.TFRecordDataset((\n",
    "    'Z:/Comparison_1_npy/data_train.tfrecord', \n",
    "    #'Z:/data_train_synthetic.tfrecord'\n",
    ")\n",
    ")\n",
    "\n",
    "dataset_train = dataset_train.map(map_fn)\n",
    "dataset_train = dataset_train.shuffle(2048, reshuffle_each_iteration = True)\n",
    "dataset_train = dataset_train.prefetch(buffer_size=tf.data.AUTOTUNE)\n",
    "dataset_train = dataset_train.batch(6)\n",
    "\n",
    "dataset_val = dataset_val.map(map_fn)\n",
    "#dataset_val = dataset_val.shuffle(2048)\n",
    "dataset_val = dataset_val.prefetch(buffer_size=tf.data.AUTOTUNE)\n",
    "dataset_val = dataset_val.batch(6)"
   ]
  },
  {
   "cell_type": "raw",
   "id": "fe678579",
   "metadata": {},
   "source": [
    "for layer in conv_model.get_layer(\"vgg19\").layers[:-8]:\n",
    "    layer.trainable = False"
   ]
  },
  {
   "cell_type": "code",
   "execution_count": 5,
   "id": "d7b5aca9",
   "metadata": {
    "scrolled": true
   },
   "outputs": [
    {
     "name": "stdout",
     "output_type": "stream",
     "text": [
      "Epoch 1/100\n"
     ]
    },
    {
     "name": "stderr",
     "output_type": "stream",
     "text": [
      "c:\\users\\lmacl\\appdata\\local\\programs\\python\\python38\\lib\\site-packages\\tensorflow\\python\\keras\\engine\\functional.py:588: UserWarning: Input dict contained keys ['data_label'] which did not match any model input. They will be ignored by the model.\n",
      "  warnings.warn(\n"
     ]
    },
    {
     "name": "stdout",
     "output_type": "stream",
     "text": [
      "1010/1010 [==============================] - 336s 294ms/step - loss: 1.4099 - accuracy: 0.4950 - val_loss: 0.9426 - val_accuracy: 0.5294\n",
      "Epoch 2/100\n",
      "1010/1010 [==============================] - 313s 289ms/step - loss: 1.2430 - accuracy: 0.5119 - val_loss: 0.7203 - val_accuracy: 0.5021\n",
      "Epoch 3/100\n",
      "1010/1010 [==============================] - 324s 293ms/step - loss: 1.2215 - accuracy: 0.5050 - val_loss: 0.7882 - val_accuracy: 0.4884\n",
      "Epoch 4/100\n",
      "1010/1010 [==============================] - 312s 280ms/step - loss: 1.1856 - accuracy: 0.5073 - val_loss: 0.7609 - val_accuracy: 0.4391\n",
      "Epoch 5/100\n",
      "1010/1010 [==============================] - 315s 284ms/step - loss: 1.1135 - accuracy: 0.5094 - val_loss: 0.7119 - val_accuracy: 0.4364\n",
      "Epoch 6/100\n",
      "1010/1010 [==============================] - 312s 284ms/step - loss: 1.0454 - accuracy: 0.5003 - val_loss: 0.6631 - val_accuracy: 0.6347\n",
      "Epoch 7/100\n",
      "1010/1010 [==============================] - 312s 285ms/step - loss: 0.9566 - accuracy: 0.5071 - val_loss: 0.6976 - val_accuracy: 0.4733\n",
      "Epoch 8/100\n",
      "1010/1010 [==============================] - 327s 300ms/step - loss: 0.8918 - accuracy: 0.5091 - val_loss: 0.6959 - val_accuracy: 0.4856\n",
      "Epoch 9/100\n",
      "1010/1010 [==============================] - 370s 295ms/step - loss: 0.8245 - accuracy: 0.5226 - val_loss: 0.7004 - val_accuracy: 0.4720\n",
      "Epoch 10/100\n",
      "1010/1010 [==============================] - 364s 298ms/step - loss: 0.7918 - accuracy: 0.5408 - val_loss: 0.7018 - val_accuracy: 0.4514\n",
      "Epoch 11/100\n",
      "1010/1010 [==============================] - 374s 296ms/step - loss: 0.7828 - accuracy: 0.5443 - val_loss: 0.8687 - val_accuracy: 0.3707\n",
      "Epoch 12/100\n",
      "1010/1010 [==============================] - 354s 283ms/step - loss: 0.7457 - accuracy: 0.5471 - val_loss: 0.6984 - val_accuracy: 0.4514\n",
      "Epoch 13/100\n",
      "1010/1010 [==============================] - 306s 279ms/step - loss: 0.6837 - accuracy: 0.5781 - val_loss: 0.6980 - val_accuracy: 0.4665\n",
      "Epoch 14/100\n",
      "1010/1010 [==============================] - 310s 282ms/step - loss: 0.6650 - accuracy: 0.5999 - val_loss: 0.7097 - val_accuracy: 0.5663\n",
      "Epoch 15/100\n",
      "1010/1010 [==============================] - 345s 317ms/step - loss: 0.6717 - accuracy: 0.5872 - val_loss: 0.6968 - val_accuracy: 0.4665\n",
      "Epoch 16/100\n",
      "1010/1010 [==============================] - 369s 313ms/step - loss: 0.6500 - accuracy: 0.6027 - val_loss: 0.6940 - val_accuracy: 0.4856\n",
      "Epoch 17/100\n",
      "1010/1010 [==============================] - 365s 303ms/step - loss: 0.6199 - accuracy: 0.6171 - val_loss: 0.6954 - val_accuracy: 0.4665\n",
      "Epoch 18/100\n",
      "1010/1010 [==============================] - 364s 298ms/step - loss: 0.6002 - accuracy: 0.6247 - val_loss: 0.6958 - val_accuracy: 0.4514\n",
      "Epoch 19/100\n",
      "1010/1010 [==============================] - 374s 309ms/step - loss: 0.5844 - accuracy: 0.6273 - val_loss: 0.7005 - val_accuracy: 0.4555\n",
      "Epoch 20/100\n",
      "1010/1010 [==============================] - 341s 273ms/step - loss: 0.5868 - accuracy: 0.6283 - val_loss: 1.0913 - val_accuracy: 0.5021\n",
      "Epoch 21/100\n",
      "1010/1010 [==============================] - 341s 276ms/step - loss: 0.5902 - accuracy: 0.6245 - val_loss: 0.6949 - val_accuracy: 0.4651\n",
      "Epoch 22/100\n",
      "1010/1010 [==============================] - 342s 274ms/step - loss: 0.5585 - accuracy: 0.6402 - val_loss: 0.6937 - val_accuracy: 0.4624\n",
      "Epoch 23/100\n",
      "1010/1010 [==============================] - 288s 261ms/step - loss: 0.5539 - accuracy: 0.6367 - val_loss: 0.6941 - val_accuracy: 0.4665\n",
      "Epoch 24/100\n",
      "1010/1010 [==============================] - 287s 260ms/step - loss: 0.5410 - accuracy: 0.6478 - val_loss: 0.6938 - val_accuracy: 0.4665\n",
      "Epoch 25/100\n",
      "1010/1010 [==============================] - 285s 258ms/step - loss: 0.5314 - accuracy: 0.6407 - val_loss: 0.6946 - val_accuracy: 0.4679\n",
      "Epoch 26/100\n",
      "1010/1010 [==============================] - 285s 258ms/step - loss: 0.5340 - accuracy: 0.6417 - val_loss: 0.6948 - val_accuracy: 0.4665\n",
      "Epoch 27/100\n",
      "1010/1010 [==============================] - 285s 258ms/step - loss: 0.5355 - accuracy: 0.6465 - val_loss: 0.7596 - val_accuracy: 0.6252\n",
      "Epoch 28/100\n",
      "1010/1010 [==============================] - 298s 272ms/step - loss: 0.5376 - accuracy: 0.6380 - val_loss: 0.6958 - val_accuracy: 0.4679\n",
      "Epoch 29/100\n",
      "1010/1010 [==============================] - 350s 284ms/step - loss: 0.5316 - accuracy: 0.6412 - val_loss: 0.6936 - val_accuracy: 0.4679\n",
      "Epoch 30/100\n",
      "1010/1010 [==============================] - 386s 309ms/step - loss: 0.5282 - accuracy: 0.6422 - val_loss: 0.6927 - val_accuracy: 0.4938\n",
      "Epoch 31/100\n",
      "1010/1010 [==============================] - 350s 284ms/step - loss: 0.5244 - accuracy: 0.6455 - val_loss: 0.6935 - val_accuracy: 0.4651\n",
      "Epoch 32/100\n",
      "1010/1010 [==============================] - 343s 281ms/step - loss: 0.5193 - accuracy: 0.6653 - val_loss: 0.6955 - val_accuracy: 0.7018\n",
      "Epoch 33/100\n",
      "1010/1010 [==============================] - 347s 284ms/step - loss: 0.5254 - accuracy: 0.6521 - val_loss: 0.7025 - val_accuracy: 0.6334\n",
      "Epoch 34/100\n",
      "1010/1010 [==============================] - 353s 287ms/step - loss: 0.5227 - accuracy: 0.6603 - val_loss: 0.6967 - val_accuracy: 0.4802\n",
      "Epoch 35/100\n",
      "1010/1010 [==============================] - 305s 278ms/step - loss: 0.5177 - accuracy: 0.6499 - val_loss: 0.6969 - val_accuracy: 0.4692\n",
      "Epoch 36/100\n",
      "1010/1010 [==============================] - 293s 266ms/step - loss: 0.5259 - accuracy: 0.6559 - val_loss: 0.7155 - val_accuracy: 0.4720\n",
      "Epoch 37/100\n",
      "1010/1010 [==============================] - 297s 270ms/step - loss: 0.5166 - accuracy: 0.6554 - val_loss: 0.6958 - val_accuracy: 0.4733\n",
      "Epoch 38/100\n",
      "1010/1010 [==============================] - 309s 282ms/step - loss: 0.5172 - accuracy: 0.6641 - val_loss: 0.6920 - val_accuracy: 0.4679\n",
      "Epoch 39/100\n",
      "1010/1010 [==============================] - 354s 285ms/step - loss: 0.5118 - accuracy: 0.6589 - val_loss: 0.7108 - val_accuracy: 0.4665\n",
      "Epoch 40/100\n",
      "1010/1010 [==============================] - 352s 286ms/step - loss: 0.5188 - accuracy: 0.6564 - val_loss: 0.6933 - val_accuracy: 0.4679\n",
      "Epoch 41/100\n",
      "1010/1010 [==============================] - 353s 288ms/step - loss: 0.5185 - accuracy: 0.6539 - val_loss: 0.7015 - val_accuracy: 0.4665\n",
      "Epoch 42/100\n",
      "1010/1010 [==============================] - 364s 299ms/step - loss: 0.5124 - accuracy: 0.6597 - val_loss: 0.6967 - val_accuracy: 0.4788\n",
      "Epoch 43/100\n",
      "1010/1010 [==============================] - 357s 289ms/step - loss: 0.5079 - accuracy: 0.6691 - val_loss: 0.6918 - val_accuracy: 0.4720\n",
      "Epoch 44/100\n",
      "1010/1010 [==============================] - 358s 290ms/step - loss: 0.5093 - accuracy: 0.6681 - val_loss: 0.6996 - val_accuracy: 0.4651\n",
      "Epoch 45/100\n",
      "1010/1010 [==============================] - 327s 299ms/step - loss: 0.5052 - accuracy: 0.6762 - val_loss: 0.7167 - val_accuracy: 0.5568\n",
      "Epoch 46/100\n",
      "1010/1010 [==============================] - 309s 282ms/step - loss: 0.5066 - accuracy: 0.6658 - val_loss: 0.7105 - val_accuracy: 0.4720\n",
      "Epoch 47/100\n",
      "1010/1010 [==============================] - 307s 281ms/step - loss: 0.5008 - accuracy: 0.6772 - val_loss: 0.6962 - val_accuracy: 0.4692\n",
      "Epoch 48/100\n",
      "1010/1010 [==============================] - 309s 282ms/step - loss: 0.5060 - accuracy: 0.6638 - val_loss: 0.7329 - val_accuracy: 0.4747\n",
      "Epoch 49/100\n",
      "1010/1010 [==============================] - ETA: 0s - loss: 0.5104 - accuracy: 0.6734"
     ]
    },
    {
     "ename": "KeyboardInterrupt",
     "evalue": "",
     "output_type": "error",
     "traceback": [
      "\u001b[1;31m---------------------------------------------------------------------------\u001b[0m",
      "\u001b[1;31mKeyboardInterrupt\u001b[0m                         Traceback (most recent call last)",
      "\u001b[1;32m<ipython-input-5-272754e94661>\u001b[0m in \u001b[0;36m<module>\u001b[1;34m\u001b[0m\n\u001b[1;32m----> 1\u001b[1;33m \u001b[0mhistory1\u001b[0m\u001b[1;33m=\u001b[0m\u001b[0mconv_model\u001b[0m\u001b[1;33m.\u001b[0m\u001b[0mfit\u001b[0m\u001b[1;33m(\u001b[0m\u001b[0mdataset_train\u001b[0m\u001b[1;33m,\u001b[0m \u001b[0mvalidation_data\u001b[0m \u001b[1;33m=\u001b[0m \u001b[0mdataset_val\u001b[0m\u001b[1;33m,\u001b[0m \u001b[0mepochs\u001b[0m \u001b[1;33m=\u001b[0m \u001b[1;36m100\u001b[0m\u001b[1;33m)\u001b[0m\u001b[1;33m\u001b[0m\u001b[1;33m\u001b[0m\u001b[0m\n\u001b[0m",
      "\u001b[1;32mc:\\users\\lmacl\\appdata\\local\\programs\\python\\python38\\lib\\site-packages\\tensorflow\\python\\keras\\engine\\training.py\u001b[0m in \u001b[0;36mfit\u001b[1;34m(self, x, y, batch_size, epochs, verbose, callbacks, validation_split, validation_data, shuffle, class_weight, sample_weight, initial_epoch, steps_per_epoch, validation_steps, validation_batch_size, validation_freq, max_queue_size, workers, use_multiprocessing)\u001b[0m\n\u001b[0;32m   1212\u001b[0m                 \u001b[0mmodel\u001b[0m\u001b[1;33m=\u001b[0m\u001b[0mself\u001b[0m\u001b[1;33m,\u001b[0m\u001b[1;33m\u001b[0m\u001b[1;33m\u001b[0m\u001b[0m\n\u001b[0;32m   1213\u001b[0m                 steps_per_execution=self._steps_per_execution)\n\u001b[1;32m-> 1214\u001b[1;33m           val_logs = self.evaluate(\n\u001b[0m\u001b[0;32m   1215\u001b[0m               \u001b[0mx\u001b[0m\u001b[1;33m=\u001b[0m\u001b[0mval_x\u001b[0m\u001b[1;33m,\u001b[0m\u001b[1;33m\u001b[0m\u001b[1;33m\u001b[0m\u001b[0m\n\u001b[0;32m   1216\u001b[0m               \u001b[0my\u001b[0m\u001b[1;33m=\u001b[0m\u001b[0mval_y\u001b[0m\u001b[1;33m,\u001b[0m\u001b[1;33m\u001b[0m\u001b[1;33m\u001b[0m\u001b[0m\n",
      "\u001b[1;32mc:\\users\\lmacl\\appdata\\local\\programs\\python\\python38\\lib\\site-packages\\tensorflow\\python\\keras\\engine\\training.py\u001b[0m in \u001b[0;36mevaluate\u001b[1;34m(self, x, y, batch_size, verbose, sample_weight, steps, callbacks, max_queue_size, workers, use_multiprocessing, return_dict, **kwargs)\u001b[0m\n\u001b[0;32m   1487\u001b[0m             \u001b[1;32mwith\u001b[0m \u001b[0mtrace\u001b[0m\u001b[1;33m.\u001b[0m\u001b[0mTrace\u001b[0m\u001b[1;33m(\u001b[0m\u001b[1;34m'test'\u001b[0m\u001b[1;33m,\u001b[0m \u001b[0mstep_num\u001b[0m\u001b[1;33m=\u001b[0m\u001b[0mstep\u001b[0m\u001b[1;33m,\u001b[0m \u001b[0m_r\u001b[0m\u001b[1;33m=\u001b[0m\u001b[1;36m1\u001b[0m\u001b[1;33m)\u001b[0m\u001b[1;33m:\u001b[0m\u001b[1;33m\u001b[0m\u001b[1;33m\u001b[0m\u001b[0m\n\u001b[0;32m   1488\u001b[0m               \u001b[0mcallbacks\u001b[0m\u001b[1;33m.\u001b[0m\u001b[0mon_test_batch_begin\u001b[0m\u001b[1;33m(\u001b[0m\u001b[0mstep\u001b[0m\u001b[1;33m)\u001b[0m\u001b[1;33m\u001b[0m\u001b[1;33m\u001b[0m\u001b[0m\n\u001b[1;32m-> 1489\u001b[1;33m               \u001b[0mtmp_logs\u001b[0m \u001b[1;33m=\u001b[0m \u001b[0mself\u001b[0m\u001b[1;33m.\u001b[0m\u001b[0mtest_function\u001b[0m\u001b[1;33m(\u001b[0m\u001b[0miterator\u001b[0m\u001b[1;33m)\u001b[0m\u001b[1;33m\u001b[0m\u001b[1;33m\u001b[0m\u001b[0m\n\u001b[0m\u001b[0;32m   1490\u001b[0m               \u001b[1;32mif\u001b[0m \u001b[0mdata_handler\u001b[0m\u001b[1;33m.\u001b[0m\u001b[0mshould_sync\u001b[0m\u001b[1;33m:\u001b[0m\u001b[1;33m\u001b[0m\u001b[1;33m\u001b[0m\u001b[0m\n\u001b[0;32m   1491\u001b[0m                 \u001b[0mcontext\u001b[0m\u001b[1;33m.\u001b[0m\u001b[0masync_wait\u001b[0m\u001b[1;33m(\u001b[0m\u001b[1;33m)\u001b[0m\u001b[1;33m\u001b[0m\u001b[1;33m\u001b[0m\u001b[0m\n",
      "\u001b[1;32mc:\\users\\lmacl\\appdata\\local\\programs\\python\\python38\\lib\\site-packages\\tensorflow\\python\\eager\\def_function.py\u001b[0m in \u001b[0;36m__call__\u001b[1;34m(self, *args, **kwds)\u001b[0m\n\u001b[0;32m    887\u001b[0m \u001b[1;33m\u001b[0m\u001b[0m\n\u001b[0;32m    888\u001b[0m       \u001b[1;32mwith\u001b[0m \u001b[0mOptionalXlaContext\u001b[0m\u001b[1;33m(\u001b[0m\u001b[0mself\u001b[0m\u001b[1;33m.\u001b[0m\u001b[0m_jit_compile\u001b[0m\u001b[1;33m)\u001b[0m\u001b[1;33m:\u001b[0m\u001b[1;33m\u001b[0m\u001b[1;33m\u001b[0m\u001b[0m\n\u001b[1;32m--> 889\u001b[1;33m         \u001b[0mresult\u001b[0m \u001b[1;33m=\u001b[0m \u001b[0mself\u001b[0m\u001b[1;33m.\u001b[0m\u001b[0m_call\u001b[0m\u001b[1;33m(\u001b[0m\u001b[1;33m*\u001b[0m\u001b[0margs\u001b[0m\u001b[1;33m,\u001b[0m \u001b[1;33m**\u001b[0m\u001b[0mkwds\u001b[0m\u001b[1;33m)\u001b[0m\u001b[1;33m\u001b[0m\u001b[1;33m\u001b[0m\u001b[0m\n\u001b[0m\u001b[0;32m    890\u001b[0m \u001b[1;33m\u001b[0m\u001b[0m\n\u001b[0;32m    891\u001b[0m       \u001b[0mnew_tracing_count\u001b[0m \u001b[1;33m=\u001b[0m \u001b[0mself\u001b[0m\u001b[1;33m.\u001b[0m\u001b[0mexperimental_get_tracing_count\u001b[0m\u001b[1;33m(\u001b[0m\u001b[1;33m)\u001b[0m\u001b[1;33m\u001b[0m\u001b[1;33m\u001b[0m\u001b[0m\n",
      "\u001b[1;32mc:\\users\\lmacl\\appdata\\local\\programs\\python\\python38\\lib\\site-packages\\tensorflow\\python\\eager\\def_function.py\u001b[0m in \u001b[0;36m_call\u001b[1;34m(self, *args, **kwds)\u001b[0m\n\u001b[0;32m    922\u001b[0m       \u001b[1;31m# In this case we have not created variables on the first call. So we can\u001b[0m\u001b[1;33m\u001b[0m\u001b[1;33m\u001b[0m\u001b[1;33m\u001b[0m\u001b[0m\n\u001b[0;32m    923\u001b[0m       \u001b[1;31m# run the first trace but we should fail if variables are created.\u001b[0m\u001b[1;33m\u001b[0m\u001b[1;33m\u001b[0m\u001b[1;33m\u001b[0m\u001b[0m\n\u001b[1;32m--> 924\u001b[1;33m       \u001b[0mresults\u001b[0m \u001b[1;33m=\u001b[0m \u001b[0mself\u001b[0m\u001b[1;33m.\u001b[0m\u001b[0m_stateful_fn\u001b[0m\u001b[1;33m(\u001b[0m\u001b[1;33m*\u001b[0m\u001b[0margs\u001b[0m\u001b[1;33m,\u001b[0m \u001b[1;33m**\u001b[0m\u001b[0mkwds\u001b[0m\u001b[1;33m)\u001b[0m\u001b[1;33m\u001b[0m\u001b[1;33m\u001b[0m\u001b[0m\n\u001b[0m\u001b[0;32m    925\u001b[0m       \u001b[1;32mif\u001b[0m \u001b[0mself\u001b[0m\u001b[1;33m.\u001b[0m\u001b[0m_created_variables\u001b[0m\u001b[1;33m:\u001b[0m\u001b[1;33m\u001b[0m\u001b[1;33m\u001b[0m\u001b[0m\n\u001b[0;32m    926\u001b[0m         raise ValueError(\"Creating variables on a non-first call to a function\"\n",
      "\u001b[1;32mc:\\users\\lmacl\\appdata\\local\\programs\\python\\python38\\lib\\site-packages\\tensorflow\\python\\eager\\function.py\u001b[0m in \u001b[0;36m__call__\u001b[1;34m(self, *args, **kwargs)\u001b[0m\n\u001b[0;32m   3021\u001b[0m       (graph_function,\n\u001b[0;32m   3022\u001b[0m        filtered_flat_args) = self._maybe_define_function(args, kwargs)\n\u001b[1;32m-> 3023\u001b[1;33m     return graph_function._call_flat(\n\u001b[0m\u001b[0;32m   3024\u001b[0m         filtered_flat_args, captured_inputs=graph_function.captured_inputs)  # pylint: disable=protected-access\n\u001b[0;32m   3025\u001b[0m \u001b[1;33m\u001b[0m\u001b[0m\n",
      "\u001b[1;32mc:\\users\\lmacl\\appdata\\local\\programs\\python\\python38\\lib\\site-packages\\tensorflow\\python\\eager\\function.py\u001b[0m in \u001b[0;36m_call_flat\u001b[1;34m(self, args, captured_inputs, cancellation_manager)\u001b[0m\n\u001b[0;32m   1958\u001b[0m         and executing_eagerly):\n\u001b[0;32m   1959\u001b[0m       \u001b[1;31m# No tape is watching; skip to running the function.\u001b[0m\u001b[1;33m\u001b[0m\u001b[1;33m\u001b[0m\u001b[1;33m\u001b[0m\u001b[0m\n\u001b[1;32m-> 1960\u001b[1;33m       return self._build_call_outputs(self._inference_function.call(\n\u001b[0m\u001b[0;32m   1961\u001b[0m           ctx, args, cancellation_manager=cancellation_manager))\n\u001b[0;32m   1962\u001b[0m     forward_backward = self._select_forward_and_backward_functions(\n",
      "\u001b[1;32mc:\\users\\lmacl\\appdata\\local\\programs\\python\\python38\\lib\\site-packages\\tensorflow\\python\\eager\\function.py\u001b[0m in \u001b[0;36mcall\u001b[1;34m(self, ctx, args, cancellation_manager)\u001b[0m\n\u001b[0;32m    589\u001b[0m       \u001b[1;32mwith\u001b[0m \u001b[0m_InterpolateFunctionError\u001b[0m\u001b[1;33m(\u001b[0m\u001b[0mself\u001b[0m\u001b[1;33m)\u001b[0m\u001b[1;33m:\u001b[0m\u001b[1;33m\u001b[0m\u001b[1;33m\u001b[0m\u001b[0m\n\u001b[0;32m    590\u001b[0m         \u001b[1;32mif\u001b[0m \u001b[0mcancellation_manager\u001b[0m \u001b[1;32mis\u001b[0m \u001b[1;32mNone\u001b[0m\u001b[1;33m:\u001b[0m\u001b[1;33m\u001b[0m\u001b[1;33m\u001b[0m\u001b[0m\n\u001b[1;32m--> 591\u001b[1;33m           outputs = execute.execute(\n\u001b[0m\u001b[0;32m    592\u001b[0m               \u001b[0mstr\u001b[0m\u001b[1;33m(\u001b[0m\u001b[0mself\u001b[0m\u001b[1;33m.\u001b[0m\u001b[0msignature\u001b[0m\u001b[1;33m.\u001b[0m\u001b[0mname\u001b[0m\u001b[1;33m)\u001b[0m\u001b[1;33m,\u001b[0m\u001b[1;33m\u001b[0m\u001b[1;33m\u001b[0m\u001b[0m\n\u001b[0;32m    593\u001b[0m               \u001b[0mnum_outputs\u001b[0m\u001b[1;33m=\u001b[0m\u001b[0mself\u001b[0m\u001b[1;33m.\u001b[0m\u001b[0m_num_outputs\u001b[0m\u001b[1;33m,\u001b[0m\u001b[1;33m\u001b[0m\u001b[1;33m\u001b[0m\u001b[0m\n",
      "\u001b[1;32mc:\\users\\lmacl\\appdata\\local\\programs\\python\\python38\\lib\\site-packages\\tensorflow\\python\\eager\\execute.py\u001b[0m in \u001b[0;36mquick_execute\u001b[1;34m(op_name, num_outputs, inputs, attrs, ctx, name)\u001b[0m\n\u001b[0;32m     57\u001b[0m   \u001b[1;32mtry\u001b[0m\u001b[1;33m:\u001b[0m\u001b[1;33m\u001b[0m\u001b[1;33m\u001b[0m\u001b[0m\n\u001b[0;32m     58\u001b[0m     \u001b[0mctx\u001b[0m\u001b[1;33m.\u001b[0m\u001b[0mensure_initialized\u001b[0m\u001b[1;33m(\u001b[0m\u001b[1;33m)\u001b[0m\u001b[1;33m\u001b[0m\u001b[1;33m\u001b[0m\u001b[0m\n\u001b[1;32m---> 59\u001b[1;33m     tensors = pywrap_tfe.TFE_Py_Execute(ctx._handle, device_name, op_name,\n\u001b[0m\u001b[0;32m     60\u001b[0m                                         inputs, attrs, num_outputs)\n\u001b[0;32m     61\u001b[0m   \u001b[1;32mexcept\u001b[0m \u001b[0mcore\u001b[0m\u001b[1;33m.\u001b[0m\u001b[0m_NotOkStatusException\u001b[0m \u001b[1;32mas\u001b[0m \u001b[0me\u001b[0m\u001b[1;33m:\u001b[0m\u001b[1;33m\u001b[0m\u001b[1;33m\u001b[0m\u001b[0m\n",
      "\u001b[1;31mKeyboardInterrupt\u001b[0m: "
     ]
    }
   ],
   "source": [
    "history1=conv_model.fit(dataset_train, validation_data = dataset_val, epochs = 100)"
   ]
  },
  {
   "cell_type": "raw",
   "id": "7f819e8a",
   "metadata": {},
   "source": [
    "plt.plot(history.history['loss'], label='loss')\n",
    "plt.plot(history.history['val_loss'], label='val_loss')\n",
    "plt.legend()"
   ]
  },
  {
   "cell_type": "raw",
   "id": "79a6bb01",
   "metadata": {},
   "source": [
    "plt.plot(history.history['accuracy'], label='accuracy')\n",
    "plt.plot(history.history['val_accuracy'], label='val_accuracy')\n",
    "plt.legend()"
   ]
  },
  {
   "cell_type": "code",
   "execution_count": null,
   "id": "67c39d11",
   "metadata": {},
   "outputs": [],
   "source": [
    "plt.plot(history1.history['loss'], label='loss')\n",
    "plt.plot(history1.history['val_loss'], label='val_loss')\n",
    "plt.legend()"
   ]
  },
  {
   "cell_type": "code",
   "execution_count": null,
   "id": "5c3fbf09",
   "metadata": {},
   "outputs": [],
   "source": [
    "plt.plot(history1.history['accuracy'], label='accuracy')\n",
    "plt.plot(history1.history['val_accuracy'], label='val_accuracy')\n",
    "plt.legend()"
   ]
  },
  {
   "cell_type": "raw",
   "id": "1c2e86c2",
   "metadata": {},
   "source": [
    "conv_model.summary()"
   ]
  },
  {
   "cell_type": "code",
   "execution_count": null,
   "id": "7f652db1",
   "metadata": {},
   "outputs": [],
   "source": [
    "history2=conv_model.fit(dataset_train, validation_data = dataset_val, epochs = 400)"
   ]
  },
  {
   "cell_type": "code",
   "execution_count": null,
   "id": "8807b70d",
   "metadata": {},
   "outputs": [],
   "source": []
  }
 ],
 "metadata": {
  "kernelspec": {
   "display_name": "Python 3",
   "language": "python",
   "name": "python3"
  },
  "language_info": {
   "codemirror_mode": {
    "name": "ipython",
    "version": 3
   },
   "file_extension": ".py",
   "mimetype": "text/x-python",
   "name": "python",
   "nbconvert_exporter": "python",
   "pygments_lexer": "ipython3",
   "version": "3.8.0"
  }
 },
 "nbformat": 4,
 "nbformat_minor": 5
}
