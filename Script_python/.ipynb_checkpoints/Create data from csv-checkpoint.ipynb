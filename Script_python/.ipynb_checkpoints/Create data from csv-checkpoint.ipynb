{
 "cells": [
  {
   "cell_type": "code",
   "execution_count": 1,
   "id": "f5564834",
   "metadata": {},
   "outputs": [],
   "source": [
    "from Class_Preprocessing import preprocessing_duels\n",
    "from os.path import abspath, join\n",
    "import tensorflow as tf\n"
   ]
  },
  {
   "cell_type": "code",
   "execution_count": 2,
   "id": "127c4341",
   "metadata": {},
   "outputs": [
    {
     "name": "stdout",
     "output_type": "stream",
     "text": [
      "D:/duels_question_1.csv\n"
     ]
    },
    {
     "ename": "FileNotFoundError",
     "evalue": "[Errno 2] No such file or directory: 'D:/duels_question_1.csv'",
     "output_type": "error",
     "traceback": [
      "\u001b[1;31m---------------------------------------------------------------------------\u001b[0m",
      "\u001b[1;31mFileNotFoundError\u001b[0m                         Traceback (most recent call last)",
      "\u001b[1;32m<ipython-input-2-48bfd9fb1eee>\u001b[0m in \u001b[0;36m<module>\u001b[1;34m\u001b[0m\n\u001b[0;32m      4\u001b[0m \u001b[0mDATA_FOLDER\u001b[0m \u001b[1;33m=\u001b[0m \u001b[1;34m\"D:/Comparison_1\"\u001b[0m\u001b[1;33m\u001b[0m\u001b[1;33m\u001b[0m\u001b[0m\n\u001b[0;32m      5\u001b[0m \u001b[0mCOMP_CSV\u001b[0m \u001b[1;33m=\u001b[0m \u001b[0mjoin\u001b[0m\u001b[1;33m(\u001b[0m\u001b[1;34m\"D:/\"\u001b[0m\u001b[1;33m,\u001b[0m \u001b[1;34m\"duels_question_1.csv\"\u001b[0m\u001b[1;33m)\u001b[0m\u001b[1;33m\u001b[0m\u001b[1;33m\u001b[0m\u001b[0m\n\u001b[1;32m----> 6\u001b[1;33m \u001b[0mpreprocessing_duels\u001b[0m\u001b[1;33m(\u001b[0m\u001b[0mCOMP_CSV\u001b[0m\u001b[1;33m,\u001b[0m \u001b[1;36m224\u001b[0m\u001b[1;33m,\u001b[0m \u001b[0mWEB_IMG_DIR\u001b[0m\u001b[1;33m,\u001b[0m \u001b[0mDATA_FOLDER\u001b[0m\u001b[1;33m,\u001b[0m \u001b[1;36m0.2\u001b[0m\u001b[1;33m)\u001b[0m\u001b[1;33m\u001b[0m\u001b[1;33m\u001b[0m\u001b[0m\n\u001b[0m\u001b[0;32m      7\u001b[0m \u001b[1;33m\u001b[0m\u001b[0m\n\u001b[0;32m      8\u001b[0m \u001b[0mDATA_FOLDER\u001b[0m \u001b[1;33m=\u001b[0m \u001b[1;34m\"D:/Comparison_2\"\u001b[0m\u001b[1;33m\u001b[0m\u001b[1;33m\u001b[0m\u001b[0m\n",
      "\u001b[1;32m~\\Google Drive\\GitHub\\OttawaGreenspacesComparisons\\Script_python\\Class_Preprocessing.py\u001b[0m in \u001b[0;36mpreprocessing_duels\u001b[1;34m(csv_path, img_size, image_folder, save_folder, test)\u001b[0m\n\u001b[0;32m    254\u001b[0m     \u001b[0mprint\u001b[0m\u001b[1;33m(\u001b[0m\u001b[0mcsv_path\u001b[0m\u001b[1;33m)\u001b[0m\u001b[1;33m\u001b[0m\u001b[1;33m\u001b[0m\u001b[0m\n\u001b[0;32m    255\u001b[0m     \u001b[1;31m# Get data from csv\u001b[0m\u001b[1;33m\u001b[0m\u001b[1;33m\u001b[0m\u001b[1;33m\u001b[0m\u001b[0m\n\u001b[1;32m--> 256\u001b[1;33m     \u001b[1;32mwith\u001b[0m \u001b[0mopen\u001b[0m\u001b[1;33m(\u001b[0m\u001b[0mcsv_path\u001b[0m\u001b[1;33m,\u001b[0m \u001b[1;34m'r'\u001b[0m\u001b[1;33m)\u001b[0m \u001b[1;32mas\u001b[0m \u001b[0mcsvfileReader\u001b[0m\u001b[1;33m:\u001b[0m\u001b[1;33m\u001b[0m\u001b[1;33m\u001b[0m\u001b[0m\n\u001b[0m\u001b[0;32m    257\u001b[0m         \u001b[0mreader\u001b[0m \u001b[1;33m=\u001b[0m \u001b[0mcsv\u001b[0m\u001b[1;33m.\u001b[0m\u001b[0mreader\u001b[0m\u001b[1;33m(\u001b[0m\u001b[0mcsvfileReader\u001b[0m\u001b[1;33m,\u001b[0m \u001b[0mdelimiter\u001b[0m\u001b[1;33m=\u001b[0m\u001b[1;34m','\u001b[0m\u001b[1;33m)\u001b[0m\u001b[1;33m\u001b[0m\u001b[1;33m\u001b[0m\u001b[0m\n\u001b[0;32m    258\u001b[0m         \u001b[0mprint\u001b[0m\u001b[1;33m(\u001b[0m\u001b[1;34m\"Creating inputs from csv ...\"\u001b[0m\u001b[1;33m)\u001b[0m\u001b[1;33m\u001b[0m\u001b[1;33m\u001b[0m\u001b[0m\n",
      "\u001b[1;31mFileNotFoundError\u001b[0m: [Errno 2] No such file or directory: 'D:/duels_question_1.csv'"
     ]
    }
   ],
   "source": [
    "#Create .npy files from csv data\n",
    "\n",
    "WEB_IMG_DIR = \"D:/Sample_web_green\"\n",
    "DATA_FOLDER = \"D:/Comparison_1\"\n",
    "COMP_CSV = join(\"D:/\", \"duels_question_1.csv\")\n",
    "preprocessing_duels(COMP_CSV, 224, WEB_IMG_DIR, DATA_FOLDER, 0.2)\n",
    "\n",
    "DATA_FOLDER = \"D:/Comparison_2\"\n",
    "COMP_CSV = join(\"D:/\", \"duels_question_2.csv\")\n",
    "preprocessing_duels(COMP_CSV, 224, WEB_IMG_DIR, DATA_FOLDER, 0.2)\n",
    "\n",
    "DATA_FOLDER = \"D:/Comparison_3\"\n",
    "COMP_CSV = join(\"D:/\", \"duels_question_3.csv\")\n",
    "preprocessing_duels(COMP_CSV, 224, WEB_IMG_DIR, DATA_FOLDER, 0.2)\n",
    "\n",
    "DATA_FOLDER = \"D:/Comparison_4\"\n",
    "COMP_CSV = join(\"D:/\", \"duels_question_4.csv\")\n",
    "preprocessing_duels(COMP_CSV, 224, WEB_IMG_DIR, DATA_FOLDER, 0.2)\n"
   ]
  },
  {
   "cell_type": "code",
   "execution_count": null,
   "id": "91cdaac6",
   "metadata": {},
   "outputs": [],
   "source": [
    "#Create .tfrecord files from npy files\n",
    "\n",
    "val_split = 0.2\n",
    "\n",
    "for i in range(1,5): #iterate over each question\n",
    "    print(i)\n",
    "    DATA_FOLDER =\"Z:\\Comparison_{}\".format(i)\n",
    "    tfrecord = tf.io.TFRecordWriter(join(DATA_FOLDER, \"data_train.tfrecord\"))\n",
    "    \n",
    "    data_left = np.load(join(DATA_FOLDER, \"train\", \"train_left_224.npy\"), mmap_mode=None)\n",
    "    data_right = np.load(join(DATA_FOLDER, \"train\", \"train_right_224.npy\"),  mmap_mode=None)\n",
    "    data_label = np.load(join(DATA_FOLDER, \"train\", \"train_labels_224.npy\"), mmap_mode=None)\n",
    "    labels_score = np.load(join(DATA_FOLDER, \"train\", \"train_labels_score_224.npy\"),  mmap_mode=None)\n",
    "    \n",
    "    for j in range(data_left.shape[0]): #iterate through all rows\n",
    "        if(j == int(data_left.shape[0] * (1 - val_split)) ):\n",
    "            tfrecord = tf.io.TFRecordWriter(join(DATA_FOLDER, \"data_val.tfrecord\"))\n",
    "        \n",
    "        features = {\n",
    "        'data_label' : tf.train.Feature(int64_list=tf.train.Int64List(value=data_label[j])),\n",
    "        'labels_score': tf.train.Feature(int64_list=tf.train.Int64List(value=np.array([labels_score[j]]))),\n",
    "        'data_left': tf.train.Feature(int64_list=tf.train.Int64List(value=data_left[j].astype(int).flatten())),\n",
    "        'data_right': tf.train.Feature(int64_list=tf.train.Int64List(value=data_right[j].astype(int).flatten())),\n",
    "            \n",
    "        }\n",
    "        \n",
    "        example = tf.train.Example(features=tf.train.Features(feature=features))\n",
    "        tfrecord.write(example.SerializeToString())\n"
   ]
  },
  {
   "cell_type": "code",
   "execution_count": null,
   "id": "0bbdb1cf",
   "metadata": {},
   "outputs": [],
   "source": []
  }
 ],
 "metadata": {
  "kernelspec": {
   "display_name": "Python 3",
   "language": "python",
   "name": "python3"
  },
  "language_info": {
   "codemirror_mode": {
    "name": "ipython",
    "version": 3
   },
   "file_extension": ".py",
   "mimetype": "text/x-python",
   "name": "python",
   "nbconvert_exporter": "python",
   "pygments_lexer": "ipython3",
   "version": "3.8.0"
  }
 },
 "nbformat": 4,
 "nbformat_minor": 5
}
