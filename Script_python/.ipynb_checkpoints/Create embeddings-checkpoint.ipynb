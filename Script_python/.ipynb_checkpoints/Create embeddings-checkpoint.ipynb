{
 "cells": [
  {
   "cell_type": "code",
   "execution_count": 2,
   "id": "95889be1",
   "metadata": {},
   "outputs": [],
   "source": [
    "from keras.models import load_model\n",
    "from Class_Image import Image\n",
    "from os.path import abspath\n",
    "from Class_training import *\n",
    "from Model_comparisons import comparisons_model\n",
    "from os.path import abspath, join\n",
    "import numpy as np\n",
    "\n",
    "import matplotlib.pyplot as plt\n",
    "import tensorflow as tf\n",
    "from tensorflow.keras.applications import VGG19\n",
    "import keras\n",
    "from tensorflow.keras import Input, Model"
   ]
  },
  {
   "cell_type": "code",
   "execution_count": 3,
   "id": "cc2f36e0",
   "metadata": {},
   "outputs": [
    {
     "name": "stdout",
     "output_type": "stream",
     "text": [
      "Loading data...\n",
      "Done\n"
     ]
    }
   ],
   "source": [
    "print(\"Loading data...\")\n",
    "\n",
    "DATA_FOLDER =\"Z:\\Comparisons_npy\"#\"D:\\\\Ottawa\\\\Comparisons_npy\"\n",
    "folder_path = abspath(\"Examples/Training_results/Simple\")\n",
    "\n",
    "data_left = np.load(join(DATA_FOLDER, \"train\", \"train_left_224.npy\"))\n",
    "data_right = np.load(join(DATA_FOLDER, \"train\", \"train_right_224.npy\"))\n",
    "data_label = np.load(join(DATA_FOLDER, \"train\", \"train_labels_224.npy\"))\n",
    "labels_score = np.load(join(DATA_FOLDER, \"train\", \"train_labels_score_224.npy\"))\n",
    "train_data = [data_left, data_right]\n",
    "print(\"Done\")"
   ]
  },
  {
   "cell_type": "code",
   "execution_count": 4,
   "id": "89adcc59",
   "metadata": {},
   "outputs": [
    {
     "name": "stdout",
     "output_type": "stream",
     "text": [
      "Model: \"vgg19\"\n",
      "_________________________________________________________________\n",
      "Layer (type)                 Output Shape              Param #   \n",
      "=================================================================\n",
      "input_1 (InputLayer)         [(None, 224, 224, 3)]     0         \n",
      "_________________________________________________________________\n",
      "block1_conv1 (Conv2D)        (None, 224, 224, 64)      1792      \n",
      "_________________________________________________________________\n",
      "block1_conv2 (Conv2D)        (None, 224, 224, 64)      36928     \n",
      "_________________________________________________________________\n",
      "block1_pool (MaxPooling2D)   (None, 112, 112, 64)      0         \n",
      "_________________________________________________________________\n",
      "block2_conv1 (Conv2D)        (None, 112, 112, 128)     73856     \n",
      "_________________________________________________________________\n",
      "block2_conv2 (Conv2D)        (None, 112, 112, 128)     147584    \n",
      "_________________________________________________________________\n",
      "block2_pool (MaxPooling2D)   (None, 56, 56, 128)       0         \n",
      "_________________________________________________________________\n",
      "block3_conv1 (Conv2D)        (None, 56, 56, 256)       295168    \n",
      "_________________________________________________________________\n",
      "block3_conv2 (Conv2D)        (None, 56, 56, 256)       590080    \n",
      "_________________________________________________________________\n",
      "block3_conv3 (Conv2D)        (None, 56, 56, 256)       590080    \n",
      "_________________________________________________________________\n",
      "block3_conv4 (Conv2D)        (None, 56, 56, 256)       590080    \n",
      "_________________________________________________________________\n",
      "block3_pool (MaxPooling2D)   (None, 28, 28, 256)       0         \n",
      "_________________________________________________________________\n",
      "block4_conv1 (Conv2D)        (None, 28, 28, 512)       1180160   \n",
      "_________________________________________________________________\n",
      "block4_conv2 (Conv2D)        (None, 28, 28, 512)       2359808   \n",
      "_________________________________________________________________\n",
      "block4_conv3 (Conv2D)        (None, 28, 28, 512)       2359808   \n",
      "_________________________________________________________________\n",
      "block4_conv4 (Conv2D)        (None, 28, 28, 512)       2359808   \n",
      "_________________________________________________________________\n",
      "block4_pool (MaxPooling2D)   (None, 14, 14, 512)       0         \n",
      "_________________________________________________________________\n",
      "block5_conv1 (Conv2D)        (None, 14, 14, 512)       2359808   \n",
      "_________________________________________________________________\n",
      "block5_conv2 (Conv2D)        (None, 14, 14, 512)       2359808   \n",
      "_________________________________________________________________\n",
      "block5_conv3 (Conv2D)        (None, 14, 14, 512)       2359808   \n",
      "_________________________________________________________________\n",
      "block5_conv4 (Conv2D)        (None, 14, 14, 512)       2359808   \n",
      "_________________________________________________________________\n",
      "block5_pool (MaxPooling2D)   (None, 7, 7, 512)         0         \n",
      "=================================================================\n",
      "Total params: 20,024,384\n",
      "Trainable params: 20,024,384\n",
      "Non-trainable params: 0\n",
      "_________________________________________________________________\n"
     ]
    }
   ],
   "source": [
    "img_size=224\n",
    "vgg = VGG19(weights='imagenet', include_top=False, input_shape=(img_size, img_size, 3))\n",
    "#vgg_feature_extractor = Model(inputs=vgg.input, outputs=vgg.get_layer('block3_pool').output)\n",
    "vgg.summary()"
   ]
  },
  {
   "cell_type": "code",
   "execution_count": 19,
   "id": "e246c68e",
   "metadata": {
    "scrolled": true
   },
   "outputs": [
    {
     "data": {
      "text/plain": [
       "<tf.Tensor: shape=(1, 7, 7, 512), dtype=float32, numpy=\n",
       "array([[[[  0.        ,   0.        ,   0.        , ...,   0.        ,\n",
       "            0.        ,  88.36232   ],\n",
       "         [  0.        ,   0.        ,   0.        , ...,   0.        ,\n",
       "            0.        ,  27.818247  ],\n",
       "         [  0.        ,   0.        ,   0.        , ...,   0.        ,\n",
       "            0.        ,   0.        ],\n",
       "         ...,\n",
       "         [  0.        ,   0.        ,   0.        , ...,   0.        ,\n",
       "            6.6195364 ,   0.        ],\n",
       "         [  0.        ,   0.        ,   0.        , ...,   0.        ,\n",
       "            6.2849727 ,   0.        ],\n",
       "         [  0.        ,   0.        ,   0.        , ...,   0.        ,\n",
       "            3.3889499 ,   0.        ]],\n",
       "\n",
       "        [[  0.        ,   0.        ,   0.        , ...,  12.372778  ,\n",
       "            0.        , 130.65845   ],\n",
       "         [  0.        ,   0.        ,   0.        , ...,  64.07181   ,\n",
       "            0.        ,  38.4575    ],\n",
       "         [  0.        ,   0.        ,   0.        , ...,   0.        ,\n",
       "            0.        ,   0.        ],\n",
       "         ...,\n",
       "         [  0.        ,   0.        ,   0.        , ...,   0.        ,\n",
       "            0.        ,   0.        ],\n",
       "         [  0.        ,   0.        ,   0.        , ...,   0.        ,\n",
       "            0.        ,   0.        ],\n",
       "         [  0.        ,   0.        ,   0.        , ...,   0.        ,\n",
       "            0.        ,   0.        ]],\n",
       "\n",
       "        [[ 25.286741  ,   0.        ,   0.        , ...,   0.        ,\n",
       "            0.        ,  82.31169   ],\n",
       "         [ 14.811467  ,   0.        ,   0.        , ...,  39.71145   ,\n",
       "            0.        ,  49.32128   ],\n",
       "         [  3.4913728 ,   0.        ,   0.        , ...,   0.        ,\n",
       "            0.        ,   0.        ],\n",
       "         ...,\n",
       "         [  0.        ,   0.        ,   0.        , ...,   0.        ,\n",
       "            0.        ,   0.        ],\n",
       "         [  0.        ,   0.        ,   0.        , ...,   0.        ,\n",
       "            0.        ,   0.        ],\n",
       "         [  0.        ,   0.        ,   0.        , ...,   0.        ,\n",
       "            0.        ,   0.        ]],\n",
       "\n",
       "        ...,\n",
       "\n",
       "        [[  0.        ,   0.        ,   0.        , ...,   0.        ,\n",
       "            0.        ,  11.872388  ],\n",
       "         [  0.        ,  46.992874  ,   0.        , ...,   0.        ,\n",
       "            0.        ,   0.        ],\n",
       "         [ 31.75228   ,   0.        ,   0.        , ...,   0.        ,\n",
       "           31.076826  ,   0.        ],\n",
       "         ...,\n",
       "         [ 38.755272  ,   0.        ,   0.67833436, ...,   0.        ,\n",
       "           43.13188   ,   0.        ],\n",
       "         [ 16.52182   ,   0.        ,   2.663207  , ...,   0.        ,\n",
       "           43.83161   ,   0.        ],\n",
       "         [  0.        ,   0.        ,   6.439256  , ...,   0.        ,\n",
       "           20.55966   ,   0.        ]],\n",
       "\n",
       "        [[  0.        ,  42.35187   ,   0.        , ...,   0.        ,\n",
       "            0.        ,   0.        ],\n",
       "         [  0.        ,  30.378178  ,   0.        , ...,   0.        ,\n",
       "            0.        ,   0.        ],\n",
       "         [  0.        ,   0.        ,   0.        , ...,   0.        ,\n",
       "            0.        ,   0.        ],\n",
       "         ...,\n",
       "         [ 19.026823  ,   0.        ,   0.        , ...,   0.        ,\n",
       "           37.99105   ,   0.        ],\n",
       "         [ 15.606121  ,   0.        ,   2.970841  , ...,   0.        ,\n",
       "           36.520153  ,   0.        ],\n",
       "         [  0.721277  ,   0.        ,   6.335684  , ...,   0.        ,\n",
       "           28.28222   ,   0.        ]],\n",
       "\n",
       "        [[  0.        , 133.01065   ,   0.        , ...,   0.        ,\n",
       "            0.627031  ,   0.        ],\n",
       "         [  0.        , 125.15018   ,   0.        , ...,   0.        ,\n",
       "            0.        ,   0.        ],\n",
       "         [  0.        ,   0.        ,  10.233356  , ...,   0.        ,\n",
       "            0.        ,   0.        ],\n",
       "         ...,\n",
       "         [ 39.867645  ,   0.        ,   2.1488628 , ...,   0.        ,\n",
       "            7.1485868 ,   0.        ],\n",
       "         [ 41.462715  ,   0.        ,  19.914555  , ...,   0.        ,\n",
       "            4.511517  ,   0.        ],\n",
       "         [ 29.247375  ,   0.        ,  12.884401  , ...,   0.        ,\n",
       "            5.134706  ,   0.        ]]]], dtype=float32)>"
      ]
     },
     "execution_count": 19,
     "metadata": {},
     "output_type": "execute_result"
    }
   ],
   "source": [
    "a=vgg(data_left[0:1])"
   ]
  },
  {
   "cell_type": "code",
   "execution_count": 18,
   "id": "640981ae",
   "metadata": {},
   "outputs": [
    {
     "data": {
      "text/plain": [
       "(2, 7)"
      ]
     },
     "execution_count": 18,
     "metadata": {},
     "output_type": "execute_result"
    }
   ],
   "source": [
    "np.concatenate((np.zeros([2,4]), np.zeros([2,3])), 1).shape"
   ]
  },
  {
   "cell_type": "code",
   "execution_count": null,
   "id": "0fe19429",
   "metadata": {},
   "outputs": [],
   "source": []
  }
 ],
 "metadata": {
  "kernelspec": {
   "display_name": "Python 3",
   "language": "python",
   "name": "python3"
  },
  "language_info": {
   "codemirror_mode": {
    "name": "ipython",
    "version": 3
   },
   "file_extension": ".py",
   "mimetype": "text/x-python",
   "name": "python",
   "nbconvert_exporter": "python",
   "pygments_lexer": "ipython3",
   "version": "3.8.0"
  }
 },
 "nbformat": 4,
 "nbformat_minor": 5
}
