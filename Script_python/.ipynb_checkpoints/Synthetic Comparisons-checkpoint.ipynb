{
 "cells": [
  {
   "cell_type": "code",
   "execution_count": 1,
   "id": "cb49c79f",
   "metadata": {},
   "outputs": [],
   "source": [
    "import numpy as np\n",
    "from Class_Preprocessing import *\n",
    "import matplotlib.pyplot as plt\n",
    "import Class_Image as Ci\n",
    "import pandas\n",
    "import tensorflow as tf\n",
    "import math"
   ]
  },
  {
   "cell_type": "code",
   "execution_count": 2,
   "id": "7ebece6e",
   "metadata": {},
   "outputs": [],
   "source": [
    "duels = pandas.read_csv(\"Z:/duels_question_1.csv\", header=None)\n",
    "#duels = pandas.read_csv(\"Z:/model_outs.csv\", header=None)\n",
    "#df = df.drop(np.arange(len(df.index) * 0.8 ,len(df.index)-1)) #drop val data"
   ]
  },
  {
   "cell_type": "code",
   "execution_count": 3,
   "id": "c4630fa0",
   "metadata": {
    "scrolled": false
   },
   "outputs": [
    {
     "name": "stdout",
     "output_type": "stream",
     "text": [
      "Iteration : 0, Avg delta : 12.5, std of ties : 10.11, preservation percentage : 76.68%\n",
      "Iteration : 5, Avg delta : 8.2, std of ties : 34.25, preservation percentage : 77.77%\n",
      "Iteration : 10, Avg delta : 6.2, std of ties : 41.13, preservation percentage : 78.34%\n",
      "Iteration : 15, Avg delta : 5.1, std of ties : 42.47, preservation percentage : 78.43%\n",
      "Iteration : 20, Avg delta : 4.4, std of ties : 41.80, preservation percentage : 78.60%\n",
      "Iteration : 25, Avg delta : 3.9, std of ties : 40.35, preservation percentage : 78.74%\n",
      "Iteration : 30, Avg delta : 3.5, std of ties : 38.58, preservation percentage : 78.77%\n",
      "Iteration : 35, Avg delta : 3.1, std of ties : 36.80, preservation percentage : 78.81%\n",
      "Iteration : 40, Avg delta : 2.9, std of ties : 35.12, preservation percentage : 78.82%\n",
      "Iteration : 45, Avg delta : 2.6, std of ties : 33.55, preservation percentage : 78.84%\n"
     ]
    }
   ],
   "source": [
    "#https://metinmediamath.wordpress.com/2013/11/27/how-to-calculate-the-elo-rating-including-example/\n",
    "rankings = {}\n",
    "values_left = {'left' : 1, 'right' : 0, 'No preference' : 0.5}\n",
    "values_right= {'left' : 0, 'right' : 1, 'No preference' : 0.5}\n",
    "\n",
    "starting_elo = 1000.0\n",
    "\n",
    "K = 32 #Arbitrary K factor, determines impact of matches\n",
    "\n",
    "for e in range(50):\n",
    "    avg_delta=0\n",
    "    \n",
    "    df = duels.sample(frac=1) #Shuffle rows\n",
    "    \n",
    "    #Elo algorithm:\n",
    "    for index, row in df.iterrows():\n",
    "        if row[0] not in rankings:\n",
    "            rankings[row[0]] = starting_elo\n",
    "        if row[1] not in rankings:\n",
    "            rankings[row[1]] = starting_elo\n",
    "            \n",
    "        R0 = 10**(rankings[row[0]]/400)\n",
    "        R1 = 10**(rankings[row[1]]/400)\n",
    "\n",
    "        E0 = R0/(R0 + R1)\n",
    "        E1 = R1/(R0 + R1)\n",
    "\n",
    "        S0 = values_left[row[2]]\n",
    "        S1 = values_right[row[2]]\n",
    "\n",
    "        left_delta =  K * (S0 - E0)\n",
    "        right_delta = K * (S1 - E1)\n",
    "        \n",
    "        rankings[row[0]] += left_delta\n",
    "        rankings[row[1]] += right_delta\n",
    "        \n",
    "        avg_delta += abs(left_delta)\n",
    "        avg_delta += abs(right_delta)\n",
    "    \n",
    "    avg_delta = avg_delta/(2*len(df.index))\n",
    "    \n",
    "    #Print results every 5 iterations:\n",
    "    if(e % 5 != 0):\n",
    "        continue\n",
    "        \n",
    "    std_ties = 0\n",
    "    preserves = 0\n",
    "    for index, row in df.iterrows():\n",
    "        if(row[2] == \"No preference\"):\n",
    "            std_ties += (rankings[row[0]]  - rankings[row[1]]) ** 2\n",
    "            continue\n",
    "\n",
    "        if(row[2] == \"right\" and rankings[row[0]]  < rankings[row[1]]):\n",
    "            preserves += 1\n",
    "        elif(row[2] == \"left\" and rankings[row[0]]  > rankings[row[1]]):\n",
    "            preserves += 1\n",
    "\n",
    "    std_ties = math.sqrt(std_ties/len(df.index))\n",
    "    preserves = (preserves/len(df.index)) * 100\n",
    "    print(\"Iteration : {}, Avg delta : {:.1f}, std of ties : {:.2f}, preservation percentage : {:.2f}%\"\n",
    "          .format(e, avg_delta, std_ties, preserves))\n",
    "        \n",
    "#rankings = {k: v for k, v in sorted(rankings.items(), key=lambda item: item[1])} #sort by keys"
   ]
  },
  {
   "cell_type": "code",
   "execution_count": 4,
   "id": "014f3b61",
   "metadata": {
    "scrolled": true
   },
   "outputs": [
    {
     "name": "stdout",
     "output_type": "stream",
     "text": [
      " 1.7%"
     ]
    },
    {
     "ename": "KeyboardInterrupt",
     "evalue": "",
     "output_type": "error",
     "traceback": [
      "\u001b[1;31m---------------------------------------------------------------------------\u001b[0m",
      "\u001b[1;31mKeyboardInterrupt\u001b[0m                         Traceback (most recent call last)",
      "\u001b[1;32m<ipython-input-4-eef355b941d6>\u001b[0m in \u001b[0;36m<module>\u001b[1;34m\u001b[0m\n\u001b[0;32m     32\u001b[0m \u001b[1;33m\u001b[0m\u001b[0m\n\u001b[0;32m     33\u001b[0m \u001b[1;31m#gen_record(False)\u001b[0m\u001b[1;33m\u001b[0m\u001b[1;33m\u001b[0m\u001b[1;33m\u001b[0m\u001b[0m\n\u001b[1;32m---> 34\u001b[1;33m \u001b[0mgen_record\u001b[0m\u001b[1;33m(\u001b[0m\u001b[1;32mTrue\u001b[0m\u001b[1;33m)\u001b[0m\u001b[1;33m\u001b[0m\u001b[1;33m\u001b[0m\u001b[0m\n\u001b[0m",
      "\u001b[1;32m<ipython-input-4-eef355b941d6>\u001b[0m in \u001b[0;36mgen_record\u001b[1;34m(val)\u001b[0m\n\u001b[0;32m     14\u001b[0m    \u001b[1;31m# return\u001b[0m\u001b[1;33m\u001b[0m\u001b[1;33m\u001b[0m\u001b[1;33m\u001b[0m\u001b[0m\n\u001b[0;32m     15\u001b[0m     \u001b[1;32mfor\u001b[0m \u001b[0mi\u001b[0m\u001b[1;33m,\u001b[0m \u001b[1;33m(\u001b[0m\u001b[0mk\u001b[0m\u001b[1;33m,\u001b[0m \u001b[0mv\u001b[0m\u001b[1;33m)\u001b[0m \u001b[1;32min\u001b[0m \u001b[0menumerate\u001b[0m\u001b[1;33m(\u001b[0m\u001b[0mdata\u001b[0m\u001b[1;33m)\u001b[0m\u001b[1;33m:\u001b[0m\u001b[1;33m\u001b[0m\u001b[1;33m\u001b[0m\u001b[0m\n\u001b[1;32m---> 16\u001b[1;33m         \u001b[0mimg\u001b[0m \u001b[1;33m=\u001b[0m \u001b[0mnp\u001b[0m\u001b[1;33m.\u001b[0m\u001b[0marray\u001b[0m\u001b[1;33m(\u001b[0m\u001b[0mCi\u001b[0m\u001b[1;33m.\u001b[0m\u001b[0mImage\u001b[0m\u001b[1;33m(\u001b[0m\u001b[0mget_filename_from_key\u001b[0m\u001b[1;33m(\u001b[0m\u001b[0mk\u001b[0m\u001b[1;33m,\u001b[0m \u001b[0mimg_path\u001b[0m\u001b[1;33m)\u001b[0m\u001b[1;33m)\u001b[0m\u001b[1;33m.\u001b[0m\u001b[0mpreprocess_image\u001b[0m\u001b[1;33m(\u001b[0m\u001b[1;36m224\u001b[0m\u001b[1;33m)\u001b[0m\u001b[1;33m)\u001b[0m\u001b[1;33m\u001b[0m\u001b[1;33m\u001b[0m\u001b[0m\n\u001b[0m\u001b[0;32m     17\u001b[0m \u001b[1;33m\u001b[0m\u001b[0m\n\u001b[0;32m     18\u001b[0m         features = {\n",
      "\u001b[1;32m~\\Google Drive\\GitHub\\OttawaGreenspacesComparisons\\Script_python\\Class_Preprocessing.py\u001b[0m in \u001b[0;36mget_filename_from_key\u001b[1;34m(key, image_folder)\u001b[0m\n\u001b[0;32m    168\u001b[0m     \u001b[1;33m:\u001b[0m\u001b[0mrtype\u001b[0m\u001b[1;33m:\u001b[0m \u001b[0mstr\u001b[0m\u001b[1;33m\u001b[0m\u001b[1;33m\u001b[0m\u001b[0m\n\u001b[0;32m    169\u001b[0m     \"\"\"\n\u001b[1;32m--> 170\u001b[1;33m     \u001b[0mimages\u001b[0m \u001b[1;33m=\u001b[0m \u001b[0mos\u001b[0m\u001b[1;33m.\u001b[0m\u001b[0mlistdir\u001b[0m\u001b[1;33m(\u001b[0m\u001b[0mimage_folder\u001b[0m\u001b[1;33m)\u001b[0m\u001b[1;33m\u001b[0m\u001b[1;33m\u001b[0m\u001b[0m\n\u001b[0m\u001b[0;32m    171\u001b[0m     \u001b[1;32mfor\u001b[0m \u001b[0mimage\u001b[0m \u001b[1;32min\u001b[0m \u001b[0mimages\u001b[0m\u001b[1;33m:\u001b[0m\u001b[1;33m\u001b[0m\u001b[1;33m\u001b[0m\u001b[0m\n\u001b[0;32m    172\u001b[0m         \u001b[1;32mif\u001b[0m \u001b[0mkey\u001b[0m \u001b[1;32min\u001b[0m \u001b[0mimage\u001b[0m\u001b[1;33m:\u001b[0m\u001b[1;33m\u001b[0m\u001b[1;33m\u001b[0m\u001b[0m\n",
      "\u001b[1;31mKeyboardInterrupt\u001b[0m: "
     ]
    }
   ],
   "source": [
    "#save rankings as tfrecord\n",
    "\n",
    "def gen_record(val = False):\n",
    "    img_path = \"Z:/Sample_web_green\"\n",
    "\n",
    "    val_ratio = 0.2\n",
    "    val_line = int((1-val_ratio) * len(rankings.items()))\n",
    "    data = list(rankings.items())[val_line:] if val else list(rankings.items())[:val_line]\n",
    "    #start = int((1-val_ratio) * len(rankings.items())) if val else 0\n",
    "\n",
    "\n",
    "    tfrecord = tf.io.TFRecordWriter(\"Z:/Comparison_1/{}_1.tfrecord\".format(\"data_val_ranking\" if val else \"data_train_ranking\"))\n",
    "    \n",
    "   # return\n",
    "    for i, (k, v) in enumerate(data):\n",
    "        img = np.array(Ci.Image(get_filename_from_key(k, img_path)).preprocess_image(224))\n",
    "\n",
    "        features = {\n",
    "            'label_ranking': tf.train.Feature(float_list=tf.train.FloatList(value=np.array([v]))),\n",
    "            'data': tf.train.Feature(int64_list=tf.train.Int64List(value=img.astype(int).flatten())),\n",
    "            }\n",
    "\n",
    "        example = tf.train.Example(features=tf.train.Features(feature=features))\n",
    "        tfrecord.write(example.SerializeToString())\n",
    "\n",
    "        progress = (i/len(data))\n",
    "\n",
    "        if not val and progress > (1 - val_ratio):\n",
    "            break\n",
    "\n",
    "        print((\"\\r {:.1f}%\").format(progress * 100), end=\"\")\n",
    "        \n",
    "gen_record(False)\n",
    "gen_record(True)"
   ]
  },
  {
   "cell_type": "code",
   "execution_count": null,
   "id": "66a97bda",
   "metadata": {},
   "outputs": [],
   "source": [
    "t = [1,2,3,4,5]\n",
    "for i, r in enumerate(t, start = 5):\n",
    "    print(r)\n"
   ]
  },
  {
   "cell_type": "raw",
   "id": "c74762c6",
   "metadata": {
    "scrolled": true
   },
   "source": [
    "#save synthetic comparisons as tfrecord\n",
    "\n",
    "keys = list(rankings.keys())\n",
    "values = list(rankings.values())\n",
    "img_path = \"Z:/Sample_web_green\"\n",
    "\n",
    "tfrecord = tf.io.TFRecordWriter(\"Z:/data_train_synthetic.tfrecord\")\n",
    "\n",
    "for i,(k,v) in enumerate(rankings.items()):\n",
    "    img_1 = k\n",
    "    img_2 = None\n",
    "    \n",
    "    for i1 in range(i, len(values)):\n",
    "        if values[i1] > v + (3*std_ties):\n",
    "            img_2 = keys[i1]\n",
    "            break\n",
    "        \n",
    "    if(img_2 is None):\n",
    "        break\n",
    "    \n",
    "    img_1 = np.array(Ci.Image(get_filename_from_key(img_1, img_path)).preprocess_image(224)) #Loser\n",
    "    img_2 = np.array(Ci.Image(get_filename_from_key(img_2, img_path)).preprocess_image(224)) #Winner\n",
    "    \n",
    "    if(bool(random.getrandbits(1))): #50/50 left or right image wins\n",
    "        img_left = img_1\n",
    "        img_right = img_2\n",
    "        data_label = np.array([0,1])\n",
    "    else:\n",
    "        img_left = img_2\n",
    "        img_right = img_1\n",
    "        data_label = np.array([1,0])\n",
    "    \n",
    "    features = {\n",
    "        'data_label' : tf.train.Feature(int64_list=tf.train.Int64List(value=data_label)),\n",
    "        'labels_score': tf.train.Feature(int64_list=tf.train.Int64List(value=np.array([0]))), #Filler score value\n",
    "        'data_left': tf.train.Feature(int64_list=tf.train.Int64List(value=img_left.astype(int).flatten())),\n",
    "        'data_right': tf.train.Feature(int64_list=tf.train.Int64List(value=img_right.astype(int).flatten())),\n",
    "            \n",
    "        }\n",
    "    \n",
    "    example = tf.train.Example(features=tf.train.Features(feature=features))\n",
    "    tfrecord.write(example.SerializeToString())\n"
   ]
  },
  {
   "cell_type": "raw",
   "id": "fdcbd50e",
   "metadata": {},
   "source": [
    "# Run model on comparisons\n",
    "from Model_comparisons import *\n",
    "conv_model = comparisons_model(224)\n",
    "conv_model.load_weights(\"Z:/q1_VGG19_weights.h5\")\n",
    "\n",
    "img_path = \"Z:/Sample_web_green\"\n",
    "\n",
    "for index, row in duels.iterrows():\n",
    "    img_left = np.array(Ci.Image(get_filename_from_key(row[0], img_path)).preprocess_image(224)).reshape([1,224*224*3])\n",
    "    img_right = np.array(Ci.Image(get_filename_from_key(row[1], img_path)).preprocess_image(224)).reshape([1,224*224*3])\n",
    "    \n",
    "    n_out = np.argmax(conv_model([img_left, img_right]).numpy())\n",
    "    \n",
    "    row[2] = ['left','right'][n_out]\n",
    "    \n",
    "    print((\"\\r {:.1f}%\").format((index/len(duels.index)) * 100), end=\"\")\n",
    "\n",
    "duels.to_csv(\"Z:/model_outs.csv\",index=False, header=None)"
   ]
  },
  {
   "cell_type": "code",
   "execution_count": null,
   "id": "b740c37c",
   "metadata": {},
   "outputs": [],
   "source": [
    "duels"
   ]
  },
  {
   "cell_type": "code",
   "execution_count": null,
   "id": "9388120c",
   "metadata": {},
   "outputs": [],
   "source": []
  }
 ],
 "metadata": {
  "kernelspec": {
   "display_name": "Python 3",
   "language": "python",
   "name": "python3"
  },
  "language_info": {
   "codemirror_mode": {
    "name": "ipython",
    "version": 3
   },
   "file_extension": ".py",
   "mimetype": "text/x-python",
   "name": "python",
   "nbconvert_exporter": "python",
   "pygments_lexer": "ipython3",
   "version": "3.8.0"
  }
 },
 "nbformat": 4,
 "nbformat_minor": 5
}
