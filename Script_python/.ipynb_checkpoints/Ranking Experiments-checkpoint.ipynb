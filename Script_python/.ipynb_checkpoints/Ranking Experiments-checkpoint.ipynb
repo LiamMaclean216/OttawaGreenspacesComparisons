{
 "cells": [
  {
   "cell_type": "code",
   "execution_count": 1,
   "id": "ad508ab0",
   "metadata": {},
   "outputs": [
    {
     "name": "stdout",
     "output_type": "stream",
     "text": [
      "Imports\n"
     ]
    }
   ],
   "source": [
    "print(\"Imports\")\n",
    "from keras.models import load_model\n",
    "from Class_Image import Image\n",
    "from os.path import abspath\n",
    "from Class_training import *\n",
    "from Model_comparisons import *\n",
    "from os.path import abspath, join\n",
    "import numpy as np\n",
    "\n",
    "import matplotlib.pyplot as plt\n",
    "import tensorflow as tf\n",
    "from tensorflow.keras.applications import VGG19\n",
    "#import keras\n",
    "from tensorflow.keras import Input, Model\n",
    "from keras.preprocessing.image import ImageDataGenerator\n",
    "\n",
    "%matplotlib inline"
   ]
  },
  {
   "cell_type": "code",
   "execution_count": 2,
   "id": "d83981da",
   "metadata": {},
   "outputs": [],
   "source": [
    "def map_fn(serialized_example):\n",
    "    feature = {\n",
    "        'label_ranking': tf.io.FixedLenFeature([1], tf.float32),\n",
    "        'data': tf.io.FixedLenFeature([150528], tf.int64),\n",
    "    }\n",
    "    \n",
    "    ex = tf.io.parse_single_example(serialized_example, feature)\n",
    "    return ex['data'], (ex['label_ranking']-1000)/1000"
   ]
  },
  {
   "cell_type": "code",
   "execution_count": 3,
   "id": "8d0c0b19",
   "metadata": {},
   "outputs": [],
   "source": [
    "dataset_train = tf.data.TFRecordDataset('Z:/Comparison_1/data_train_ranking.tfrecord', )\n",
    "dataset_val = tf.data.TFRecordDataset( 'Z:/Comparison_1/data_val_ranking.tfrecord')\n",
    "\n",
    "dataset_train = dataset_train.map(map_fn)\n",
    "dataset_train = dataset_train.shuffle(2048, reshuffle_each_iteration = True)\n",
    "dataset_train = dataset_train.prefetch(buffer_size=tf.data.AUTOTUNE)\n",
    "dataset_train = dataset_train.batch(6)\n",
    "\n",
    "dataset_val = dataset_val.map(map_fn)\n",
    "#dataset_val = dataset_val.shuffle(2048)\n",
    "dataset_val = dataset_val.prefetch(buffer_size=tf.data.AUTOTUNE)\n",
    "dataset_val = dataset_val.batch(6)"
   ]
  },
  {
   "cell_type": "code",
   "execution_count": 4,
   "id": "af813319",
   "metadata": {
    "scrolled": true
   },
   "outputs": [],
   "source": [
    "conv_model = ranking_model(224)"
   ]
  },
  {
   "cell_type": "code",
   "execution_count": 5,
   "id": "63b43967",
   "metadata": {},
   "outputs": [
    {
     "name": "stdout",
     "output_type": "stream",
     "text": [
      "Epoch 1/10\n",
      "908/908 [==============================] - 139s 147ms/step - loss: 5.2142 - mae: 1.7999 - val_loss: 2.0223 - val_mae: 1.2242\n",
      "Epoch 2/10\n",
      "908/908 [==============================] - 144s 146ms/step - loss: 4.0590 - mae: 1.5898 - val_loss: 1.5984 - val_mae: 1.1122\n",
      "Epoch 3/10\n",
      "908/908 [==============================] - 144s 146ms/step - loss: 3.0082 - mae: 1.3803 - val_loss: 0.3836 - val_mae: 0.5168\n",
      "Epoch 4/10\n",
      "908/908 [==============================] - 145s 148ms/step - loss: 2.1292 - mae: 1.1459 - val_loss: 0.1098 - val_mae: 0.2686\n",
      "Epoch 5/10\n",
      "908/908 [==============================] - 141s 142ms/step - loss: 1.4740 - mae: 0.9619 - val_loss: 0.2818 - val_mae: 0.3486\n",
      "Epoch 6/10\n",
      "908/908 [==============================] - 145s 146ms/step - loss: 1.1022 - mae: 0.8313 - val_loss: 0.0708 - val_mae: 0.2343\n",
      "Epoch 7/10\n",
      "908/908 [==============================] - 145s 146ms/step - loss: 0.6707 - mae: 0.6432 - val_loss: 0.0643 - val_mae: 0.2246\n",
      "Epoch 8/10\n",
      "908/908 [==============================] - 143s 144ms/step - loss: 0.4229 - mae: 0.5137 - val_loss: 0.0643 - val_mae: 0.2256\n",
      "Epoch 9/10\n",
      "908/908 [==============================] - 145s 145ms/step - loss: 0.2681 - mae: 0.4074 - val_loss: 0.0642 - val_mae: 0.2249\n",
      "Epoch 10/10\n",
      "908/908 [==============================] - 145s 146ms/step - loss: 0.1833 - mae: 0.3414 - val_loss: 0.0638 - val_mae: 0.2239\n"
     ]
    }
   ],
   "source": [
    "conv_model.get_layer(\"vgg19\").trainable = False\n",
    "history=conv_model.fit(dataset_train, validation_data = dataset_val, epochs = 20)"
   ]
  },
  {
   "cell_type": "code",
   "execution_count": 6,
   "id": "9ce556db",
   "metadata": {
    "scrolled": true
   },
   "outputs": [
    {
     "name": "stdout",
     "output_type": "stream",
     "text": [
      "Epoch 1/100\n",
      "908/908 [==============================] - 145s 146ms/step - loss: 0.1314 - mae: 0.2900 - val_loss: 0.0644 - val_mae: 0.2246\n",
      "Epoch 2/100\n",
      "908/908 [==============================] - 146s 147ms/step - loss: 0.1082 - mae: 0.2662 - val_loss: 0.0641 - val_mae: 0.2242\n",
      "Epoch 3/100\n",
      "908/908 [==============================] - 146s 147ms/step - loss: 0.0931 - mae: 0.2516 - val_loss: 0.0637 - val_mae: 0.2234\n",
      "Epoch 4/100\n",
      "908/908 [==============================] - 144s 145ms/step - loss: 0.0841 - mae: 0.2412 - val_loss: 0.0636 - val_mae: 0.2231\n",
      "Epoch 5/100\n",
      "908/908 [==============================] - 144s 145ms/step - loss: 0.0797 - mae: 0.2348 - val_loss: 0.0617 - val_mae: 0.2191\n",
      "Epoch 6/100\n",
      "908/908 [==============================] - 143s 143ms/step - loss: 0.0776 - mae: 0.2315 - val_loss: 0.0610 - val_mae: 0.2168\n",
      "Epoch 7/100\n",
      "908/908 [==============================] - 140s 140ms/step - loss: 0.0733 - mae: 0.2254 - val_loss: 0.0588 - val_mae: 0.2111\n",
      "Epoch 8/100\n",
      "908/908 [==============================] - 144s 145ms/step - loss: 0.0759 - mae: 0.2280 - val_loss: 0.0642 - val_mae: 0.2122\n",
      "Epoch 9/100\n",
      "908/908 [==============================] - 148s 149ms/step - loss: 0.0739 - mae: 0.2262 - val_loss: 0.0577 - val_mae: 0.2055\n",
      "Epoch 10/100\n",
      "908/908 [==============================] - 148s 149ms/step - loss: 0.0678 - mae: 0.2169 - val_loss: 0.0654 - val_mae: 0.2187\n",
      "Epoch 11/100\n",
      "908/908 [==============================] - 147s 148ms/step - loss: 0.0667 - mae: 0.2156 - val_loss: 0.0822 - val_mae: 0.2320\n",
      "Epoch 12/100\n",
      "908/908 [==============================] - 140s 140ms/step - loss: 0.0661 - mae: 0.2135 - val_loss: 0.0639 - val_mae: 0.2083\n",
      "Epoch 13/100\n",
      "908/908 [==============================] - 140s 140ms/step - loss: 0.0629 - mae: 0.2081 - val_loss: 0.0550 - val_mae: 0.1892\n",
      "Epoch 14/100\n",
      "908/908 [==============================] - 140s 141ms/step - loss: 0.0628 - mae: 0.2072 - val_loss: 0.0734 - val_mae: 0.2201\n",
      "Epoch 15/100\n",
      "908/908 [==============================] - 140s 140ms/step - loss: 0.0624 - mae: 0.2067 - val_loss: 0.0529 - val_mae: 0.1886\n",
      "Epoch 16/100\n",
      "908/908 [==============================] - 140s 141ms/step - loss: 0.0612 - mae: 0.2046 - val_loss: 0.0561 - val_mae: 0.1927\n",
      "Epoch 17/100\n",
      "908/908 [==============================] - 140s 140ms/step - loss: 0.0614 - mae: 0.2046 - val_loss: 0.0584 - val_mae: 0.1907\n",
      "Epoch 18/100\n",
      "908/908 [==============================] - 140s 141ms/step - loss: 0.0625 - mae: 0.2077 - val_loss: 0.0782 - val_mae: 0.2232\n",
      "Epoch 19/100\n",
      "908/908 [==============================] - 140s 141ms/step - loss: 0.0624 - mae: 0.2063 - val_loss: 0.0546 - val_mae: 0.1903\n",
      "Epoch 20/100\n",
      "908/908 [==============================] - 140s 141ms/step - loss: 0.0612 - mae: 0.2046 - val_loss: 0.0614 - val_mae: 0.1977\n",
      "Epoch 21/100\n",
      "908/908 [==============================] - 140s 141ms/step - loss: 0.0600 - mae: 0.2025 - val_loss: 0.0649 - val_mae: 0.2022\n",
      "Epoch 22/100\n",
      "908/908 [==============================] - 140s 141ms/step - loss: 0.0601 - mae: 0.2018 - val_loss: 0.0855 - val_mae: 0.2342\n",
      "Epoch 23/100\n",
      "908/908 [==============================] - 140s 141ms/step - loss: 0.0600 - mae: 0.2025 - val_loss: 24.4848 - val_mae: 1.3709\n",
      "Epoch 24/100\n",
      "908/908 [==============================] - 140s 141ms/step - loss: 0.0599 - mae: 0.2028 - val_loss: 0.0592 - val_mae: 0.1953\n",
      "Epoch 25/100\n",
      "908/908 [==============================] - 140s 141ms/step - loss: 0.0590 - mae: 0.1997 - val_loss: 0.0825 - val_mae: 0.2296\n",
      "Epoch 26/100\n",
      "908/908 [==============================] - 140s 141ms/step - loss: 0.0588 - mae: 0.2000 - val_loss: 0.0636 - val_mae: 0.2015\n",
      "Epoch 27/100\n",
      "908/908 [==============================] - 140s 141ms/step - loss: 0.0590 - mae: 0.2005 - val_loss: 0.0525 - val_mae: 0.1835\n",
      "Epoch 28/100\n",
      "908/908 [==============================] - 140s 141ms/step - loss: 0.0587 - mae: 0.2001 - val_loss: 0.1070 - val_mae: 0.2614\n",
      "Epoch 29/100\n",
      "908/908 [==============================] - 140s 141ms/step - loss: 0.0583 - mae: 0.1991 - val_loss: 0.0526 - val_mae: 0.1815\n",
      "Epoch 30/100\n",
      "908/908 [==============================] - 140s 141ms/step - loss: 0.0581 - mae: 0.1979 - val_loss: 0.0590 - val_mae: 0.1911\n",
      "Epoch 31/100\n",
      "908/908 [==============================] - 140s 141ms/step - loss: 0.0577 - mae: 0.1978 - val_loss: 0.0537 - val_mae: 0.1825\n",
      "Epoch 32/100\n",
      "908/908 [==============================] - 140s 140ms/step - loss: 0.0571 - mae: 0.1966 - val_loss: 0.0577 - val_mae: 0.1907\n",
      "Epoch 33/100\n",
      "908/908 [==============================] - 140s 141ms/step - loss: 0.0577 - mae: 0.1979 - val_loss: 0.0529 - val_mae: 0.1812\n",
      "Epoch 34/100\n",
      "908/908 [==============================] - 140s 141ms/step - loss: 0.0572 - mae: 0.1966 - val_loss: 0.0629 - val_mae: 0.1978\n",
      "Epoch 35/100\n",
      "908/908 [==============================] - 140s 141ms/step - loss: 0.0561 - mae: 0.1946 - val_loss: 0.0555 - val_mae: 0.1847\n",
      "Epoch 36/100\n",
      "908/908 [==============================] - 140s 141ms/step - loss: 0.0567 - mae: 0.1955 - val_loss: 0.0569 - val_mae: 0.1854\n",
      "Epoch 37/100\n",
      "908/908 [==============================] - 140s 140ms/step - loss: 0.0562 - mae: 0.1942 - val_loss: 0.0542 - val_mae: 0.1848\n",
      "Epoch 38/100\n",
      "908/908 [==============================] - 140s 141ms/step - loss: 0.0555 - mae: 0.1940 - val_loss: 0.0585 - val_mae: 0.1877\n",
      "Epoch 39/100\n",
      "908/908 [==============================] - 139s 139ms/step - loss: 0.0564 - mae: 0.1950 - val_loss: 0.0606 - val_mae: 0.1903\n",
      "Epoch 40/100\n",
      "908/908 [==============================] - 138s 138ms/step - loss: 0.0568 - mae: 0.1955 - val_loss: 0.0715 - val_mae: 0.1886\n",
      "Epoch 41/100\n",
      "908/908 [==============================] - 138s 139ms/step - loss: 0.0562 - mae: 0.1943 - val_loss: 0.0947 - val_mae: 0.2447\n",
      "Epoch 42/100\n",
      "908/908 [==============================] - 137s 139ms/step - loss: 0.0560 - mae: 0.1934 - val_loss: 0.0727 - val_mae: 0.2150\n",
      "Epoch 43/100\n",
      "908/908 [==============================] - 137s 139ms/step - loss: 0.0558 - mae: 0.1925 - val_loss: 0.0572 - val_mae: 0.1868\n",
      "Epoch 44/100\n",
      "908/908 [==============================] - 137s 139ms/step - loss: 0.0555 - mae: 0.1929 - val_loss: 0.0536 - val_mae: 0.1814\n",
      "Epoch 45/100\n",
      "908/908 [==============================] - 137s 139ms/step - loss: 0.0552 - mae: 0.1921 - val_loss: 0.1138 - val_mae: 0.1928\n",
      "Epoch 46/100\n",
      "908/908 [==============================] - 137s 139ms/step - loss: 0.0551 - mae: 0.1921 - val_loss: 0.0673 - val_mae: 0.1875\n",
      "Epoch 47/100\n",
      "908/908 [==============================] - 137s 139ms/step - loss: 0.0556 - mae: 0.1928 - val_loss: 0.0591 - val_mae: 0.1883\n",
      "Epoch 48/100\n",
      "908/908 [==============================] - 137s 139ms/step - loss: 0.0545 - mae: 0.1904 - val_loss: 0.0550 - val_mae: 0.1809\n",
      "Epoch 49/100\n",
      "908/908 [==============================] - 137s 139ms/step - loss: 0.0556 - mae: 0.1932 - val_loss: 0.0816 - val_mae: 0.2253\n",
      "Epoch 50/100\n",
      "908/908 [==============================] - 137s 139ms/step - loss: 0.0549 - mae: 0.1913 - val_loss: 0.1025 - val_mae: 0.2290\n",
      "Epoch 51/100\n",
      "908/908 [==============================] - 137s 139ms/step - loss: 0.0536 - mae: 0.1884 - val_loss: 0.0708 - val_mae: 0.2112\n",
      "Epoch 52/100\n",
      "908/908 [==============================] - 137s 139ms/step - loss: 0.0551 - mae: 0.1920 - val_loss: 1.0771 - val_mae: 0.2679\n",
      "Epoch 53/100\n",
      "908/908 [==============================] - 137s 139ms/step - loss: 0.0544 - mae: 0.1904 - val_loss: 0.0528 - val_mae: 0.1815\n",
      "Epoch 54/100\n",
      "908/908 [==============================] - 137s 139ms/step - loss: 0.0546 - mae: 0.1905 - val_loss: 0.0546 - val_mae: 0.1830\n",
      "Epoch 55/100\n",
      "908/908 [==============================] - 137s 139ms/step - loss: 0.0540 - mae: 0.1895 - val_loss: 0.1611 - val_mae: 0.2028\n",
      "Epoch 56/100\n",
      "908/908 [==============================] - 137s 139ms/step - loss: 0.0537 - mae: 0.1888 - val_loss: 0.0730 - val_mae: 0.2133\n",
      "Epoch 57/100\n",
      "908/908 [==============================] - 137s 139ms/step - loss: 0.0532 - mae: 0.1884 - val_loss: 8.4866 - val_mae: 0.3498\n",
      "Epoch 58/100\n",
      "908/908 [==============================] - 137s 139ms/step - loss: 0.0524 - mae: 0.1852 - val_loss: 0.0551 - val_mae: 0.1823\n",
      "Epoch 59/100\n",
      "908/908 [==============================] - 137s 139ms/step - loss: 0.0537 - mae: 0.1892 - val_loss: 0.0566 - val_mae: 0.1860\n",
      "Epoch 60/100\n",
      "908/908 [==============================] - 137s 139ms/step - loss: 0.0528 - mae: 0.1876 - val_loss: 0.0692 - val_mae: 0.1963\n",
      "Epoch 61/100\n",
      "908/908 [==============================] - 137s 139ms/step - loss: 0.0527 - mae: 0.1870 - val_loss: 0.0623 - val_mae: 0.1957\n",
      "Epoch 62/100\n",
      "908/908 [==============================] - 140s 142ms/step - loss: 0.0523 - mae: 0.1867 - val_loss: 0.0795 - val_mae: 0.1935\n",
      "Epoch 63/100\n",
      "908/908 [==============================] - 505s 544ms/step - loss: 0.0524 - mae: 0.1863 - val_loss: 0.0602 - val_mae: 0.1966\n",
      "Epoch 64/100\n",
      "908/908 [==============================] - 610s 659ms/step - loss: 0.0524 - mae: 0.1865 - val_loss: 0.0519 - val_mae: 0.1803\n",
      "Epoch 65/100\n",
      "908/908 [==============================] - 173s 177ms/step - loss: 0.0526 - mae: 0.1862 - val_loss: 0.0532 - val_mae: 0.1794\n",
      "Epoch 66/100\n",
      "908/908 [==============================] - 151s 154ms/step - loss: 0.0522 - mae: 0.1849 - val_loss: 0.0964 - val_mae: 0.2299\n",
      "Epoch 67/100\n",
      "908/908 [==============================] - 149s 151ms/step - loss: 0.0526 - mae: 0.1859 - val_loss: 0.0657 - val_mae: 0.1889\n",
      "Epoch 68/100\n",
      "908/908 [==============================] - 149s 151ms/step - loss: 0.0522 - mae: 0.1854 - val_loss: 0.0669 - val_mae: 0.2023\n",
      "Epoch 69/100\n",
      "908/908 [==============================] - 149s 151ms/step - loss: 0.0505 - mae: 0.1817 - val_loss: 0.1033 - val_mae: 0.2333\n",
      "Epoch 70/100\n",
      "908/908 [==============================] - 149s 151ms/step - loss: 0.0521 - mae: 0.1862 - val_loss: 0.0641 - val_mae: 0.2006\n",
      "Epoch 71/100\n",
      "908/908 [==============================] - 149s 151ms/step - loss: 0.0514 - mae: 0.1839 - val_loss: 0.0601 - val_mae: 0.1888\n",
      "Epoch 72/100\n",
      "908/908 [==============================] - 146s 148ms/step - loss: 0.0516 - mae: 0.1841 - val_loss: 0.0555 - val_mae: 0.1826\n",
      "Epoch 73/100\n",
      "908/908 [==============================] - 144s 146ms/step - loss: 0.0511 - mae: 0.1832 - val_loss: 0.0594 - val_mae: 0.1914\n",
      "Epoch 74/100\n",
      "908/908 [==============================] - 144s 146ms/step - loss: 0.0509 - mae: 0.1826 - val_loss: 0.0641 - val_mae: 0.1981\n",
      "Epoch 75/100\n",
      "908/908 [==============================] - 144s 146ms/step - loss: 0.0512 - mae: 0.1832 - val_loss: 7284.6958 - val_mae: 42.4735\n",
      "Epoch 76/100\n",
      "908/908 [==============================] - 144s 146ms/step - loss: 0.0561 - mae: 0.1942 - val_loss: 0.0588 - val_mae: 0.1895\n",
      "Epoch 77/100\n",
      "908/908 [==============================] - 144s 146ms/step - loss: 0.0537 - mae: 0.1887 - val_loss: 9.1230 - val_mae: 0.4271\n",
      "Epoch 78/100\n",
      "908/908 [==============================] - 144s 146ms/step - loss: 0.0521 - mae: 0.1856 - val_loss: 26.8437 - val_mae: 0.5548\n",
      "Epoch 79/100\n",
      "908/908 [==============================] - 144s 146ms/step - loss: 0.0513 - mae: 0.1832 - val_loss: 247.1668 - val_mae: 5.3144\n",
      "Epoch 80/100\n",
      "908/908 [==============================] - 142s 144ms/step - loss: 0.0522 - mae: 0.1853 - val_loss: 0.3584 - val_mae: 0.2493\n",
      "Epoch 81/100\n",
      "164/908 [====>.........................] - ETA: 1:41 - loss: 0.0578 - mae: 0.1994"
     ]
    },
    {
     "ename": "KeyboardInterrupt",
     "evalue": "",
     "output_type": "error",
     "traceback": [
      "\u001b[1;31m---------------------------------------------------------------------------\u001b[0m",
      "\u001b[1;31mKeyboardInterrupt\u001b[0m                         Traceback (most recent call last)",
      "\u001b[1;32m<ipython-input-6-b040a707f566>\u001b[0m in \u001b[0;36m<module>\u001b[1;34m\u001b[0m\n\u001b[0;32m      1\u001b[0m \u001b[0mconv_model\u001b[0m\u001b[1;33m.\u001b[0m\u001b[0mget_layer\u001b[0m\u001b[1;33m(\u001b[0m\u001b[1;34m\"vgg19\"\u001b[0m\u001b[1;33m)\u001b[0m\u001b[1;33m.\u001b[0m\u001b[0mtrainable\u001b[0m \u001b[1;33m=\u001b[0m \u001b[1;32mTrue\u001b[0m\u001b[1;33m\u001b[0m\u001b[1;33m\u001b[0m\u001b[0m\n\u001b[1;32m----> 2\u001b[1;33m \u001b[0mhistory\u001b[0m\u001b[1;33m=\u001b[0m\u001b[0mconv_model\u001b[0m\u001b[1;33m.\u001b[0m\u001b[0mfit\u001b[0m\u001b[1;33m(\u001b[0m\u001b[0mdataset_train\u001b[0m\u001b[1;33m,\u001b[0m \u001b[0mvalidation_data\u001b[0m \u001b[1;33m=\u001b[0m \u001b[0mdataset_val\u001b[0m\u001b[1;33m,\u001b[0m \u001b[0mepochs\u001b[0m \u001b[1;33m=\u001b[0m \u001b[1;36m100\u001b[0m\u001b[1;33m)\u001b[0m\u001b[1;33m\u001b[0m\u001b[1;33m\u001b[0m\u001b[0m\n\u001b[0m",
      "\u001b[1;32mc:\\users\\lmacl\\appdata\\local\\programs\\python\\python38\\lib\\site-packages\\tensorflow\\python\\keras\\engine\\training.py\u001b[0m in \u001b[0;36mfit\u001b[1;34m(self, x, y, batch_size, epochs, verbose, callbacks, validation_split, validation_data, shuffle, class_weight, sample_weight, initial_epoch, steps_per_epoch, validation_steps, validation_batch_size, validation_freq, max_queue_size, workers, use_multiprocessing)\u001b[0m\n\u001b[0;32m   1186\u001b[0m               \u001b[0mlogs\u001b[0m \u001b[1;33m=\u001b[0m \u001b[0mtmp_logs\u001b[0m  \u001b[1;31m# No error, now safe to assign to logs.\u001b[0m\u001b[1;33m\u001b[0m\u001b[1;33m\u001b[0m\u001b[0m\n\u001b[0;32m   1187\u001b[0m               \u001b[0mend_step\u001b[0m \u001b[1;33m=\u001b[0m \u001b[0mstep\u001b[0m \u001b[1;33m+\u001b[0m \u001b[0mdata_handler\u001b[0m\u001b[1;33m.\u001b[0m\u001b[0mstep_increment\u001b[0m\u001b[1;33m\u001b[0m\u001b[1;33m\u001b[0m\u001b[0m\n\u001b[1;32m-> 1188\u001b[1;33m               \u001b[0mcallbacks\u001b[0m\u001b[1;33m.\u001b[0m\u001b[0mon_train_batch_end\u001b[0m\u001b[1;33m(\u001b[0m\u001b[0mend_step\u001b[0m\u001b[1;33m,\u001b[0m \u001b[0mlogs\u001b[0m\u001b[1;33m)\u001b[0m\u001b[1;33m\u001b[0m\u001b[1;33m\u001b[0m\u001b[0m\n\u001b[0m\u001b[0;32m   1189\u001b[0m               \u001b[1;32mif\u001b[0m \u001b[0mself\u001b[0m\u001b[1;33m.\u001b[0m\u001b[0mstop_training\u001b[0m\u001b[1;33m:\u001b[0m\u001b[1;33m\u001b[0m\u001b[1;33m\u001b[0m\u001b[0m\n\u001b[0;32m   1190\u001b[0m                 \u001b[1;32mbreak\u001b[0m\u001b[1;33m\u001b[0m\u001b[1;33m\u001b[0m\u001b[0m\n",
      "\u001b[1;32mc:\\users\\lmacl\\appdata\\local\\programs\\python\\python38\\lib\\site-packages\\tensorflow\\python\\keras\\callbacks.py\u001b[0m in \u001b[0;36mon_train_batch_end\u001b[1;34m(self, batch, logs)\u001b[0m\n\u001b[0;32m    455\u001b[0m     \"\"\"\n\u001b[0;32m    456\u001b[0m     \u001b[1;32mif\u001b[0m \u001b[0mself\u001b[0m\u001b[1;33m.\u001b[0m\u001b[0m_should_call_train_batch_hooks\u001b[0m\u001b[1;33m:\u001b[0m\u001b[1;33m\u001b[0m\u001b[1;33m\u001b[0m\u001b[0m\n\u001b[1;32m--> 457\u001b[1;33m       \u001b[0mself\u001b[0m\u001b[1;33m.\u001b[0m\u001b[0m_call_batch_hook\u001b[0m\u001b[1;33m(\u001b[0m\u001b[0mModeKeys\u001b[0m\u001b[1;33m.\u001b[0m\u001b[0mTRAIN\u001b[0m\u001b[1;33m,\u001b[0m \u001b[1;34m'end'\u001b[0m\u001b[1;33m,\u001b[0m \u001b[0mbatch\u001b[0m\u001b[1;33m,\u001b[0m \u001b[0mlogs\u001b[0m\u001b[1;33m=\u001b[0m\u001b[0mlogs\u001b[0m\u001b[1;33m)\u001b[0m\u001b[1;33m\u001b[0m\u001b[1;33m\u001b[0m\u001b[0m\n\u001b[0m\u001b[0;32m    458\u001b[0m \u001b[1;33m\u001b[0m\u001b[0m\n\u001b[0;32m    459\u001b[0m   \u001b[1;32mdef\u001b[0m \u001b[0mon_test_batch_begin\u001b[0m\u001b[1;33m(\u001b[0m\u001b[0mself\u001b[0m\u001b[1;33m,\u001b[0m \u001b[0mbatch\u001b[0m\u001b[1;33m,\u001b[0m \u001b[0mlogs\u001b[0m\u001b[1;33m=\u001b[0m\u001b[1;32mNone\u001b[0m\u001b[1;33m)\u001b[0m\u001b[1;33m:\u001b[0m\u001b[1;33m\u001b[0m\u001b[1;33m\u001b[0m\u001b[0m\n",
      "\u001b[1;32mc:\\users\\lmacl\\appdata\\local\\programs\\python\\python38\\lib\\site-packages\\tensorflow\\python\\keras\\callbacks.py\u001b[0m in \u001b[0;36m_call_batch_hook\u001b[1;34m(self, mode, hook, batch, logs)\u001b[0m\n\u001b[0;32m    315\u001b[0m       \u001b[0mself\u001b[0m\u001b[1;33m.\u001b[0m\u001b[0m_call_batch_begin_hook\u001b[0m\u001b[1;33m(\u001b[0m\u001b[0mmode\u001b[0m\u001b[1;33m,\u001b[0m \u001b[0mbatch\u001b[0m\u001b[1;33m,\u001b[0m \u001b[0mlogs\u001b[0m\u001b[1;33m)\u001b[0m\u001b[1;33m\u001b[0m\u001b[1;33m\u001b[0m\u001b[0m\n\u001b[0;32m    316\u001b[0m     \u001b[1;32melif\u001b[0m \u001b[0mhook\u001b[0m \u001b[1;33m==\u001b[0m \u001b[1;34m'end'\u001b[0m\u001b[1;33m:\u001b[0m\u001b[1;33m\u001b[0m\u001b[1;33m\u001b[0m\u001b[0m\n\u001b[1;32m--> 317\u001b[1;33m       \u001b[0mself\u001b[0m\u001b[1;33m.\u001b[0m\u001b[0m_call_batch_end_hook\u001b[0m\u001b[1;33m(\u001b[0m\u001b[0mmode\u001b[0m\u001b[1;33m,\u001b[0m \u001b[0mbatch\u001b[0m\u001b[1;33m,\u001b[0m \u001b[0mlogs\u001b[0m\u001b[1;33m)\u001b[0m\u001b[1;33m\u001b[0m\u001b[1;33m\u001b[0m\u001b[0m\n\u001b[0m\u001b[0;32m    318\u001b[0m     \u001b[1;32melse\u001b[0m\u001b[1;33m:\u001b[0m\u001b[1;33m\u001b[0m\u001b[1;33m\u001b[0m\u001b[0m\n\u001b[0;32m    319\u001b[0m       \u001b[1;32mraise\u001b[0m \u001b[0mValueError\u001b[0m\u001b[1;33m(\u001b[0m\u001b[1;34m'Unrecognized hook: {}'\u001b[0m\u001b[1;33m.\u001b[0m\u001b[0mformat\u001b[0m\u001b[1;33m(\u001b[0m\u001b[0mhook\u001b[0m\u001b[1;33m)\u001b[0m\u001b[1;33m)\u001b[0m\u001b[1;33m\u001b[0m\u001b[1;33m\u001b[0m\u001b[0m\n",
      "\u001b[1;32mc:\\users\\lmacl\\appdata\\local\\programs\\python\\python38\\lib\\site-packages\\tensorflow\\python\\keras\\callbacks.py\u001b[0m in \u001b[0;36m_call_batch_end_hook\u001b[1;34m(self, mode, batch, logs)\u001b[0m\n\u001b[0;32m    335\u001b[0m       \u001b[0mself\u001b[0m\u001b[1;33m.\u001b[0m\u001b[0m_batch_times\u001b[0m\u001b[1;33m.\u001b[0m\u001b[0mappend\u001b[0m\u001b[1;33m(\u001b[0m\u001b[0mbatch_time\u001b[0m\u001b[1;33m)\u001b[0m\u001b[1;33m\u001b[0m\u001b[1;33m\u001b[0m\u001b[0m\n\u001b[0;32m    336\u001b[0m \u001b[1;33m\u001b[0m\u001b[0m\n\u001b[1;32m--> 337\u001b[1;33m     \u001b[0mself\u001b[0m\u001b[1;33m.\u001b[0m\u001b[0m_call_batch_hook_helper\u001b[0m\u001b[1;33m(\u001b[0m\u001b[0mhook_name\u001b[0m\u001b[1;33m,\u001b[0m \u001b[0mbatch\u001b[0m\u001b[1;33m,\u001b[0m \u001b[0mlogs\u001b[0m\u001b[1;33m)\u001b[0m\u001b[1;33m\u001b[0m\u001b[1;33m\u001b[0m\u001b[0m\n\u001b[0m\u001b[0;32m    338\u001b[0m \u001b[1;33m\u001b[0m\u001b[0m\n\u001b[0;32m    339\u001b[0m     \u001b[1;32mif\u001b[0m \u001b[0mlen\u001b[0m\u001b[1;33m(\u001b[0m\u001b[0mself\u001b[0m\u001b[1;33m.\u001b[0m\u001b[0m_batch_times\u001b[0m\u001b[1;33m)\u001b[0m \u001b[1;33m>=\u001b[0m \u001b[0mself\u001b[0m\u001b[1;33m.\u001b[0m\u001b[0m_num_batches_for_timing_check\u001b[0m\u001b[1;33m:\u001b[0m\u001b[1;33m\u001b[0m\u001b[1;33m\u001b[0m\u001b[0m\n",
      "\u001b[1;32mc:\\users\\lmacl\\appdata\\local\\programs\\python\\python38\\lib\\site-packages\\tensorflow\\python\\keras\\callbacks.py\u001b[0m in \u001b[0;36m_call_batch_hook_helper\u001b[1;34m(self, hook_name, batch, logs)\u001b[0m\n\u001b[0;32m    373\u001b[0m     \u001b[1;32mfor\u001b[0m \u001b[0mcallback\u001b[0m \u001b[1;32min\u001b[0m \u001b[0mself\u001b[0m\u001b[1;33m.\u001b[0m\u001b[0mcallbacks\u001b[0m\u001b[1;33m:\u001b[0m\u001b[1;33m\u001b[0m\u001b[1;33m\u001b[0m\u001b[0m\n\u001b[0;32m    374\u001b[0m       \u001b[0mhook\u001b[0m \u001b[1;33m=\u001b[0m \u001b[0mgetattr\u001b[0m\u001b[1;33m(\u001b[0m\u001b[0mcallback\u001b[0m\u001b[1;33m,\u001b[0m \u001b[0mhook_name\u001b[0m\u001b[1;33m)\u001b[0m\u001b[1;33m\u001b[0m\u001b[1;33m\u001b[0m\u001b[0m\n\u001b[1;32m--> 375\u001b[1;33m       \u001b[0mhook\u001b[0m\u001b[1;33m(\u001b[0m\u001b[0mbatch\u001b[0m\u001b[1;33m,\u001b[0m \u001b[0mlogs\u001b[0m\u001b[1;33m)\u001b[0m\u001b[1;33m\u001b[0m\u001b[1;33m\u001b[0m\u001b[0m\n\u001b[0m\u001b[0;32m    376\u001b[0m \u001b[1;33m\u001b[0m\u001b[0m\n\u001b[0;32m    377\u001b[0m     \u001b[1;32mif\u001b[0m \u001b[0mself\u001b[0m\u001b[1;33m.\u001b[0m\u001b[0m_check_timing\u001b[0m\u001b[1;33m:\u001b[0m\u001b[1;33m\u001b[0m\u001b[1;33m\u001b[0m\u001b[0m\n",
      "\u001b[1;32mc:\\users\\lmacl\\appdata\\local\\programs\\python\\python38\\lib\\site-packages\\tensorflow\\python\\keras\\callbacks.py\u001b[0m in \u001b[0;36mon_train_batch_end\u001b[1;34m(self, batch, logs)\u001b[0m\n\u001b[0;32m   1027\u001b[0m \u001b[1;33m\u001b[0m\u001b[0m\n\u001b[0;32m   1028\u001b[0m   \u001b[1;32mdef\u001b[0m \u001b[0mon_train_batch_end\u001b[0m\u001b[1;33m(\u001b[0m\u001b[0mself\u001b[0m\u001b[1;33m,\u001b[0m \u001b[0mbatch\u001b[0m\u001b[1;33m,\u001b[0m \u001b[0mlogs\u001b[0m\u001b[1;33m=\u001b[0m\u001b[1;32mNone\u001b[0m\u001b[1;33m)\u001b[0m\u001b[1;33m:\u001b[0m\u001b[1;33m\u001b[0m\u001b[1;33m\u001b[0m\u001b[0m\n\u001b[1;32m-> 1029\u001b[1;33m     \u001b[0mself\u001b[0m\u001b[1;33m.\u001b[0m\u001b[0m_batch_update_progbar\u001b[0m\u001b[1;33m(\u001b[0m\u001b[0mbatch\u001b[0m\u001b[1;33m,\u001b[0m \u001b[0mlogs\u001b[0m\u001b[1;33m)\u001b[0m\u001b[1;33m\u001b[0m\u001b[1;33m\u001b[0m\u001b[0m\n\u001b[0m\u001b[0;32m   1030\u001b[0m \u001b[1;33m\u001b[0m\u001b[0m\n\u001b[0;32m   1031\u001b[0m   \u001b[1;32mdef\u001b[0m \u001b[0mon_test_batch_end\u001b[0m\u001b[1;33m(\u001b[0m\u001b[0mself\u001b[0m\u001b[1;33m,\u001b[0m \u001b[0mbatch\u001b[0m\u001b[1;33m,\u001b[0m \u001b[0mlogs\u001b[0m\u001b[1;33m=\u001b[0m\u001b[1;32mNone\u001b[0m\u001b[1;33m)\u001b[0m\u001b[1;33m:\u001b[0m\u001b[1;33m\u001b[0m\u001b[1;33m\u001b[0m\u001b[0m\n",
      "\u001b[1;32mc:\\users\\lmacl\\appdata\\local\\programs\\python\\python38\\lib\\site-packages\\tensorflow\\python\\keras\\callbacks.py\u001b[0m in \u001b[0;36m_batch_update_progbar\u001b[1;34m(self, batch, logs)\u001b[0m\n\u001b[0;32m   1099\u001b[0m     \u001b[1;32mif\u001b[0m \u001b[0mself\u001b[0m\u001b[1;33m.\u001b[0m\u001b[0mverbose\u001b[0m \u001b[1;33m==\u001b[0m \u001b[1;36m1\u001b[0m\u001b[1;33m:\u001b[0m\u001b[1;33m\u001b[0m\u001b[1;33m\u001b[0m\u001b[0m\n\u001b[0;32m   1100\u001b[0m       \u001b[1;31m# Only block async when verbose = 1.\u001b[0m\u001b[1;33m\u001b[0m\u001b[1;33m\u001b[0m\u001b[1;33m\u001b[0m\u001b[0m\n\u001b[1;32m-> 1101\u001b[1;33m       \u001b[0mlogs\u001b[0m \u001b[1;33m=\u001b[0m \u001b[0mtf_utils\u001b[0m\u001b[1;33m.\u001b[0m\u001b[0msync_to_numpy_or_python_type\u001b[0m\u001b[1;33m(\u001b[0m\u001b[0mlogs\u001b[0m\u001b[1;33m)\u001b[0m\u001b[1;33m\u001b[0m\u001b[1;33m\u001b[0m\u001b[0m\n\u001b[0m\u001b[0;32m   1102\u001b[0m       \u001b[0mself\u001b[0m\u001b[1;33m.\u001b[0m\u001b[0mprogbar\u001b[0m\u001b[1;33m.\u001b[0m\u001b[0mupdate\u001b[0m\u001b[1;33m(\u001b[0m\u001b[0mself\u001b[0m\u001b[1;33m.\u001b[0m\u001b[0mseen\u001b[0m\u001b[1;33m,\u001b[0m \u001b[0mlist\u001b[0m\u001b[1;33m(\u001b[0m\u001b[0mlogs\u001b[0m\u001b[1;33m.\u001b[0m\u001b[0mitems\u001b[0m\u001b[1;33m(\u001b[0m\u001b[1;33m)\u001b[0m\u001b[1;33m)\u001b[0m\u001b[1;33m,\u001b[0m \u001b[0mfinalize\u001b[0m\u001b[1;33m=\u001b[0m\u001b[1;32mFalse\u001b[0m\u001b[1;33m)\u001b[0m\u001b[1;33m\u001b[0m\u001b[1;33m\u001b[0m\u001b[0m\n\u001b[0;32m   1103\u001b[0m \u001b[1;33m\u001b[0m\u001b[0m\n",
      "\u001b[1;32mc:\\users\\lmacl\\appdata\\local\\programs\\python\\python38\\lib\\site-packages\\tensorflow\\python\\keras\\utils\\tf_utils.py\u001b[0m in \u001b[0;36msync_to_numpy_or_python_type\u001b[1;34m(tensors)\u001b[0m\n\u001b[0;32m    517\u001b[0m     \u001b[1;32mreturn\u001b[0m \u001b[0mt\u001b[0m  \u001b[1;31m# Don't turn ragged or sparse tensors to NumPy.\u001b[0m\u001b[1;33m\u001b[0m\u001b[1;33m\u001b[0m\u001b[0m\n\u001b[0;32m    518\u001b[0m \u001b[1;33m\u001b[0m\u001b[0m\n\u001b[1;32m--> 519\u001b[1;33m   \u001b[1;32mreturn\u001b[0m \u001b[0mnest\u001b[0m\u001b[1;33m.\u001b[0m\u001b[0mmap_structure\u001b[0m\u001b[1;33m(\u001b[0m\u001b[0m_to_single_numpy_or_python_type\u001b[0m\u001b[1;33m,\u001b[0m \u001b[0mtensors\u001b[0m\u001b[1;33m)\u001b[0m\u001b[1;33m\u001b[0m\u001b[1;33m\u001b[0m\u001b[0m\n\u001b[0m\u001b[0;32m    520\u001b[0m \u001b[1;33m\u001b[0m\u001b[0m\n\u001b[0;32m    521\u001b[0m \u001b[1;33m\u001b[0m\u001b[0m\n",
      "\u001b[1;32mc:\\users\\lmacl\\appdata\\local\\programs\\python\\python38\\lib\\site-packages\\tensorflow\\python\\util\\nest.py\u001b[0m in \u001b[0;36mmap_structure\u001b[1;34m(func, *structure, **kwargs)\u001b[0m\n\u001b[0;32m    865\u001b[0m \u001b[1;33m\u001b[0m\u001b[0m\n\u001b[0;32m    866\u001b[0m   return pack_sequence_as(\n\u001b[1;32m--> 867\u001b[1;33m       \u001b[0mstructure\u001b[0m\u001b[1;33m[\u001b[0m\u001b[1;36m0\u001b[0m\u001b[1;33m]\u001b[0m\u001b[1;33m,\u001b[0m \u001b[1;33m[\u001b[0m\u001b[0mfunc\u001b[0m\u001b[1;33m(\u001b[0m\u001b[1;33m*\u001b[0m\u001b[0mx\u001b[0m\u001b[1;33m)\u001b[0m \u001b[1;32mfor\u001b[0m \u001b[0mx\u001b[0m \u001b[1;32min\u001b[0m \u001b[0mentries\u001b[0m\u001b[1;33m]\u001b[0m\u001b[1;33m,\u001b[0m\u001b[1;33m\u001b[0m\u001b[1;33m\u001b[0m\u001b[0m\n\u001b[0m\u001b[0;32m    868\u001b[0m       expand_composites=expand_composites)\n\u001b[0;32m    869\u001b[0m \u001b[1;33m\u001b[0m\u001b[0m\n",
      "\u001b[1;32mc:\\users\\lmacl\\appdata\\local\\programs\\python\\python38\\lib\\site-packages\\tensorflow\\python\\util\\nest.py\u001b[0m in \u001b[0;36m<listcomp>\u001b[1;34m(.0)\u001b[0m\n\u001b[0;32m    865\u001b[0m \u001b[1;33m\u001b[0m\u001b[0m\n\u001b[0;32m    866\u001b[0m   return pack_sequence_as(\n\u001b[1;32m--> 867\u001b[1;33m       \u001b[0mstructure\u001b[0m\u001b[1;33m[\u001b[0m\u001b[1;36m0\u001b[0m\u001b[1;33m]\u001b[0m\u001b[1;33m,\u001b[0m \u001b[1;33m[\u001b[0m\u001b[0mfunc\u001b[0m\u001b[1;33m(\u001b[0m\u001b[1;33m*\u001b[0m\u001b[0mx\u001b[0m\u001b[1;33m)\u001b[0m \u001b[1;32mfor\u001b[0m \u001b[0mx\u001b[0m \u001b[1;32min\u001b[0m \u001b[0mentries\u001b[0m\u001b[1;33m]\u001b[0m\u001b[1;33m,\u001b[0m\u001b[1;33m\u001b[0m\u001b[1;33m\u001b[0m\u001b[0m\n\u001b[0m\u001b[0;32m    868\u001b[0m       expand_composites=expand_composites)\n\u001b[0;32m    869\u001b[0m \u001b[1;33m\u001b[0m\u001b[0m\n",
      "\u001b[1;32mc:\\users\\lmacl\\appdata\\local\\programs\\python\\python38\\lib\\site-packages\\tensorflow\\python\\keras\\utils\\tf_utils.py\u001b[0m in \u001b[0;36m_to_single_numpy_or_python_type\u001b[1;34m(t)\u001b[0m\n\u001b[0;32m    513\u001b[0m   \u001b[1;32mdef\u001b[0m \u001b[0m_to_single_numpy_or_python_type\u001b[0m\u001b[1;33m(\u001b[0m\u001b[0mt\u001b[0m\u001b[1;33m)\u001b[0m\u001b[1;33m:\u001b[0m\u001b[1;33m\u001b[0m\u001b[1;33m\u001b[0m\u001b[0m\n\u001b[0;32m    514\u001b[0m     \u001b[1;32mif\u001b[0m \u001b[0misinstance\u001b[0m\u001b[1;33m(\u001b[0m\u001b[0mt\u001b[0m\u001b[1;33m,\u001b[0m \u001b[0mops\u001b[0m\u001b[1;33m.\u001b[0m\u001b[0mTensor\u001b[0m\u001b[1;33m)\u001b[0m\u001b[1;33m:\u001b[0m\u001b[1;33m\u001b[0m\u001b[1;33m\u001b[0m\u001b[0m\n\u001b[1;32m--> 515\u001b[1;33m       \u001b[0mx\u001b[0m \u001b[1;33m=\u001b[0m \u001b[0mt\u001b[0m\u001b[1;33m.\u001b[0m\u001b[0mnumpy\u001b[0m\u001b[1;33m(\u001b[0m\u001b[1;33m)\u001b[0m\u001b[1;33m\u001b[0m\u001b[1;33m\u001b[0m\u001b[0m\n\u001b[0m\u001b[0;32m    516\u001b[0m       \u001b[1;32mreturn\u001b[0m \u001b[0mx\u001b[0m\u001b[1;33m.\u001b[0m\u001b[0mitem\u001b[0m\u001b[1;33m(\u001b[0m\u001b[1;33m)\u001b[0m \u001b[1;32mif\u001b[0m \u001b[0mnp\u001b[0m\u001b[1;33m.\u001b[0m\u001b[0mndim\u001b[0m\u001b[1;33m(\u001b[0m\u001b[0mx\u001b[0m\u001b[1;33m)\u001b[0m \u001b[1;33m==\u001b[0m \u001b[1;36m0\u001b[0m \u001b[1;32melse\u001b[0m \u001b[0mx\u001b[0m\u001b[1;33m\u001b[0m\u001b[1;33m\u001b[0m\u001b[0m\n\u001b[0;32m    517\u001b[0m     \u001b[1;32mreturn\u001b[0m \u001b[0mt\u001b[0m  \u001b[1;31m# Don't turn ragged or sparse tensors to NumPy.\u001b[0m\u001b[1;33m\u001b[0m\u001b[1;33m\u001b[0m\u001b[0m\n",
      "\u001b[1;32mc:\\users\\lmacl\\appdata\\local\\programs\\python\\python38\\lib\\site-packages\\tensorflow\\python\\framework\\ops.py\u001b[0m in \u001b[0;36mnumpy\u001b[1;34m(self)\u001b[0m\n\u001b[0;32m   1092\u001b[0m     \"\"\"\n\u001b[0;32m   1093\u001b[0m     \u001b[1;31m# TODO(slebedev): Consider avoiding a copy for non-CPU or remote tensors.\u001b[0m\u001b[1;33m\u001b[0m\u001b[1;33m\u001b[0m\u001b[1;33m\u001b[0m\u001b[0m\n\u001b[1;32m-> 1094\u001b[1;33m     \u001b[0mmaybe_arr\u001b[0m \u001b[1;33m=\u001b[0m \u001b[0mself\u001b[0m\u001b[1;33m.\u001b[0m\u001b[0m_numpy\u001b[0m\u001b[1;33m(\u001b[0m\u001b[1;33m)\u001b[0m  \u001b[1;31m# pylint: disable=protected-access\u001b[0m\u001b[1;33m\u001b[0m\u001b[1;33m\u001b[0m\u001b[0m\n\u001b[0m\u001b[0;32m   1095\u001b[0m     \u001b[1;32mreturn\u001b[0m \u001b[0mmaybe_arr\u001b[0m\u001b[1;33m.\u001b[0m\u001b[0mcopy\u001b[0m\u001b[1;33m(\u001b[0m\u001b[1;33m)\u001b[0m \u001b[1;32mif\u001b[0m \u001b[0misinstance\u001b[0m\u001b[1;33m(\u001b[0m\u001b[0mmaybe_arr\u001b[0m\u001b[1;33m,\u001b[0m \u001b[0mnp\u001b[0m\u001b[1;33m.\u001b[0m\u001b[0mndarray\u001b[0m\u001b[1;33m)\u001b[0m \u001b[1;32melse\u001b[0m \u001b[0mmaybe_arr\u001b[0m\u001b[1;33m\u001b[0m\u001b[1;33m\u001b[0m\u001b[0m\n\u001b[0;32m   1096\u001b[0m \u001b[1;33m\u001b[0m\u001b[0m\n",
      "\u001b[1;32mc:\\users\\lmacl\\appdata\\local\\programs\\python\\python38\\lib\\site-packages\\tensorflow\\python\\framework\\ops.py\u001b[0m in \u001b[0;36m_numpy\u001b[1;34m(self)\u001b[0m\n\u001b[0;32m   1058\u001b[0m   \u001b[1;32mdef\u001b[0m \u001b[0m_numpy\u001b[0m\u001b[1;33m(\u001b[0m\u001b[0mself\u001b[0m\u001b[1;33m)\u001b[0m\u001b[1;33m:\u001b[0m\u001b[1;33m\u001b[0m\u001b[1;33m\u001b[0m\u001b[0m\n\u001b[0;32m   1059\u001b[0m     \u001b[1;32mtry\u001b[0m\u001b[1;33m:\u001b[0m\u001b[1;33m\u001b[0m\u001b[1;33m\u001b[0m\u001b[0m\n\u001b[1;32m-> 1060\u001b[1;33m       \u001b[1;32mreturn\u001b[0m \u001b[0mself\u001b[0m\u001b[1;33m.\u001b[0m\u001b[0m_numpy_internal\u001b[0m\u001b[1;33m(\u001b[0m\u001b[1;33m)\u001b[0m\u001b[1;33m\u001b[0m\u001b[1;33m\u001b[0m\u001b[0m\n\u001b[0m\u001b[0;32m   1061\u001b[0m     \u001b[1;32mexcept\u001b[0m \u001b[0mcore\u001b[0m\u001b[1;33m.\u001b[0m\u001b[0m_NotOkStatusException\u001b[0m \u001b[1;32mas\u001b[0m \u001b[0me\u001b[0m\u001b[1;33m:\u001b[0m  \u001b[1;31m# pylint: disable=protected-access\u001b[0m\u001b[1;33m\u001b[0m\u001b[1;33m\u001b[0m\u001b[0m\n\u001b[0;32m   1062\u001b[0m       \u001b[0msix\u001b[0m\u001b[1;33m.\u001b[0m\u001b[0mraise_from\u001b[0m\u001b[1;33m(\u001b[0m\u001b[0mcore\u001b[0m\u001b[1;33m.\u001b[0m\u001b[0m_status_to_exception\u001b[0m\u001b[1;33m(\u001b[0m\u001b[0me\u001b[0m\u001b[1;33m.\u001b[0m\u001b[0mcode\u001b[0m\u001b[1;33m,\u001b[0m \u001b[0me\u001b[0m\u001b[1;33m.\u001b[0m\u001b[0mmessage\u001b[0m\u001b[1;33m)\u001b[0m\u001b[1;33m,\u001b[0m \u001b[1;32mNone\u001b[0m\u001b[1;33m)\u001b[0m  \u001b[1;31m# pylint: disable=protected-access\u001b[0m\u001b[1;33m\u001b[0m\u001b[1;33m\u001b[0m\u001b[0m\n",
      "\u001b[1;31mKeyboardInterrupt\u001b[0m: "
     ]
    }
   ],
   "source": [
    "conv_model.get_layer(\"vgg19\").trainable = True\n",
    "history=conv_model.fit(dataset_train, validation_data = dataset_val, epochs = 40)"
   ]
  },
  {
   "cell_type": "code",
   "execution_count": null,
   "id": "62e0b5ce",
   "metadata": {},
   "outputs": [],
   "source": []
  },
  {
   "cell_type": "code",
   "execution_count": 10,
   "id": "4a705099",
   "metadata": {
    "scrolled": true
   },
   "outputs": [
    {
     "name": "stdout",
     "output_type": "stream",
     "text": [
      "[252 252 251 ... 172 187 239]\n",
      "tf.Tensor(\n",
      "[[-0.04391718]\n",
      " [-0.16752046]\n",
      " [-0.19257626]\n",
      " [-0.27261516]\n",
      " [ 0.07792117]\n",
      " [-0.02197579]], shape=(6, 1), dtype=float32)\n"
     ]
    }
   ],
   "source": [
    "for element in dataset_train.as_numpy_iterator():\n",
    "    print(element[0][0])\n",
    "    print(conv_model(element[0]))\n",
    "    break"
   ]
  },
  {
   "cell_type": "code",
   "execution_count": null,
   "id": "0d09ce6c",
   "metadata": {},
   "outputs": [],
   "source": []
  }
 ],
 "metadata": {
  "kernelspec": {
   "display_name": "Python 3",
   "language": "python",
   "name": "python3"
  },
  "language_info": {
   "codemirror_mode": {
    "name": "ipython",
    "version": 3
   },
   "file_extension": ".py",
   "mimetype": "text/x-python",
   "name": "python",
   "nbconvert_exporter": "python",
   "pygments_lexer": "ipython3",
   "version": "3.8.0"
  }
 },
 "nbformat": 4,
 "nbformat_minor": 5
}
