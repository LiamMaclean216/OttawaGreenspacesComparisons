{
 "cells": [
  {
   "cell_type": "code",
   "execution_count": 3,
   "id": "65b0eb3d",
   "metadata": {},
   "outputs": [
    {
     "name": "stdout",
     "output_type": "stream",
     "text": [
      "Imports\n"
     ]
    }
   ],
   "source": [
    "print(\"Imports\")\n",
    "from keras.models import load_model\n",
    "from Class_Image import Image\n",
    "from os.path import abspath\n",
    "from Class_training import *\n",
    "from Model_comparisons import *\n",
    "from os.path import abspath, join\n",
    "import numpy as np\n",
    "import requests\n",
    "import matplotlib.pyplot as plt\n",
    "#import keras\n",
    "from tensorflow.keras import Input, Model\n",
    "import pandas\n",
    "import Class_Image as Ci\n",
    "from pymapillary import Mapillary\n",
    "from PIL import Image\n",
    "import cv2\n",
    "import asyncio\n",
    "%matplotlib inline\n",
    "\n",
    "import mercantile, mapbox_vector_tile, requests, json\n",
    "from vt2geojson.tools import vt_bytes_to_geojson\n",
    "from haversine import haversine\n",
    "import datetime\n",
    "import time"
   ]
  },
  {
   "cell_type": "code",
   "execution_count": 20,
   "id": "c5b42fc1",
   "metadata": {},
   "outputs": [
    {
     "name": "stdout",
     "output_type": "stream",
     "text": [
      "Tile(x=11642, y=5876, z=14)\n",
      "Tile(x=11614, y=5857, z=14)\n",
      "Tile(x=11615, y=5857, z=14)\n"
     ]
    }
   ],
   "source": [
    "print(mercantile.tile(75.8126942, 45.2694265,14))\n",
    "a= mercantile.tile(75.1949065,45.5657147,14 )\n",
    "print(a)\n",
    "print(mercantile.tile(*mercantile.ul(a.x+1,a.y,a.z), 14))"
   ]
  },
  {
   "cell_type": "code",
   "execution_count": 2,
   "id": "d20d607c",
   "metadata": {},
   "outputs": [],
   "source": [
    "#async \n",
    "def get_image_at_url(path):\n",
    "    return np.array(Ci.Image(path).preprocess_image(224)).reshape([1,224*224*3])\n",
    "\n",
    "#async \n",
    "def url_at_coords(api, west,north):\n",
    "    return api.url_at_coords(west, north)"
   ]
  },
  {
   "cell_type": "code",
   "execution_count": 32,
   "id": "f621fdc8",
   "metadata": {},
   "outputs": [],
   "source": [
    "\n",
    "# Convert captured_at timestamp to a date\n",
    "def msEpochToDate(in_ms_since_epoch):\n",
    "    s = in_ms_since_epoch / 1000.0\n",
    "    return(datetime.datetime.fromtimestamp(s).strftime('%Y-%m-%d %H:%M:%S.%f'))\n",
    "\n",
    "class Mapillary:\n",
    "    def __init__(self, access_token, search_b_left, search_t_right):\n",
    "        self.search_b_left = search_b_left #Format [W, N]\n",
    "        self.search_t_right = search_t_right  #Format [W, N]\n",
    "        self.zoom = 14\n",
    "        self.reset()\n",
    "        \n",
    "        self.access_token = access_token\n",
    "        \n",
    "        # header for call to image endpoint\n",
    "        self.headers= { \"Authorization\" : \"OAuth {}\".format(access_token) }\n",
    "        \n",
    "    def reset():\n",
    "        self.tile = mercantile.tile(self.search_b_left[0], self.search_b_left[1], self.zoom) #tile that moves accross map\n",
    "        \n",
    "        self.b_left_tile = mercantile.tile(self.search_b_left[0], self.search_b_left[1], self.zoom) #tile at bottom left\n",
    "        self.t_right_tile = mercantile.tile(self.search_t_right[0], self.search_t_right[1], self.zoom) #tile at top right\n",
    "    \n",
    "    #def url_at_coords(self, east, south, west, north, show_progess = False):\n",
    "    def url_at_coords(self, west, north, show_progess = False):\n",
    "        #make box aruond point\n",
    "        #east = west - 0.05\n",
    "        #south = north - 0.05\n",
    "        #west += 0.05\n",
    "        #north += 0.05\n",
    "        east = west - 0.01\n",
    "        south = north - 0.01\n",
    "        #east, south, west, north = [-80.13423442840576,25.77376933762778,-80.1264238357544,25.788608487732198]\n",
    "                          #          -80.12542383575439 25.7896084877322 -80.1274238357544 25.787608487732196\n",
    "\n",
    "        # define an empty geojson as output\n",
    "        output= { \"type\": \"FeatureCollection\", \"features\": [] }\n",
    "        \n",
    "        # loop through all tiles to get IDs of Mapillary data\n",
    "        # Input coordinates would be the original point coordinates sent to the class\n",
    "        input_coords=[west,north]\n",
    "        \n",
    "        filter_radius = 200\n",
    "        \n",
    "        # get the tiles with x and y coors intersecting bbox at zoom 14 only\n",
    "        #tiles = list(mercantile.tiles(east, south, west, north, zoom))\n",
    "        tiles = [mercantile.tile(west, north, zoom)]\n",
    "        \n",
    "        for x in range(self.b_left_tile.x, self.t_right_tilex):\n",
    "            for y in range(self.b_left_tile.y, self.t_right_tile.y):\n",
    "        \n",
    "        #print(len(tiles))\n",
    "        \n",
    "        for i, tile in enumerate(tiles):\n",
    "            #time.sleep(4)\n",
    "            tile_url = 'https://tiles.mapillary.com/maps/vtp/mly1_public/2/{}/{}/{}?access_token={}'.format(tile.z,tile.x,tile.y,self.access_token)\n",
    "            response = requests.get(tile_url)\n",
    "            #print(response.content)\n",
    "            data = vt_bytes_to_geojson(response.content, tile.x, tile.y, tile.z)\n",
    "            \n",
    "            filtered_data = [feature for feature in data['features'] if feature['geometry']['type'] in ['Point']]\n",
    "\n",
    "            for feature in filtered_data:\n",
    "                distance = haversine(input_coords,feature['geometry']['coordinates'],unit=\"m\")\n",
    "               # dmat.append(distance)\n",
    "                if distance < filter_radius:\n",
    "                    feature['distance']=distance\n",
    "                    output['features'].append(feature)\n",
    "                    #print(len(output['features']))\n",
    "            if show_progess:\n",
    "                print(f\"\\r {i+1}/{len(tiles)} | {((i+1)/len(tiles))*100}%\", end=\"\")\n",
    "\n",
    "        \n",
    "        #print(output)\n",
    "        if len(output['features']) == 0:\n",
    "            return None\n",
    "        \n",
    "        fields = ['captured_at','thumb_256_url','geometry']\n",
    "        fields = ','.join(fields)\n",
    "        image_dates_urls=[]\n",
    "        # can roll this into the filtered data loop above if you want.\n",
    "        for feature in [output['features'][0]]:\n",
    "            image_id=feature['properties']['id']\n",
    "            image_endpoint_url = f'https://graph.mapillary.com/{image_id}?fields={fields}&access_token={self.access_token}'\n",
    "            \n",
    "\n",
    "            image_response = requests.get(image_endpoint_url, headers=self.headers)\n",
    "            \n",
    "\n",
    "            \n",
    "            image_metadata = image_response.json()\n",
    "            if 'error' in image_metadata:\n",
    "                break\n",
    "\n",
    "            image_metadata['captured_at']=msEpochToDate(image_metadata['captured_at'])\n",
    "            image_metadata['distance']=feature['distance']\n",
    "            image_dates_urls.append(image_metadata)\n",
    "            \n",
    "            \n",
    "        if len(image_dates_urls) == 0:\n",
    "            return None\n",
    "        \n",
    "        return image_dates_urls[0]"
   ]
  },
  {
   "cell_type": "code",
   "execution_count": 21,
   "id": "35a13739",
   "metadata": {},
   "outputs": [
    {
     "name": "stdout",
     "output_type": "stream",
     "text": [
      "2 5\n",
      "2 6\n",
      "3 5\n",
      "3 6\n"
     ]
    }
   ],
   "source": [
    "bleft = [2,5]\n",
    "tright = [4,7]\n",
    "\n",
    "for x in range(bleft[0], tright[0]):\n",
    "    for y in range(bleft[1], tright[1]):\n",
    "        print(x,y)"
   ]
  },
  {
   "cell_type": "code",
   "execution_count": 4,
   "id": "00e3fcba",
   "metadata": {},
   "outputs": [],
   "source": [
    "\n",
    "\n",
    "df = pandas.DataFrame(columns=[[\"long\", \"lat\", \"rank\"]])#.append([[\"long\", \"lat\", \"rank\"]])\n",
    "conv_model = ranking_model(224)\n",
    "#conv_model.load_weights(\"Z:/ranking_model.h\")\n",
    "model = Model(conv_model.input, conv_model.layers[24].output)\n",
    "\n",
    "sample_points = pandas.read_excel(\"D:/Road_Centrelines_FeatureVert2_TableToExcel.xlsx\", sheet_name=None)\n",
    "sample_points = sample_points['Road_Centrelines_FeatureVert2_T'][[\"POINT_X\",\"POINT_Y\"]].sample(frac=1) #shuffle\n"
   ]
  },
  {
   "cell_type": "code",
   "execution_count": 33,
   "id": "187f9005",
   "metadata": {
    "scrolled": true
   },
   "outputs": [
    {
     "name": "stdout",
     "output_type": "stream",
     "text": [
      " 19/194198"
     ]
    },
    {
     "ename": "KeyboardInterrupt",
     "evalue": "",
     "output_type": "error",
     "traceback": [
      "\u001b[1;31m---------------------------------------------------------------------------\u001b[0m",
      "\u001b[1;31mKeyboardInterrupt\u001b[0m                         Traceback (most recent call last)",
      "\u001b[1;32m<ipython-input-33-c6eae207fc82>\u001b[0m in \u001b[0;36m<module>\u001b[1;34m\u001b[0m\n\u001b[0;32m      5\u001b[0m     \u001b[1;31m#start_time = time.monotonic()\u001b[0m\u001b[1;33m\u001b[0m\u001b[1;33m\u001b[0m\u001b[1;33m\u001b[0m\u001b[0m\n\u001b[0;32m      6\u001b[0m \u001b[1;33m\u001b[0m\u001b[0m\n\u001b[1;32m----> 7\u001b[1;33m     \u001b[0mresult\u001b[0m \u001b[1;33m=\u001b[0m \u001b[0murl_at_coords\u001b[0m\u001b[1;33m(\u001b[0m\u001b[0mapi\u001b[0m\u001b[1;33m,\u001b[0m \u001b[0mrow\u001b[0m\u001b[1;33m[\u001b[0m\u001b[1;34m'POINT_X'\u001b[0m\u001b[1;33m]\u001b[0m\u001b[1;33m,\u001b[0m \u001b[0mrow\u001b[0m\u001b[1;33m[\u001b[0m\u001b[1;34m'POINT_Y'\u001b[0m\u001b[1;33m]\u001b[0m\u001b[1;33m)\u001b[0m\u001b[1;31m#await url_at_coords(api, row['POINT_X'], row['POINT_Y'])\u001b[0m\u001b[1;33m\u001b[0m\u001b[1;33m\u001b[0m\u001b[0m\n\u001b[0m\u001b[0;32m      8\u001b[0m     \u001b[1;31m#print('1 seconds: ', time.monotonic() - start_time)\u001b[0m\u001b[1;33m\u001b[0m\u001b[1;33m\u001b[0m\u001b[1;33m\u001b[0m\u001b[0m\n\u001b[0;32m      9\u001b[0m \u001b[1;33m\u001b[0m\u001b[0m\n",
      "\u001b[1;32m<ipython-input-2-e2b9ea64ab78>\u001b[0m in \u001b[0;36murl_at_coords\u001b[1;34m(api, west, north)\u001b[0m\n\u001b[0;32m      5\u001b[0m \u001b[1;31m#async\u001b[0m\u001b[1;33m\u001b[0m\u001b[1;33m\u001b[0m\u001b[1;33m\u001b[0m\u001b[0m\n\u001b[0;32m      6\u001b[0m \u001b[1;32mdef\u001b[0m \u001b[0murl_at_coords\u001b[0m\u001b[1;33m(\u001b[0m\u001b[0mapi\u001b[0m\u001b[1;33m,\u001b[0m \u001b[0mwest\u001b[0m\u001b[1;33m,\u001b[0m\u001b[0mnorth\u001b[0m\u001b[1;33m)\u001b[0m\u001b[1;33m:\u001b[0m\u001b[1;33m\u001b[0m\u001b[1;33m\u001b[0m\u001b[0m\n\u001b[1;32m----> 7\u001b[1;33m     \u001b[1;32mreturn\u001b[0m \u001b[0mapi\u001b[0m\u001b[1;33m.\u001b[0m\u001b[0murl_at_coords\u001b[0m\u001b[1;33m(\u001b[0m\u001b[0mwest\u001b[0m\u001b[1;33m,\u001b[0m \u001b[0mnorth\u001b[0m\u001b[1;33m)\u001b[0m\u001b[1;33m\u001b[0m\u001b[1;33m\u001b[0m\u001b[0m\n\u001b[0m",
      "\u001b[1;32m<ipython-input-32-cb7b8a77fb4b>\u001b[0m in \u001b[0;36murl_at_coords\u001b[1;34m(self, west, north, show_progess)\u001b[0m\n\u001b[0;32m     49\u001b[0m             \u001b[0mresponse\u001b[0m \u001b[1;33m=\u001b[0m \u001b[0mrequests\u001b[0m\u001b[1;33m.\u001b[0m\u001b[0mget\u001b[0m\u001b[1;33m(\u001b[0m\u001b[0mtile_url\u001b[0m\u001b[1;33m)\u001b[0m\u001b[1;33m\u001b[0m\u001b[1;33m\u001b[0m\u001b[0m\n\u001b[0;32m     50\u001b[0m             \u001b[1;31m#print(response.content)\u001b[0m\u001b[1;33m\u001b[0m\u001b[1;33m\u001b[0m\u001b[1;33m\u001b[0m\u001b[0m\n\u001b[1;32m---> 51\u001b[1;33m             \u001b[0mdata\u001b[0m \u001b[1;33m=\u001b[0m \u001b[0mvt_bytes_to_geojson\u001b[0m\u001b[1;33m(\u001b[0m\u001b[0mresponse\u001b[0m\u001b[1;33m.\u001b[0m\u001b[0mcontent\u001b[0m\u001b[1;33m,\u001b[0m \u001b[0mtile\u001b[0m\u001b[1;33m.\u001b[0m\u001b[0mx\u001b[0m\u001b[1;33m,\u001b[0m \u001b[0mtile\u001b[0m\u001b[1;33m.\u001b[0m\u001b[0my\u001b[0m\u001b[1;33m,\u001b[0m \u001b[0mtile\u001b[0m\u001b[1;33m.\u001b[0m\u001b[0mz\u001b[0m\u001b[1;33m)\u001b[0m\u001b[1;33m\u001b[0m\u001b[1;33m\u001b[0m\u001b[0m\n\u001b[0m\u001b[0;32m     52\u001b[0m \u001b[1;33m\u001b[0m\u001b[0m\n\u001b[0;32m     53\u001b[0m             \u001b[0mfiltered_data\u001b[0m \u001b[1;33m=\u001b[0m \u001b[1;33m[\u001b[0m\u001b[0mfeature\u001b[0m \u001b[1;32mfor\u001b[0m \u001b[0mfeature\u001b[0m \u001b[1;32min\u001b[0m \u001b[0mdata\u001b[0m\u001b[1;33m[\u001b[0m\u001b[1;34m'features'\u001b[0m\u001b[1;33m]\u001b[0m \u001b[1;32mif\u001b[0m \u001b[0mfeature\u001b[0m\u001b[1;33m[\u001b[0m\u001b[1;34m'geometry'\u001b[0m\u001b[1;33m]\u001b[0m\u001b[1;33m[\u001b[0m\u001b[1;34m'type'\u001b[0m\u001b[1;33m]\u001b[0m \u001b[1;32min\u001b[0m \u001b[1;33m[\u001b[0m\u001b[1;34m'Point'\u001b[0m\u001b[1;33m]\u001b[0m\u001b[1;33m]\u001b[0m\u001b[1;33m\u001b[0m\u001b[1;33m\u001b[0m\u001b[0m\n",
      "\u001b[1;32mc:\\users\\lmacl\\appdata\\local\\programs\\python\\python38\\lib\\site-packages\\vt2geojson\\tools.py\u001b[0m in \u001b[0;36mvt_bytes_to_geojson\u001b[1;34m(b_content, x, y, z, layer)\u001b[0m\n\u001b[0;32m     25\u001b[0m     \u001b[1;33m:\u001b[0m\u001b[1;32mreturn\u001b[0m\u001b[1;33m:\u001b[0m \u001b[0ma\u001b[0m \u001b[0mfeatures\u001b[0m \u001b[0mcollection\u001b[0m \u001b[1;33m(\u001b[0m\u001b[0mGeoJSON\u001b[0m\u001b[1;33m)\u001b[0m\u001b[1;33m.\u001b[0m\u001b[1;33m\u001b[0m\u001b[1;33m\u001b[0m\u001b[0m\n\u001b[0;32m     26\u001b[0m     \"\"\"\n\u001b[1;32m---> 27\u001b[1;33m     \u001b[0mdata\u001b[0m \u001b[1;33m=\u001b[0m \u001b[0mdecode\u001b[0m\u001b[1;33m(\u001b[0m\u001b[0mb_content\u001b[0m\u001b[1;33m,\u001b[0m \u001b[0my_coord_down\u001b[0m\u001b[1;33m=\u001b[0m\u001b[1;32mTrue\u001b[0m\u001b[1;33m)\u001b[0m\u001b[1;33m\u001b[0m\u001b[1;33m\u001b[0m\u001b[0m\n\u001b[0m\u001b[0;32m     28\u001b[0m     features_collections = [Layer(x=x, y=y, z=z, name=name, obj=layer_obj).toGeoJSON()\n\u001b[0;32m     29\u001b[0m                             for name, layer_obj in data.items() if layer is None or name == layer]\n",
      "\u001b[1;32mc:\\users\\lmacl\\appdata\\local\\programs\\python\\python38\\lib\\site-packages\\mapbox_vector_tile\\__init__.py\u001b[0m in \u001b[0;36mdecode\u001b[1;34m(tile, y_coord_down)\u001b[0m\n\u001b[0;32m     12\u001b[0m \u001b[1;32mdef\u001b[0m \u001b[0mdecode\u001b[0m\u001b[1;33m(\u001b[0m\u001b[0mtile\u001b[0m\u001b[1;33m,\u001b[0m \u001b[0my_coord_down\u001b[0m\u001b[1;33m=\u001b[0m\u001b[1;32mFalse\u001b[0m\u001b[1;33m)\u001b[0m\u001b[1;33m:\u001b[0m\u001b[1;33m\u001b[0m\u001b[1;33m\u001b[0m\u001b[0m\n\u001b[0;32m     13\u001b[0m     \u001b[0mvector_tile\u001b[0m \u001b[1;33m=\u001b[0m \u001b[0mdecoder\u001b[0m\u001b[1;33m.\u001b[0m\u001b[0mTileData\u001b[0m\u001b[1;33m(\u001b[0m\u001b[1;33m)\u001b[0m\u001b[1;33m\u001b[0m\u001b[1;33m\u001b[0m\u001b[0m\n\u001b[1;32m---> 14\u001b[1;33m     \u001b[0mmessage\u001b[0m \u001b[1;33m=\u001b[0m \u001b[0mvector_tile\u001b[0m\u001b[1;33m.\u001b[0m\u001b[0mgetMessage\u001b[0m\u001b[1;33m(\u001b[0m\u001b[0mtile\u001b[0m\u001b[1;33m,\u001b[0m \u001b[0my_coord_down\u001b[0m\u001b[1;33m)\u001b[0m\u001b[1;33m\u001b[0m\u001b[1;33m\u001b[0m\u001b[0m\n\u001b[0m\u001b[0;32m     15\u001b[0m     \u001b[1;32mreturn\u001b[0m \u001b[0mmessage\u001b[0m\u001b[1;33m\u001b[0m\u001b[1;33m\u001b[0m\u001b[0m\n\u001b[0;32m     16\u001b[0m \u001b[1;33m\u001b[0m\u001b[0m\n",
      "\u001b[1;32mc:\\users\\lmacl\\appdata\\local\\programs\\python\\python38\\lib\\site-packages\\mapbox_vector_tile\\decoder.py\u001b[0m in \u001b[0;36mgetMessage\u001b[1;34m(self, pbf_data, y_coord_down)\u001b[0m\n\u001b[0;32m     40\u001b[0m                     \u001b[0mprops\u001b[0m\u001b[1;33m[\u001b[0m\u001b[0mkey\u001b[0m\u001b[1;33m]\u001b[0m \u001b[1;33m=\u001b[0m \u001b[0mvalue\u001b[0m\u001b[1;33m\u001b[0m\u001b[1;33m\u001b[0m\u001b[0m\n\u001b[0;32m     41\u001b[0m \u001b[1;33m\u001b[0m\u001b[0m\n\u001b[1;32m---> 42\u001b[1;33m                 geometry = self.parse_geometry(feature.geometry, feature.type,\n\u001b[0m\u001b[0;32m     43\u001b[0m                                                layer.extent, y_coord_down)\n\u001b[0;32m     44\u001b[0m                 new_feature = {\n",
      "\u001b[1;32mc:\\users\\lmacl\\appdata\\local\\programs\\python\\python38\\lib\\site-packages\\mapbox_vector_tile\\decoder.py\u001b[0m in \u001b[0;36mparse_geometry\u001b[1;34m(self, geom, ftype, extent, y_coord_down)\u001b[0m\n\u001b[0;32m     85\u001b[0m         \u001b[1;32mwhile\u001b[0m \u001b[0mi\u001b[0m \u001b[1;33m!=\u001b[0m \u001b[0mlen\u001b[0m\u001b[1;33m(\u001b[0m\u001b[0mgeom\u001b[0m\u001b[1;33m)\u001b[0m\u001b[1;33m:\u001b[0m\u001b[1;33m\u001b[0m\u001b[1;33m\u001b[0m\u001b[0m\n\u001b[0;32m     86\u001b[0m             \u001b[0mitem\u001b[0m \u001b[1;33m=\u001b[0m \u001b[0mbin\u001b[0m\u001b[1;33m(\u001b[0m\u001b[0mgeom\u001b[0m\u001b[1;33m[\u001b[0m\u001b[0mi\u001b[0m\u001b[1;33m]\u001b[0m\u001b[1;33m)\u001b[0m\u001b[1;33m\u001b[0m\u001b[1;33m\u001b[0m\u001b[0m\n\u001b[1;32m---> 87\u001b[1;33m             \u001b[0milen\u001b[0m \u001b[1;33m=\u001b[0m \u001b[0mlen\u001b[0m\u001b[1;33m(\u001b[0m\u001b[0mitem\u001b[0m\u001b[1;33m)\u001b[0m\u001b[1;33m\u001b[0m\u001b[1;33m\u001b[0m\u001b[0m\n\u001b[0m\u001b[0;32m     88\u001b[0m             \u001b[0mcmd\u001b[0m \u001b[1;33m=\u001b[0m \u001b[0mint\u001b[0m\u001b[1;33m(\u001b[0m\u001b[0mself\u001b[0m\u001b[1;33m.\u001b[0m\u001b[0mzero_pad\u001b[0m\u001b[1;33m(\u001b[0m\u001b[0mitem\u001b[0m\u001b[1;33m[\u001b[0m\u001b[1;33m(\u001b[0m\u001b[0milen\u001b[0m \u001b[1;33m-\u001b[0m \u001b[0mcmd_bits\u001b[0m\u001b[1;33m)\u001b[0m\u001b[1;33m:\u001b[0m\u001b[0milen\u001b[0m\u001b[1;33m]\u001b[0m\u001b[1;33m)\u001b[0m\u001b[1;33m,\u001b[0m \u001b[1;36m2\u001b[0m\u001b[1;33m)\u001b[0m\u001b[1;33m\u001b[0m\u001b[1;33m\u001b[0m\u001b[0m\n\u001b[0;32m     89\u001b[0m             \u001b[0mcmd_len\u001b[0m \u001b[1;33m=\u001b[0m \u001b[0mint\u001b[0m\u001b[1;33m(\u001b[0m\u001b[0mself\u001b[0m\u001b[1;33m.\u001b[0m\u001b[0mzero_pad\u001b[0m\u001b[1;33m(\u001b[0m\u001b[0mitem\u001b[0m\u001b[1;33m[\u001b[0m\u001b[1;33m:\u001b[0m\u001b[0milen\u001b[0m \u001b[1;33m-\u001b[0m \u001b[0mcmd_bits\u001b[0m\u001b[1;33m]\u001b[0m\u001b[1;33m)\u001b[0m\u001b[1;33m,\u001b[0m \u001b[1;36m2\u001b[0m\u001b[1;33m)\u001b[0m\u001b[1;33m\u001b[0m\u001b[1;33m\u001b[0m\u001b[0m\n",
      "\u001b[1;31mKeyboardInterrupt\u001b[0m: "
     ]
    }
   ],
   "source": [
    "api = Mapillary('MLY|4459801330748375|f17ddc8a7adbcbff6eea96b1cf4c2aad')\n",
    "\n",
    "for i, (index, row) in enumerate(sample_points.iterrows()):\n",
    "    print(f\"\\r {i}/{len(sample_points.index)}\", end=\"\")\n",
    "    #start_time = time.monotonic()\n",
    "\n",
    "    result = url_at_coords(api, row['POINT_X'], row['POINT_Y'])#await url_at_coords(api, row['POINT_X'], row['POINT_Y'])\n",
    "    #print('1 seconds: ', time.monotonic() - start_time)\n",
    "    \n",
    "    if result is None:\n",
    "        continue\n",
    "        \n",
    "    #coords = result['coordinates']\n",
    "    #start_time = time.monotonic()\n",
    "    img = get_image_at_url(result['thumb_256_url'])#await get_image_at_url(result['thumb_256_url'])\n",
    "    #print('2 second: ', time.monotonic() - start_time)\n",
    "    \n",
    "    #start_time = time.monotonic()\n",
    "    df.loc[i+1] = [result['geometry']['coordinates'][0], result['geometry']['coordinates'][1], np.array(model([img, img]))[0][0]] \n",
    "    #print('3 seconds: ', time.monotonic() - start_time)\n",
    "    #break"
   ]
  },
  {
   "cell_type": "raw",
   "id": "0ef3af66",
   "metadata": {
    "scrolled": true
   },
   "source": [
    "directory = \"D:\\Mapillary_jpg\"\n",
    "for idx, filename in enumerate(os.listdir(directory)):\n",
    "    if filename.endswith(\".jpg\"): \n",
    "        #print(os.path.join(directory, filename))\n",
    "        #print(filename.split(\"_\"))\n",
    "        \n",
    "        img = np.array(Ci.Image(os.path.join(directory, filename)).preprocess_image(224)).reshape([1,224*224*3])\n",
    "        \n",
    "        df.loc[idx+1] = [filename.split(\"_\")[0], filename.split(\"_\")[1], np.array(model([img, img]))[0][0]]\n",
    "        \n",
    "        print(\"\\r {:.2f}%\".format((idx/len(os.listdir(directory))) * 100 ), end=\"\")\n",
    "\n",
    "df.to_csv(\"D:/rankings.csv\", index=False)"
   ]
  },
  {
   "cell_type": "code",
   "execution_count": 63,
   "id": "98d411d5",
   "metadata": {
    "scrolled": true
   },
   "outputs": [
    {
     "name": "stdout",
     "output_type": "stream",
     "text": [
      "-80.1364238357544 25.778608487732196 -80.1264238357544 25.788608487732198\n",
      " 4/4 | 100.0%"
     ]
    },
    {
     "data": {
      "text/plain": [
       "{'captured_at': '2015-02-06 09:43:17.000000',\n",
       " 'thumb_256_url': 'https://scontent.fxds1-1.fna.fbcdn.net/m1/v/t6/An_T91hSdzNUBUglP7OJOqr851q-lJYv7nSIF0qWvSha19MHWoE9TWxv86UgfysdP6NLfDRXZcXAs4REJd6NuqP1szTR9GDK73InRSl8hYwfe7N5pRN6iYTheEXeaideTScgwY9LPZvLscCn4ScqTw?stp=s256x128&ccb=10-5&oh=772f2456625f7531f3d616e2fd7b5d7c&oe=611F2796&_nc_sid=122ab1',\n",
       " 'geometry': {'type': 'Point', 'coordinates': [-80.127549, 25.796109]},\n",
       " 'id': '955546231917807',\n",
       " 'distance': 190.11644387195736}"
      ]
     },
     "execution_count": 63,
     "metadata": {},
     "output_type": "execute_result"
    }
   ],
   "source": [
    "api = Mapillary('MLY|4459801330748375|f17ddc8a7adbcbff6eea96b1cf4c2aad')\n",
    "#api.url_at_coords(-80.13423442840576,25.77376933762778,-80.1264238357544,25.788608487732198)\n",
    "api.url_at_coords(-80.1264238357544,25.788608487732198)"
   ]
  },
  {
   "cell_type": "raw",
   "id": "cda641c2",
   "metadata": {},
   "source": [
    "# define an empty geojson as output\n",
    "output= { \"type\": \"FeatureCollection\", \"features\": [] }\n",
    "\n",
    "# Mapillary access token -- user should provide their own\n",
    "access_token = 'MLY|4459801330748375|f17ddc8a7adbcbff6eea96b1cf4c2aad'#'MLY|6626182124074057|a96da7d8894aa857be34a381263e8622'\n",
    "\n",
    "# header for call to image endpoint\n",
    "headers= { \"Authorization\" : \"OAuth {}\".format(access_token) }\n",
    "\n",
    "\n",
    "# a bounding box in [east_lng,_south_lat,west_lng,north_lat] format\n",
    "# change for class so that this is automatic, taking in a coordinate and adding and subtracting .01 decimal degrees to x,y to make a box\n",
    "east, south, west, north = [-80.13423442840576,25.77376933762778,-80.1264238357544,25.788608487732198]\n",
    "#east, south, west, north = [75.9540144, 45.1111199 ,75.2560577, 45.5589900]\n",
    "# loop through all tiles to get IDs of Mapillary data\n",
    "# Input coordinates would be the original point coordinates sent to the class\n",
    "input_coords=[west,north]\n",
    "zoom = 14\n",
    "filter_radius = 200\n",
    "\n",
    "\n",
    "# get the tiles with x and y coors intersecting bbox at zoom 14 only\n",
    "tiles = list(mercantile.tiles(east, south, west, north, 14))"
   ]
  },
  {
   "cell_type": "raw",
   "id": "a52eeb05",
   "metadata": {
    "scrolled": true
   },
   "source": [
    "\n",
    "for i, tile in enumerate(tiles):\n",
    "    #time.sleep(4)\n",
    "    tile_url = 'https://tiles.mapillary.com/maps/vtp/mly1_public/2/{}/{}/{}?access_token={}'.format(tile.z,tile.x,tile.y,access_token)\n",
    "    \n",
    "    response = requests.get(tile_url)\n",
    "    #print(response.content)\n",
    "    data = vt_bytes_to_geojson(response.content, tile.x, tile.y, tile.z)\n",
    "\n",
    "    filtered_data = [feature for feature in data['features'] if feature['geometry']['type'] in ['Point']]\n",
    "\n",
    "    for feature in filtered_data:\n",
    "        distance = haversine(input_coords,feature['geometry']['coordinates'],unit=\"m\")\n",
    "       # dmat.append(distance)\n",
    "        if distance < filter_radius:\n",
    "            feature['distance']=distance\n",
    "            output['features'].append(feature)\n",
    "            #print(len(output['features']))\n",
    "\n",
    "    print(f\"\\r {i+1}/{len(tiles)} | {((i+1)/len(tiles))*100}%\", end=\"\")\n"
   ]
  },
  {
   "cell_type": "raw",
   "id": "bedcb5d6",
   "metadata": {},
   "source": [
    "            \n",
    "fields = ['captured_at','thumb_256_url','geometry']\n",
    "fields = ','.join(fields)\n",
    "image_dates_urls=[]\n",
    "# can roll this into the filtered data loop above if you want.\n",
    "for feature in output['features']:\n",
    "    image_id=feature['properties']['id']\n",
    "    image_endpoint_url = f'https://graph.mapillary.com/{image_id}?fields={fields}&access_token={access_token}'\n",
    "    \n",
    "    image_response = requests.get(image_endpoint_url, headers=headers)\n",
    "    image_metadata = image_response.json()\n",
    "    image_metadata['captured_at']=msEpochToDate(image_metadata['captured_at'])\n",
    "    image_metadata['distance']=feature['distance']\n",
    "    image_dates_urls.append(image_metadata)"
   ]
  },
  {
   "cell_type": "code",
   "execution_count": 58,
   "id": "5109e88b",
   "metadata": {},
   "outputs": [
    {
     "name": "stdout",
     "output_type": "stream",
     "text": [
      "fds;kgjh\n"
     ]
    },
    {
     "data": {
      "text/plain": [
       "<Task pending name='Task-16' coro=<cock() running at <ipython-input-58-529af1f06eda>:2>>"
      ]
     },
     "execution_count": 58,
     "metadata": {},
     "output_type": "execute_result"
    },
    {
     "name": "stdout",
     "output_type": "stream",
     "text": [
      "balls\n"
     ]
    }
   ],
   "source": [
    "import asyncio\n",
    "async def cock():\n",
    "    print(\"balls\")\n",
    "    await asyncio.sleep(1)\n",
    "    #time.sleep(3)\n",
    "    print(\"deez\")\n",
    "    return \"sdfg\"\n",
    "\n",
    "#asyncio.run(cock())\n",
    "t = asyncio.create_task(cock())\n",
    "\n",
    "print('fds;kgjh')\n",
    "\n",
    "t"
   ]
  },
  {
   "cell_type": "code",
   "execution_count": 59,
   "id": "6593a6ad",
   "metadata": {},
   "outputs": [
    {
     "name": "stdout",
     "output_type": "stream",
     "text": [
      "deez\n"
     ]
    }
   ],
   "source": [
    "v = await t"
   ]
  },
  {
   "cell_type": "code",
   "execution_count": 60,
   "id": "0d3cefa3",
   "metadata": {},
   "outputs": [
    {
     "data": {
      "text/plain": [
       "'sdfg'"
      ]
     },
     "execution_count": 60,
     "metadata": {},
     "output_type": "execute_result"
    }
   ],
   "source": [
    "v"
   ]
  },
  {
   "cell_type": "code",
   "execution_count": 65,
   "id": "b669bdec",
   "metadata": {},
   "outputs": [],
   "source": []
  },
  {
   "cell_type": "code",
   "execution_count": null,
   "id": "834e3fdf",
   "metadata": {},
   "outputs": [],
   "source": []
  }
 ],
 "metadata": {
  "kernelspec": {
   "display_name": "Python 3",
   "language": "python",
   "name": "python3"
  },
  "language_info": {
   "codemirror_mode": {
    "name": "ipython",
    "version": 3
   },
   "file_extension": ".py",
   "mimetype": "text/x-python",
   "name": "python",
   "nbconvert_exporter": "python",
   "pygments_lexer": "ipython3",
   "version": "3.8.0"
  }
 },
 "nbformat": 4,
 "nbformat_minor": 5
}
