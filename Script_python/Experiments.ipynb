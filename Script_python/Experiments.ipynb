{
 "cells": [
  {
   "cell_type": "code",
   "execution_count": 1,
   "id": "6deeb5ef",
   "metadata": {},
   "outputs": [
    {
     "name": "stdout",
     "output_type": "stream",
     "text": [
      "Imports\n"
     ]
    }
   ],
   "source": [
    "print(\"Imports\")\n",
    "from keras.models import load_model\n",
    "from Class_Image import Image\n",
    "from os.path import abspath\n",
    "from Class_training import *\n",
    "from Model_comparisons import *\n",
    "from os.path import abspath, join\n",
    "import numpy as np\n",
    "\n",
    "import matplotlib.pyplot as plt\n",
    "import tensorflow as tf\n",
    "from tensorflow.keras.applications import VGG19\n",
    "#import keras\n",
    "from tensorflow.keras import Input, Model\n",
    "from keras.preprocessing.image import ImageDataGenerator\n",
    "\n",
    "%matplotlib inline"
   ]
  },
  {
   "cell_type": "code",
   "execution_count": 2,
   "id": "d7c97df4",
   "metadata": {},
   "outputs": [],
   "source": [
    "def map_fn(serialized_example):\n",
    "    feature = {\n",
    "        'data_label': tf.io.FixedLenFeature([2], tf.int64),\n",
    "        'data_right': tf.io.FixedLenFeature([150528], tf.int64),\n",
    "        'data_left': tf.io.FixedLenFeature([150528], tf.int64),\n",
    "    }\n",
    "    \n",
    "    ex = tf.io.parse_single_example(serialized_example, feature)\n",
    "    return ex, ex['data_label']"
   ]
  },
  {
   "cell_type": "code",
   "execution_count": 3,
   "id": "5f49a342",
   "metadata": {},
   "outputs": [],
   "source": [
    "dataset_val = tf.data.TFRecordDataset((\n",
    "    'Z:/Comparisons_1_npy/data_val.tfrecord',\n",
    "    #'Z:/Comparisons_2_npy/data_val.tfrecord',\n",
    "    #'Z:/Comparisons_3_npy/data_val.tfrecord',\n",
    "    #'Z:/Comparisons_4_npy/data_val.tfrecord'\n",
    ")\n",
    ")\n",
    "dataset_train = tf.data.TFRecordDataset((\n",
    "    'Z:/Comparisons_1_npy/data_train.tfrecord',\n",
    "    #'Z:/Comparisons_2_npy/data_train.tfrecord',\n",
    "    #'Z:/Comparisons_3_npy/data_train.tfrecord',\n",
    "    #'Z:/Comparisons_4_npy/data_train.tfrecord'\n",
    ")\n",
    ")\n",
    "\n",
    "dataset_train = dataset_train.map(map_fn)\n",
    "dataset_train = dataset_train.shuffle(2048, reshuffle_each_iteration = True)\n",
    "dataset_train = dataset_train.prefetch(buffer_size=tf.data.AUTOTUNE)\n",
    "dataset_train = dataset_train.batch(6)\n",
    "\n",
    "dataset_val = dataset_val.map(map_fn)\n",
    "#dataset_val = dataset_val.shuffle(2048)\n",
    "dataset_val = dataset_val.prefetch(buffer_size=tf.data.AUTOTUNE)\n",
    "dataset_val = dataset_val.batch(6)"
   ]
  },
  {
   "cell_type": "code",
   "execution_count": 4,
   "id": "e442d5e2",
   "metadata": {},
   "outputs": [
    {
     "name": "stdout",
     "output_type": "stream",
     "text": [
      "(None, 7, 7, 512) (None, 7, 7, 512)\n",
      "(None, 1, 1, 1024)\n"
     ]
    },
    {
     "name": "stderr",
     "output_type": "stream",
     "text": [
      "c:\\users\\lmacl\\appdata\\local\\programs\\python\\python38\\lib\\site-packages\\tensorflow\\python\\keras\\optimizer_v2\\optimizer_v2.py:374: UserWarning: The `lr` argument is deprecated, use `learning_rate` instead.\n",
      "  warnings.warn(\n"
     ]
    }
   ],
   "source": [
    "conv_model = comparisons_model(224)\n",
    "\n"
   ]
  },
  {
   "cell_type": "code",
   "execution_count": null,
   "id": "fa670e69",
   "metadata": {},
   "outputs": [],
   "source": [
    "conv_model.fit(dataset_train, validation_data = dataset_val, epochs = 30)"
   ]
  },
  {
   "cell_type": "code",
   "execution_count": null,
   "id": "3bf28bd0",
   "metadata": {},
   "outputs": [],
   "source": []
  }
 ],
 "metadata": {
  "kernelspec": {
   "display_name": "Python 3",
   "language": "python",
   "name": "python3"
  },
  "language_info": {
   "codemirror_mode": {
    "name": "ipython",
    "version": 3
   },
   "file_extension": ".py",
   "mimetype": "text/x-python",
   "name": "python",
   "nbconvert_exporter": "python",
   "pygments_lexer": "ipython3",
   "version": "3.8.0"
  }
 },
 "nbformat": 4,
 "nbformat_minor": 5
}
