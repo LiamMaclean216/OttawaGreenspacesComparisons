{
 "cells": [
  {
   "cell_type": "code",
   "execution_count": 1,
   "id": "03c7c8d7",
   "metadata": {},
   "outputs": [],
   "source": [
    "from keras.models import load_model\n",
    "from Class_Image import Image\n",
    "from os.path import abspath\n",
    "from Class_training import *\n",
    "from Model_comparisons import *\n",
    "from os.path import abspath, join\n",
    "import numpy as np\n",
    "\n",
    "import matplotlib.pyplot as plt\n",
    "import tensorflow as tf\n",
    "from tensorflow.keras.applications import VGG19\n",
    "import keras\n",
    "from tensorflow.keras import Input, Model\n",
    "%matplotlib inline"
   ]
  },
  {
   "cell_type": "code",
   "execution_count": 2,
   "id": "2a613d61",
   "metadata": {
    "scrolled": true
   },
   "outputs": [
    {
     "name": "stdout",
     "output_type": "stream",
     "text": [
      "Loading data...\n",
      "Done\n"
     ]
    }
   ],
   "source": [
    "print(\"Loading data...\")\n",
    "\n",
    "DATA_FOLDER =\"Z:\\Comparisons_npy\"#\"D:\\\\Ottawa\\\\Comparisons_npy\"\n",
    "folder_path = abspath(\"Examples/Training_results/Simple\")\n",
    "\n",
    "data_left = np.load(join(DATA_FOLDER, \"train\", \"train_left_224.npy\"))\n",
    "data_right = np.load(join(DATA_FOLDER, \"train\", \"train_right_224.npy\"))\n",
    "data_label = np.load(join(DATA_FOLDER, \"train\", \"train_labels_224.npy\"))\n",
    "labels_score = np.load(join(DATA_FOLDER, \"train\", \"train_labels_score_224.npy\"))\n",
    "train_data = [data_left, data_right]\n",
    "print(\"Done\")\n",
    "#simple_training(left, right, labels, comparisons_model, [224], TRAIN_RESULTS, 0.2, 400, 6)"
   ]
  },
  {
   "cell_type": "code",
   "execution_count": 2,
   "id": "7b11f00a",
   "metadata": {
    "scrolled": true
   },
   "outputs": [
    {
     "name": "stdout",
     "output_type": "stream",
     "text": [
      "Folder already exists : Examples/Training_results/Simple\n",
      " Please enter a new path !vfgbcxnjcghm\n",
      "Creating and saving embeddings...\n"
     ]
    },
    {
     "ename": "MemoryError",
     "evalue": "Unable to allocate 1.78 GiB for an array with shape (2386, 28, 28, 256) and data type float32",
     "output_type": "error",
     "traceback": [
      "\u001b[1;31m---------------------------------------------------------------------------\u001b[0m",
      "\u001b[1;31mFileNotFoundError\u001b[0m                         Traceback (most recent call last)",
      "\u001b[1;32m<ipython-input-2-6a5bd85d1518>\u001b[0m in \u001b[0;36msimple_training\u001b[1;34m(DATA_FOLDER, model_function, model_function_args, folder_path, val_split, epochs, batch_size)\u001b[0m\n\u001b[0;32m     50\u001b[0m     \u001b[1;32mtry\u001b[0m\u001b[1;33m:\u001b[0m\u001b[1;33m\u001b[0m\u001b[1;33m\u001b[0m\u001b[0m\n\u001b[1;32m---> 51\u001b[1;33m         \u001b[0membeddings_left\u001b[0m \u001b[1;33m=\u001b[0m \u001b[0mnp\u001b[0m\u001b[1;33m.\u001b[0m\u001b[0mload\u001b[0m\u001b[1;33m(\u001b[0m\u001b[0mfolder_path\u001b[0m \u001b[1;33m+\u001b[0m \u001b[1;34m\"/embeddings_left_{}.npy\"\u001b[0m\u001b[1;33m.\u001b[0m\u001b[0mformat\u001b[0m\u001b[1;33m(\u001b[0m\u001b[0mvgg_trainable\u001b[0m\u001b[1;33m)\u001b[0m\u001b[1;33m)\u001b[0m\u001b[1;33m\u001b[0m\u001b[1;33m\u001b[0m\u001b[0m\n\u001b[0m\u001b[0;32m     52\u001b[0m         \u001b[0membeddings_right\u001b[0m \u001b[1;33m=\u001b[0m \u001b[0mnp\u001b[0m\u001b[1;33m.\u001b[0m\u001b[0mload\u001b[0m\u001b[1;33m(\u001b[0m\u001b[0mfolder_path\u001b[0m \u001b[1;33m+\u001b[0m \u001b[1;34m\"/embeddings_right_{}.npy\"\u001b[0m\u001b[1;33m.\u001b[0m\u001b[0mformat\u001b[0m\u001b[1;33m(\u001b[0m\u001b[0mvgg_trainable\u001b[0m\u001b[1;33m)\u001b[0m\u001b[1;33m)\u001b[0m\u001b[1;33m\u001b[0m\u001b[1;33m\u001b[0m\u001b[0m\n",
      "\u001b[1;32mc:\\users\\lmacl\\appdata\\local\\programs\\python\\python38\\lib\\site-packages\\numpy\\lib\\npyio.py\u001b[0m in \u001b[0;36mload\u001b[1;34m(file, mmap_mode, allow_pickle, fix_imports, encoding)\u001b[0m\n\u001b[0;32m    415\u001b[0m         \u001b[1;32melse\u001b[0m\u001b[1;33m:\u001b[0m\u001b[1;33m\u001b[0m\u001b[1;33m\u001b[0m\u001b[0m\n\u001b[1;32m--> 416\u001b[1;33m             \u001b[0mfid\u001b[0m \u001b[1;33m=\u001b[0m \u001b[0mstack\u001b[0m\u001b[1;33m.\u001b[0m\u001b[0menter_context\u001b[0m\u001b[1;33m(\u001b[0m\u001b[0mopen\u001b[0m\u001b[1;33m(\u001b[0m\u001b[0mos_fspath\u001b[0m\u001b[1;33m(\u001b[0m\u001b[0mfile\u001b[0m\u001b[1;33m)\u001b[0m\u001b[1;33m,\u001b[0m \u001b[1;34m\"rb\"\u001b[0m\u001b[1;33m)\u001b[0m\u001b[1;33m)\u001b[0m\u001b[1;33m\u001b[0m\u001b[1;33m\u001b[0m\u001b[0m\n\u001b[0m\u001b[0;32m    417\u001b[0m             \u001b[0mown_fid\u001b[0m \u001b[1;33m=\u001b[0m \u001b[1;32mTrue\u001b[0m\u001b[1;33m\u001b[0m\u001b[1;33m\u001b[0m\u001b[0m\n",
      "\u001b[1;31mFileNotFoundError\u001b[0m: [Errno 2] No such file or directory: 'vfgbcxnjcghm/embeddings_left_block3_pool.npy'",
      "\nDuring handling of the above exception, another exception occurred:\n",
      "\u001b[1;31mMemoryError\u001b[0m                               Traceback (most recent call last)",
      "\u001b[1;32m<ipython-input-2-6a5bd85d1518>\u001b[0m in \u001b[0;36m<module>\u001b[1;34m\u001b[0m\n\u001b[0;32m     87\u001b[0m     \u001b[0msave_structure_in_json\u001b[0m\u001b[1;33m(\u001b[0m\u001b[0mconv_model\u001b[0m\u001b[1;33m,\u001b[0m \u001b[0mjson_path\u001b[0m\u001b[1;33m)\u001b[0m\u001b[1;33m\u001b[0m\u001b[1;33m\u001b[0m\u001b[0m\n\u001b[0;32m     88\u001b[0m \u001b[1;33m\u001b[0m\u001b[0m\n\u001b[1;32m---> 89\u001b[1;33m \u001b[0msimple_training\u001b[0m\u001b[1;33m(\u001b[0m\u001b[1;34m\"Z:\\Comparisons_npy\"\u001b[0m\u001b[1;33m,\u001b[0m \u001b[0mcomparisons_model\u001b[0m\u001b[1;33m,\u001b[0m \u001b[1;33m[\u001b[0m\u001b[1;36m224\u001b[0m\u001b[1;33m]\u001b[0m\u001b[1;33m,\u001b[0m \u001b[1;34m\"Examples/Training_results/Simple\"\u001b[0m\u001b[1;33m,\u001b[0m \u001b[1;36m0.2\u001b[0m\u001b[1;33m,\u001b[0m \u001b[1;36m5\u001b[0m\u001b[1;33m,\u001b[0m \u001b[1;36m8\u001b[0m\u001b[1;33m)\u001b[0m\u001b[1;33m\u001b[0m\u001b[1;33m\u001b[0m\u001b[0m\n\u001b[0m",
      "\u001b[1;32m<ipython-input-2-6a5bd85d1518>\u001b[0m in \u001b[0;36msimple_training\u001b[1;34m(DATA_FOLDER, model_function, model_function_args, folder_path, val_split, epochs, batch_size)\u001b[0m\n\u001b[0;32m     56\u001b[0m         \u001b[0mprint\u001b[0m\u001b[1;33m(\u001b[0m\u001b[1;34m\"Creating and saving embeddings...\"\u001b[0m\u001b[1;33m)\u001b[0m\u001b[1;33m\u001b[0m\u001b[1;33m\u001b[0m\u001b[0m\n\u001b[0;32m     57\u001b[0m         \u001b[0mdata_left\u001b[0m \u001b[1;33m=\u001b[0m \u001b[0mnp\u001b[0m\u001b[1;33m.\u001b[0m\u001b[0mload\u001b[0m\u001b[1;33m(\u001b[0m\u001b[0mjoin\u001b[0m\u001b[1;33m(\u001b[0m\u001b[0mDATA_FOLDER\u001b[0m\u001b[1;33m,\u001b[0m \u001b[1;34m\"train\"\u001b[0m\u001b[1;33m,\u001b[0m \u001b[1;34m\"train_left_224.npy\"\u001b[0m\u001b[1;33m)\u001b[0m\u001b[1;33m)\u001b[0m\u001b[1;33m\u001b[0m\u001b[1;33m\u001b[0m\u001b[0m\n\u001b[1;32m---> 58\u001b[1;33m         \u001b[0membeddings_left\u001b[0m \u001b[1;33m=\u001b[0m \u001b[0mbatched_forward_pass\u001b[0m\u001b[1;33m(\u001b[0m\u001b[0mdata_left\u001b[0m\u001b[1;33m,\u001b[0m \u001b[0mvgg_no_train\u001b[0m\u001b[1;33m,\u001b[0m \u001b[1;36m2\u001b[0m\u001b[1;33m)\u001b[0m\u001b[1;33m\u001b[0m\u001b[1;33m\u001b[0m\u001b[0m\n\u001b[0m\u001b[0;32m     59\u001b[0m         \u001b[1;32mdel\u001b[0m \u001b[0mdata_left\u001b[0m\u001b[1;33m\u001b[0m\u001b[1;33m\u001b[0m\u001b[0m\n\u001b[0;32m     60\u001b[0m         \u001b[0mprint\u001b[0m\u001b[1;33m(\u001b[0m\u001b[1;34m\"Left complete\"\u001b[0m\u001b[1;33m)\u001b[0m\u001b[1;33m\u001b[0m\u001b[1;33m\u001b[0m\u001b[0m\n",
      "\u001b[1;32m<ipython-input-2-6a5bd85d1518>\u001b[0m in \u001b[0;36mbatched_forward_pass\u001b[1;34m(data, model, batch_size)\u001b[0m\n\u001b[0;32m      5\u001b[0m     \u001b[1;32mfor\u001b[0m \u001b[0mi\u001b[0m \u001b[1;32min\u001b[0m \u001b[0mrange\u001b[0m\u001b[1;33m(\u001b[0m\u001b[0mbatch_size\u001b[0m\u001b[1;33m,\u001b[0m \u001b[0mlen_data\u001b[0m\u001b[1;33m,\u001b[0m \u001b[0mbatch_size\u001b[0m\u001b[1;33m)\u001b[0m\u001b[1;33m:\u001b[0m\u001b[1;33m\u001b[0m\u001b[1;33m\u001b[0m\u001b[0m\n\u001b[0;32m      6\u001b[0m         \u001b[0mv\u001b[0m \u001b[1;33m=\u001b[0m \u001b[0mmodel\u001b[0m\u001b[1;33m(\u001b[0m\u001b[0mdata\u001b[0m\u001b[1;33m[\u001b[0m\u001b[0mi\u001b[0m\u001b[1;33m:\u001b[0m\u001b[0mi\u001b[0m\u001b[1;33m+\u001b[0m\u001b[0mbatch_size\u001b[0m\u001b[1;33m]\u001b[0m\u001b[1;33m)\u001b[0m\u001b[1;33m\u001b[0m\u001b[1;33m\u001b[0m\u001b[0m\n\u001b[1;32m----> 7\u001b[1;33m         \u001b[0ma\u001b[0m \u001b[1;33m=\u001b[0m \u001b[0mnp\u001b[0m\u001b[1;33m.\u001b[0m\u001b[0mconcatenate\u001b[0m\u001b[1;33m(\u001b[0m\u001b[1;33m(\u001b[0m\u001b[0ma\u001b[0m\u001b[1;33m,\u001b[0m \u001b[0mv\u001b[0m\u001b[1;33m)\u001b[0m\u001b[1;33m,\u001b[0m \u001b[1;36m0\u001b[0m\u001b[1;33m)\u001b[0m\u001b[1;33m\u001b[0m\u001b[1;33m\u001b[0m\u001b[0m\n\u001b[0m\u001b[0;32m      8\u001b[0m \u001b[1;33m\u001b[0m\u001b[0m\n\u001b[0;32m      9\u001b[0m     \u001b[1;32mreturn\u001b[0m \u001b[0ma\u001b[0m\u001b[1;33m\u001b[0m\u001b[1;33m\u001b[0m\u001b[0m\n",
      "\u001b[1;32m<__array_function__ internals>\u001b[0m in \u001b[0;36mconcatenate\u001b[1;34m(*args, **kwargs)\u001b[0m\n",
      "\u001b[1;31mMemoryError\u001b[0m: Unable to allocate 1.78 GiB for an array with shape (2386, 28, 28, 256) and data type float32"
     ]
    }
   ],
   "source": [
    "def batched_forward_pass(data, model, batch_size=20):\n",
    "    len_data = data.shape[0]\n",
    "    a = model(data[0:batch_size])\n",
    "    \n",
    "    for i in range(batch_size, len_data, batch_size):\n",
    "        v = model(data[i:i+batch_size])\n",
    "        a = np.concatenate((a, v), 0)\n",
    "        \n",
    "    return a\n",
    "\n",
    "def simple_training( DATA_FOLDER,\n",
    "                    model_function, model_function_args, folder_path, val_split, epochs, batch_size):\n",
    "    \"\"\"\n",
    "    Train a siamese model and store results in a folder.\n",
    "\n",
    "    :param data_left: left images array\n",
    "    :type data_left: np.array\n",
    "    :param data_right: right images array\n",
    "    :type data_right: np.array\n",
    "    :param data_label: labels array\n",
    "    :type data_label: np.array\n",
    "    :param model_function: function which build the model to train with k fold\n",
    "    :type model_function: function\n",
    "    :param model_function_args: arguments of the model building function\n",
    "    :type model_function_args: list\n",
    "    :param folder_path: path of the folder where results are stored\n",
    "    :type folder_path: str\n",
    "    :param val_split: set proportion dedicated to the validation set\n",
    "    :type val_split: float\n",
    "    :param epochs: number of training epochs\n",
    "    :type epochs: int\n",
    "    :param batch_size: batch size\n",
    "    :type batch_size: int\n",
    "    :return:\n",
    "    :rtype:\n",
    "    \"\"\"\n",
    "    # Create folder to store results\n",
    "    folder_path = safe_folder_creation(folder_path)\n",
    "\n",
    "    # Build model\n",
    "    conv_model = model_function(*model_function_args)\n",
    "    #train_data = [data_left, data_right]\n",
    "    \n",
    "    vgg_trainable = 'block3_pool'\n",
    "    vgg_include_until = 'block4_pool'\n",
    "    \n",
    "    vgg = VGG19(weights='imagenet', include_top=False, input_shape=(224, 224, 3))\n",
    "    vgg_no_train = Model(inputs=vgg.input, outputs=vgg.get_layer(vgg_trainable).output)\n",
    "    \n",
    "    try:\n",
    "        embeddings_left = np.load(folder_path + \"/embeddings_left_{}.npy\".format(vgg_trainable))\n",
    "        embeddings_right = np.load(folder_path + \"/embeddings_right_{}.npy\".format(vgg_trainable))\n",
    "        print(\"Embeddings successfully loaded from files\")\n",
    "        \n",
    "    except FileNotFoundError:\n",
    "        print(\"Creating and saving embeddings...\")\n",
    "        data_left = np.load(join(DATA_FOLDER, \"train\", \"train_left_224.npy\"))\n",
    "        embeddings_left = batched_forward_pass(data_left, vgg_no_train, 2)\n",
    "        del data_left\n",
    "        print(\"Left complete\")\n",
    "        \n",
    "        data_right = np.load(join(DATA_FOLDER, \"train\", \"train_right_224.npy\"))\n",
    "        embeddings_right = batched_forward_pass(data_right, vgg_no_train, 2)\n",
    "        del data_right\n",
    "        print(\"Right Complete\")\n",
    "        \n",
    "        np.save(os.path.join(folder_path, \"/embeddings_left_{}.npy\".format(vgg_trainable)), embeddings_left)\n",
    "        np.save(os.path.join(folder_path, \"/embeddings_right_{}.npy\".format(vgg_trainable)), embeddings_right)\n",
    "        \n",
    "    return\n",
    "    train_data[embeddings_left, embeddings_right]\n",
    "    \n",
    "    data_label = np.load(join(DATA_FOLDER, \"train\", \"train_labels_224.npy\"))\n",
    "    # Train model\n",
    "    model_fitted = conv_model.fit(train_data, data_label, vgg_trainable=vgg_trainable,\n",
    "                                  epochs=epochs, batch_size=batch_size, validation_split=val_split)\n",
    "\n",
    "    # Save model and plots\n",
    "    model_path = os.path.join(folder_path, 'fitted_model.h5')\n",
    "    conv_model.save(model_path)\n",
    "    plot_validation_info(model_fitted, folder_path)\n",
    "\n",
    "    # Save also weights and structure for backup\n",
    "    weights_path = os.path.join(folder_path, 'weights.h5')\n",
    "    conv_model.save_weights(weights_path)\n",
    "    json_path = os.path.join(folder_path, 'structure.json')\n",
    "    save_structure_in_json(conv_model, json_path)\n",
    "\n",
    "simple_training(\"Z:\\Comparisons_npy\", comparisons_model, [224], \"Examples/Training_results/Simple\", 0.2, 5, 8)\n"
   ]
  },
  {
   "cell_type": "code",
   "execution_count": null,
   "id": "662fd14f",
   "metadata": {},
   "outputs": [],
   "source": [
    "batched_forward_pas"
   ]
  },
  {
   "cell_type": "code",
   "execution_count": null,
   "id": "5dcd26bf",
   "metadata": {},
   "outputs": [],
   "source": [
    "\n",
    "# Build model\n",
    "conv_model = comparisons_model(224)\n"
   ]
  },
  {
   "cell_type": "code",
   "execution_count": null,
   "id": "23516cb1",
   "metadata": {
    "scrolled": true
   },
   "outputs": [],
   "source": [
    "# Train model\n",
    "#model_fitted = conv_model.fit(train_data, data_label,epochs=400, batch_size=6, validation_split=0.2)\n",
    "\n"
   ]
  },
  {
   "cell_type": "code",
   "execution_count": null,
   "id": "458a360c",
   "metadata": {},
   "outputs": [],
   "source": [
    "plot_validation_info(conv_model,folder_path)"
   ]
  },
  {
   "cell_type": "code",
   "execution_count": null,
   "id": "d1bff6dd",
   "metadata": {},
   "outputs": [],
   "source": [
    "conv_model.history"
   ]
  },
  {
   "cell_type": "code",
   "execution_count": null,
   "id": "90a3b740",
   "metadata": {},
   "outputs": [],
   "source": [
    "\n",
    "# Save model and plots\n",
    "folder_path = safe_folder_creation(folder_path)\n",
    "\n",
    "model_path = os.path.join(folder_path, 'fitted_model.h5')\n",
    "conv_model.save(model_path)\n",
    "plot_validation_info(model_fitted, folder_path)\n",
    "\n",
    "# Save also weights and structure for backup\n",
    "weights_path = os.path.join(folder_path, 'weights.h5')\n",
    "conv_model.save_weights(weights_path)\n",
    "json_path = os.path.join(folder_path, 'structure.json')\n",
    "save_structure_in_json(conv_model, json_path)\n"
   ]
  },
  {
   "cell_type": "code",
   "execution_count": null,
   "id": "d8cd722f",
   "metadata": {},
   "outputs": [],
   "source": [
    "from tensorflow.keras.applications import VGG19\n",
    "img_size=224\n",
    "vgg_feature_extractor = VGG19(weights='imagenet', include_top=False, input_shape=(img_size, img_size, 3))\n",
    "\n",
    "for layer in vgg_feature_extractor.layers[:-4]:\n",
    "        layer.trainable = False"
   ]
  },
  {
   "cell_type": "code",
   "execution_count": null,
   "id": "6b3d655a",
   "metadata": {
    "scrolled": false
   },
   "outputs": [],
   "source": [
    "vgg_feature_extractor.summary()"
   ]
  },
  {
   "cell_type": "code",
   "execution_count": null,
   "id": "b972c5e0",
   "metadata": {
    "scrolled": true
   },
   "outputs": [],
   "source": [
    "conv_model([np.ones([1,224,224,3])] * 2)"
   ]
  },
  {
   "cell_type": "code",
   "execution_count": null,
   "id": "0e356b89",
   "metadata": {},
   "outputs": [],
   "source": [
    "model.weights[-1]"
   ]
  },
  {
   "cell_type": "code",
   "execution_count": null,
   "id": "f3d67c98",
   "metadata": {},
   "outputs": [],
   "source": [
    "vgg_feature_extractor.weights[-1]"
   ]
  },
  {
   "cell_type": "code",
   "execution_count": null,
   "id": "27a1bcc5",
   "metadata": {},
   "outputs": [],
   "source": [
    "from tensorflow.python.client import device_lib\n",
    "print(device_lib.list_local_devices())"
   ]
  },
  {
   "cell_type": "code",
   "execution_count": null,
   "id": "6e16c20d",
   "metadata": {},
   "outputs": [],
   "source": [
    "import tensorflow.keras.backend as K\n",
    "\n",
    "K._get_available_gpus()"
   ]
  },
  {
   "cell_type": "code",
   "execution_count": null,
   "id": "7ecf68f1",
   "metadata": {},
   "outputs": [],
   "source": [
    "plt.imshow(left[0]/255)"
   ]
  },
  {
   "cell_type": "code",
   "execution_count": null,
   "id": "c4059434",
   "metadata": {
    "scrolled": true
   },
   "outputs": [],
   "source": [
    "vgg_feature_extractor(np.expand_dims(left[0],0))"
   ]
  },
  {
   "cell_type": "code",
   "execution_count": null,
   "id": "0960d9c6",
   "metadata": {
    "scrolled": true
   },
   "outputs": [],
   "source": [
    "model(np.expand_dims(left[0],0))"
   ]
  },
  {
   "cell_type": "code",
   "execution_count": null,
   "id": "495035b8",
   "metadata": {},
   "outputs": [],
   "source": [
    "np.expand_dims(left[0],0)"
   ]
  },
  {
   "cell_type": "code",
   "execution_count": null,
   "id": "1c8dc06a",
   "metadata": {},
   "outputs": [],
   "source": []
  }
 ],
 "metadata": {
  "kernelspec": {
   "display_name": "Python 3",
   "language": "python",
   "name": "python3"
  },
  "language_info": {
   "codemirror_mode": {
    "name": "ipython",
    "version": 3
   },
   "file_extension": ".py",
   "mimetype": "text/x-python",
   "name": "python",
   "nbconvert_exporter": "python",
   "pygments_lexer": "ipython3",
   "version": "3.8.0"
  }
 },
 "nbformat": 4,
 "nbformat_minor": 5
}
