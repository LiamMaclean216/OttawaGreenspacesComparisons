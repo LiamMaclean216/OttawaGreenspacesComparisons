{
 "cells": [
  {
   "cell_type": "code",
   "execution_count": 1,
   "id": "6deeb5ef",
   "metadata": {},
   "outputs": [
    {
     "name": "stdout",
     "output_type": "stream",
     "text": [
      "Imports\n"
     ]
    }
   ],
   "source": [
    "print(\"Imports\")\n",
    "from keras.models import load_model\n",
    "from Class_Image import Image\n",
    "from os.path import abspath\n",
    "from Class_training import *\n",
    "from Model_comparisons import *\n",
    "from os.path import abspath, join\n",
    "import numpy as np\n",
    "\n",
    "import matplotlib.pyplot as plt\n",
    "import tensorflow as tf\n",
    "from tensorflow.keras.applications import VGG19\n",
    "#import keras\n",
    "from tensorflow.keras import Input, Model\n",
    "from keras.preprocessing.image import ImageDataGenerator\n",
    "import keras_tuner as kt\n",
    "\n",
    "%matplotlib inline"
   ]
  },
  {
   "cell_type": "code",
   "execution_count": 2,
   "id": "d7c97df4",
   "metadata": {},
   "outputs": [],
   "source": [
    "def map_fn(serialized_example):\n",
    "    feature = {\n",
    "        'data_label': tf.io.FixedLenFeature([2], tf.int64),\n",
    "        'data_right': tf.io.FixedLenFeature([150528], tf.int64),\n",
    "        'data_left': tf.io.FixedLenFeature([150528], tf.int64),\n",
    "    }\n",
    "    \n",
    "    ex = tf.io.parse_single_example(serialized_example, feature)\n",
    "    #ex['data_label'] = ex['data_label'][0]\n",
    "    return ex, ex['data_label']"
   ]
  },
  {
   "cell_type": "code",
   "execution_count": 3,
   "id": "cbc472fb",
   "metadata": {},
   "outputs": [],
   "source": [
    "dataset_val = tf.data.TFRecordDataset((\n",
    "    'D:/Comparison_1/data_val.tfrecord'\n",
    ")\n",
    ")\n",
    "dataset_train = tf.data.TFRecordDataset((\n",
    "    'D:/Comparison_1/data_train.tfrecord', \n",
    "    #'Z:/data_train_synthetic.tfrecord'\n",
    ")\n",
    ")\n",
    "dataset_train = dataset_train.map(map_fn)\n",
    "dataset_train = dataset_train.shuffle(2048, reshuffle_each_iteration = True)\n",
    "dataset_train = dataset_train.prefetch(buffer_size=tf.data.AUTOTUNE)\n",
    "dataset_train = dataset_train.batch(6)\n",
    "\n",
    "dataset_val = dataset_val.map(map_fn)\n",
    "#dataset_val = dataset_val.shuffle(2048)\n",
    "dataset_val = dataset_val.prefetch(buffer_size=tf.data.AUTOTUNE)\n",
    "dataset_val = dataset_val.batch(6)"
   ]
  },
  {
   "cell_type": "code",
   "execution_count": 4,
   "id": "1fe2fe7d",
   "metadata": {
    "scrolled": true
   },
   "outputs": [
    {
     "name": "stdout",
     "output_type": "stream",
     "text": [
      "Epoch 1/50\n"
     ]
    },
    {
     "name": "stderr",
     "output_type": "stream",
     "text": [
      "c:\\users\\lmacl\\appdata\\local\\programs\\python\\python38\\lib\\site-packages\\tensorflow\\python\\keras\\engine\\functional.py:588: UserWarning: Input dict contained keys ['data_label'] which did not match any model input. They will be ignored by the model.\n",
      "  warnings.warn(\n"
     ]
    },
    {
     "name": "stdout",
     "output_type": "stream",
     "text": [
      "487/487 [==============================] - 182s 335ms/step - loss: 0.9521 - accuracy: 0.6267 - val_loss: 1.8515 - val_accuracy: 0.6867\n",
      "Epoch 2/50\n",
      "487/487 [==============================] - 158s 320ms/step - loss: 0.9042 - accuracy: 0.6524 - val_loss: 3.0627 - val_accuracy: 0.4966\n",
      "Epoch 3/50\n",
      "487/487 [==============================] - 158s 323ms/step - loss: 0.8073 - accuracy: 0.6757 - val_loss: 0.8178 - val_accuracy: 0.6867\n",
      "Epoch 4/50\n",
      "487/487 [==============================] - 158s 322ms/step - loss: 0.8616 - accuracy: 0.6438 - val_loss: 1.7723 - val_accuracy: 0.5294\n",
      "Epoch 5/50\n",
      "487/487 [==============================] - 161s 328ms/step - loss: 0.8932 - accuracy: 0.6288 - val_loss: 0.7816 - val_accuracy: 0.7551\n",
      "Epoch 6/50\n",
      "487/487 [==============================] - 156s 318ms/step - loss: 0.7834 - accuracy: 0.6630 - val_loss: 0.7029 - val_accuracy: 0.4679\n",
      "Epoch 7/50\n",
      "487/487 [==============================] - 157s 321ms/step - loss: 0.8755 - accuracy: 0.5942 - val_loss: 0.6704 - val_accuracy: 0.6744\n",
      "Epoch 8/50\n",
      "487/487 [==============================] - 157s 320ms/step - loss: 0.8681 - accuracy: 0.5986 - val_loss: 1.9303 - val_accuracy: 0.5321\n",
      "Epoch 9/50\n",
      "487/487 [==============================] - 155s 317ms/step - loss: 0.7531 - accuracy: 0.6654 - val_loss: 0.5435 - val_accuracy: 0.7237\n",
      "Epoch 10/50\n",
      "487/487 [==============================] - 155s 317ms/step - loss: 0.7917 - accuracy: 0.6517 - val_loss: 0.5560 - val_accuracy: 0.7674\n",
      "Epoch 11/50\n",
      "487/487 [==============================] - 155s 316ms/step - loss: 0.7572 - accuracy: 0.6634 - val_loss: 1.0127 - val_accuracy: 0.4774\n",
      "Epoch 12/50\n",
      "487/487 [==============================] - 155s 317ms/step - loss: 0.8813 - accuracy: 0.5798 - val_loss: 1.4030 - val_accuracy: 0.4596\n",
      "Epoch 13/50\n",
      "487/487 [==============================] - 158s 322ms/step - loss: 0.8491 - accuracy: 0.5822 - val_loss: 0.6327 - val_accuracy: 0.7059\n",
      "Epoch 14/50\n",
      "487/487 [==============================] - 157s 320ms/step - loss: 0.7636 - accuracy: 0.6486 - val_loss: 0.6369 - val_accuracy: 0.6799\n",
      "Epoch 15/50\n",
      "487/487 [==============================] - 157s 321ms/step - loss: 0.6989 - accuracy: 0.6894 - val_loss: 0.5367 - val_accuracy: 0.7456\n",
      "Epoch 16/50\n",
      "487/487 [==============================] - 158s 322ms/step - loss: 0.7119 - accuracy: 0.6675 - val_loss: 0.5212 - val_accuracy: 0.7715\n",
      "Epoch 17/50\n",
      "487/487 [==============================] - 157s 321ms/step - loss: 0.6585 - accuracy: 0.7089 - val_loss: 0.6573 - val_accuracy: 0.7729\n",
      "Epoch 18/50\n",
      "487/487 [==============================] - 157s 321ms/step - loss: 0.6869 - accuracy: 0.6818 - val_loss: 0.5055 - val_accuracy: 0.7880\n",
      "Epoch 19/50\n",
      "487/487 [==============================] - 157s 321ms/step - loss: 0.6371 - accuracy: 0.7062 - val_loss: 0.4969 - val_accuracy: 0.7811\n",
      "Epoch 20/50\n",
      "487/487 [==============================] - 155s 317ms/step - loss: 0.6468 - accuracy: 0.7007 - val_loss: 0.4902 - val_accuracy: 0.7825\n",
      "Epoch 21/50\n",
      "487/487 [==============================] - 156s 318ms/step - loss: 0.6077 - accuracy: 0.7089 - val_loss: 0.5058 - val_accuracy: 0.7852\n",
      "Epoch 22/50\n",
      "487/487 [==============================] - 155s 317ms/step - loss: 0.6481 - accuracy: 0.6983 - val_loss: 0.6235 - val_accuracy: 0.7524\n",
      "Epoch 23/50\n",
      "487/487 [==============================] - 156s 318ms/step - loss: 0.6322 - accuracy: 0.7082 - val_loss: 0.5921 - val_accuracy: 0.7346\n",
      "Epoch 24/50\n",
      "487/487 [==============================] - 156s 319ms/step - loss: 0.6815 - accuracy: 0.6791 - val_loss: 0.5675 - val_accuracy: 0.7182\n",
      "Epoch 25/50\n",
      "487/487 [==============================] - 158s 323ms/step - loss: 0.6125 - accuracy: 0.7171 - val_loss: 0.5944 - val_accuracy: 0.7278\n",
      "Epoch 26/50\n",
      "487/487 [==============================] - 156s 319ms/step - loss: 0.6158 - accuracy: 0.7188 - val_loss: 0.4893 - val_accuracy: 0.7332\n",
      "Epoch 27/50\n",
      "487/487 [==============================] - 156s 318ms/step - loss: 0.6353 - accuracy: 0.7092 - val_loss: 0.5646 - val_accuracy: 0.7250\n",
      "Epoch 28/50\n",
      "487/487 [==============================] - 156s 318ms/step - loss: 0.6098 - accuracy: 0.7188 - val_loss: 0.5058 - val_accuracy: 0.7729\n",
      "Epoch 29/50\n",
      "487/487 [==============================] - 156s 318ms/step - loss: 0.5962 - accuracy: 0.7257 - val_loss: 0.5242 - val_accuracy: 0.7428\n",
      "Epoch 30/50\n",
      "487/487 [==============================] - 158s 322ms/step - loss: 0.6045 - accuracy: 0.7178 - val_loss: 0.7049 - val_accuracy: 0.7428\n",
      "Epoch 31/50\n",
      "487/487 [==============================] - 158s 323ms/step - loss: 0.5992 - accuracy: 0.7216 - val_loss: 0.5077 - val_accuracy: 0.7934\n",
      "Epoch 32/50\n",
      "487/487 [==============================] - 158s 322ms/step - loss: 0.5841 - accuracy: 0.7243 - val_loss: 0.4625 - val_accuracy: 0.7975\n",
      "Epoch 33/50\n",
      "487/487 [==============================] - 158s 321ms/step - loss: 0.5989 - accuracy: 0.7229 - val_loss: 0.4796 - val_accuracy: 0.8071\n",
      "Epoch 34/50\n",
      "487/487 [==============================] - 157s 320ms/step - loss: 0.5767 - accuracy: 0.7277 - val_loss: 0.9527 - val_accuracy: 0.7127\n",
      "Epoch 35/50\n",
      "487/487 [==============================] - 156s 318ms/step - loss: 0.5861 - accuracy: 0.7161 - val_loss: 0.5811 - val_accuracy: 0.7031\n",
      "Epoch 36/50\n",
      "487/487 [==============================] - 158s 323ms/step - loss: 0.5893 - accuracy: 0.7192 - val_loss: 0.4468 - val_accuracy: 0.8003\n",
      "Epoch 37/50\n",
      "487/487 [==============================] - 161s 328ms/step - loss: 0.5599 - accuracy: 0.7305 - val_loss: 0.4784 - val_accuracy: 0.7729\n",
      "Epoch 38/50\n",
      "487/487 [==============================] - 162s 330ms/step - loss: 0.5715 - accuracy: 0.7363 - val_loss: 0.4881 - val_accuracy: 0.7825\n",
      "Epoch 39/50\n",
      "487/487 [==============================] - 171s 349ms/step - loss: 0.5558 - accuracy: 0.7421 - val_loss: 0.6297 - val_accuracy: 0.6457\n",
      "Epoch 40/50\n",
      "487/487 [==============================] - 167s 340ms/step - loss: 0.5600 - accuracy: 0.7353 - val_loss: 1.2204 - val_accuracy: 0.5157\n",
      "Epoch 41/50\n",
      "487/487 [==============================] - 165s 336ms/step - loss: 0.5601 - accuracy: 0.7380 - val_loss: 0.5348 - val_accuracy: 0.7715\n",
      "Epoch 42/50\n",
      "487/487 [==============================] - 163s 333ms/step - loss: 0.5547 - accuracy: 0.7414 - val_loss: 0.4923 - val_accuracy: 0.7907\n",
      "Epoch 43/50\n",
      "487/487 [==============================] - 160s 325ms/step - loss: 0.5525 - accuracy: 0.7408 - val_loss: 0.5988 - val_accuracy: 0.7880\n",
      "Epoch 44/50\n",
      "487/487 [==============================] - 158s 322ms/step - loss: 0.5448 - accuracy: 0.7531 - val_loss: 0.6455 - val_accuracy: 0.6908\n",
      "Epoch 45/50\n",
      "487/487 [==============================] - 158s 322ms/step - loss: 0.5361 - accuracy: 0.7466 - val_loss: 0.4545 - val_accuracy: 0.7839\n",
      "Epoch 46/50\n",
      "487/487 [==============================] - 158s 323ms/step - loss: 0.5522 - accuracy: 0.7332 - val_loss: 0.4630 - val_accuracy: 0.7784\n",
      "Epoch 47/50\n",
      "487/487 [==============================] - 158s 322ms/step - loss: 0.5473 - accuracy: 0.7411 - val_loss: 0.5091 - val_accuracy: 0.7346\n",
      "Epoch 48/50\n",
      "487/487 [==============================] - 159s 323ms/step - loss: 0.5378 - accuracy: 0.7510 - val_loss: 0.4490 - val_accuracy: 0.8003\n",
      "Epoch 49/50\n",
      "487/487 [==============================] - 158s 323ms/step - loss: 0.5467 - accuracy: 0.7425 - val_loss: 0.4575 - val_accuracy: 0.7948\n",
      "Epoch 50/50\n",
      "487/487 [==============================] - 156s 318ms/step - loss: 0.5352 - accuracy: 0.7562 - val_loss: 0.4545 - val_accuracy: 0.7907\n"
     ]
    }
   ],
   "source": [
    "conv_model = ranking_model(224)\n",
    "history1=conv_model.fit(dataset_train, validation_data = dataset_val, epochs = 50)"
   ]
  },
  {
   "cell_type": "raw",
   "id": "fe528a5e",
   "metadata": {
    "scrolled": true
   },
   "source": [
    "#conv_model = comparisons_model(224)\n",
    "\n",
    "tuner = kt.Hyperband(comparisons_model,\n",
    "                     objective='val_accuracy',\n",
    "                     max_epochs=25,\n",
    "                     factor=3,\n",
    "                     directory='Z:/tuner',\n",
    "                     project_name='jad_model_hp_layer_freeze2')\n",
    "\n",
    "stop_early = tf.keras.callbacks.EarlyStopping(monitor='val_loss', patience=5)\n",
    "\n",
    "#history1=conv_model.fit(dataset_train, validation_data = dataset_val, epochs = 100)\n",
    "tuner.search(dataset_train, validation_data = dataset_val, epochs=500, callbacks=[stop_early], verbose=2)\n",
    "\n",
    "# Get the optimal hyperparameters\n",
    "best_hps=tuner.get_best_hyperparameters(num_trials=1)[0]"
   ]
  },
  {
   "cell_type": "raw",
   "id": "53fb426a",
   "metadata": {},
   "source": [
    "model = tuner.hypermodel.build(best_hps)\n",
    "history=model.fit(dataset_train, validation_data = dataset_val, epochs = 125)"
   ]
  },
  {
   "cell_type": "raw",
   "id": "1505fe2b",
   "metadata": {
    "scrolled": true
   },
   "source": [
    "plt.plot(history.history['val_accuracy'])\n",
    "plt.plot(history.history['val_loss'])"
   ]
  },
  {
   "cell_type": "raw",
   "id": "65bbeb96",
   "metadata": {},
   "source": [
    "best_hps.get(\"learning_rate\")\n",
    "best_hps.get(\"layers_frozen\")"
   ]
  },
  {
   "cell_type": "code",
   "execution_count": 7,
   "id": "bad07bb5",
   "metadata": {},
   "outputs": [],
   "source": [
    "conv_model.save_weights(\"D:/ranking_model_weights.h5\")\n",
    "conv_model.save(\"D:/ranking_model.h5\")"
   ]
  },
  {
   "cell_type": "code",
   "execution_count": null,
   "id": "8b1ff5eb",
   "metadata": {},
   "outputs": [],
   "source": [
    "3"
   ]
  },
  {
   "cell_type": "code",
   "execution_count": null,
   "id": "025f0b48",
   "metadata": {},
   "outputs": [],
   "source": []
  }
 ],
 "metadata": {
  "kernelspec": {
   "display_name": "Python 3",
   "language": "python",
   "name": "python3"
  },
  "language_info": {
   "codemirror_mode": {
    "name": "ipython",
    "version": 3
   },
   "file_extension": ".py",
   "mimetype": "text/x-python",
   "name": "python",
   "nbconvert_exporter": "python",
   "pygments_lexer": "ipython3",
   "version": "3.8.0"
  }
 },
 "nbformat": 4,
 "nbformat_minor": 5
}
