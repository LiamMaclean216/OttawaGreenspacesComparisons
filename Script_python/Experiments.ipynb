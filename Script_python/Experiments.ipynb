{
 "cells": [
  {
   "cell_type": "code",
   "execution_count": 1,
   "id": "6deeb5ef",
   "metadata": {},
   "outputs": [
    {
     "name": "stdout",
     "output_type": "stream",
     "text": [
      "Imports\n"
     ]
    }
   ],
   "source": [
    "print(\"Imports\")\n",
    "from keras.models import load_model\n",
    "from Class_Image import Image\n",
    "from os.path import abspath\n",
    "from Class_training import *\n",
    "from Model_comparisons import *\n",
    "from os.path import abspath, join\n",
    "import numpy as np\n",
    "\n",
    "import matplotlib.pyplot as plt\n",
    "import tensorflow as tf\n",
    "from tensorflow.keras.applications import VGG19\n",
    "#import keras\n",
    "from tensorflow.keras import Input, Model\n",
    "from keras.preprocessing.image import ImageDataGenerator\n",
    "import keras_tuner as kt\n",
    "\n",
    "%matplotlib inline"
   ]
  },
  {
   "cell_type": "code",
   "execution_count": 2,
   "id": "d7c97df4",
   "metadata": {},
   "outputs": [],
   "source": [
    "def map_fn(serialized_example):\n",
    "    feature = {\n",
    "        'data_label': tf.io.FixedLenFeature([2], tf.int64),\n",
    "        'data_right': tf.io.FixedLenFeature([150528], tf.int64),\n",
    "        'data_left': tf.io.FixedLenFeature([150528], tf.int64),\n",
    "    }\n",
    "    \n",
    "    ex = tf.io.parse_single_example(serialized_example, feature)\n",
    "    return ex, ex['data_label']"
   ]
  },
  {
   "cell_type": "code",
   "execution_count": 3,
   "id": "3be244b0",
   "metadata": {},
   "outputs": [
    {
     "name": "stdout",
     "output_type": "stream",
     "text": [
      "INFO:tensorflow:Reloading Oracle from existing project Z:/tuner\\hp_layer_freeze\\oracle.json\n",
      "INFO:tensorflow:Reloading Tuner from Z:/tuner\\hp_layer_freeze\\tuner0.json\n"
     ]
    }
   ],
   "source": [
    "#conv_model = comparisons_model(224)\n",
    "\n",
    "tuner = kt.Hyperband(comparisons_model,\n",
    "                     objective='val_accuracy',\n",
    "                     max_epochs=10,\n",
    "                     factor=3,\n",
    "                     directory='Z:/tuner',\n",
    "                     project_name='hp_layer_freeze')\n",
    "\n",
    "stop_early = tf.keras.callbacks.EarlyStopping(monitor='val_loss', patience=5)\n"
   ]
  },
  {
   "cell_type": "code",
   "execution_count": 4,
   "id": "cbc472fb",
   "metadata": {},
   "outputs": [],
   "source": [
    "dataset_val = tf.data.TFRecordDataset((\n",
    "    'Z:/Comparison_1_npy/data_val.tfrecord'\n",
    ")\n",
    ")\n",
    "dataset_train = tf.data.TFRecordDataset((\n",
    "    'Z:/Comparison_1_npy/data_train.tfrecord', \n",
    "    #'Z:/data_train_synthetic.tfrecord'\n",
    ")\n",
    ")\n",
    "dataset_train = dataset_train.map(map_fn)\n",
    "dataset_train = dataset_train.shuffle(2048, reshuffle_each_iteration = True)\n",
    "dataset_train = dataset_train.prefetch(buffer_size=tf.data.AUTOTUNE)\n",
    "dataset_train = dataset_train.batch(6)\n",
    "\n",
    "dataset_val = dataset_val.map(map_fn)\n",
    "#dataset_val = dataset_val.shuffle(2048)\n",
    "dataset_val = dataset_val.prefetch(buffer_size=tf.data.AUTOTUNE)\n",
    "dataset_val = dataset_val.batch(6)"
   ]
  },
  {
   "cell_type": "code",
   "execution_count": null,
   "id": "d7b5aca9",
   "metadata": {
    "scrolled": true
   },
   "outputs": [
    {
     "name": "stdout",
     "output_type": "stream",
     "text": [
      "\n",
      "Search: Running Trial #1\n",
      "\n",
      "Hyperparameter    |Value             |Best Value So Far \n",
      "layers_frozen     |2                 |20                \n",
      "translate         |0.3               |0                 \n",
      "zoom              |0                 |0.1               \n",
      "rotation          |0.1               |0.7               \n",
      "dropout           |0.4               |0.2               \n",
      "learning_rate     |9.2569e-06        |2.4351e-05        \n",
      "tuner/epochs      |10                |10                \n",
      "tuner/initial_e...|0                 |4                 \n",
      "tuner/bracket     |0                 |2                 \n",
      "tuner/round       |0                 |2                 \n",
      "\n",
      "Epoch 1/10\n"
     ]
    },
    {
     "name": "stderr",
     "output_type": "stream",
     "text": [
      "c:\\users\\lmacl\\appdata\\local\\programs\\python\\python38\\lib\\site-packages\\tensorflow\\python\\keras\\engine\\functional.py:588: UserWarning: Input dict contained keys ['data_label'] which did not match any model input. They will be ignored by the model.\n",
      "  warnings.warn(\n"
     ]
    }
   ],
   "source": [
    "#history1=conv_model.fit(dataset_train, validation_data = dataset_val, epochs = 100)\n",
    "tuner.search(dataset_train, validation_data = dataset_val, epochs=500, callbacks=[stop_early], verbose=2)\n",
    "\n",
    "# Get the optimal hyperparameters\n",
    "best_hps=tuner.get_best_hyperparameters(num_trials=1)[0]"
   ]
  },
  {
   "cell_type": "raw",
   "id": "1e4cf8a0",
   "metadata": {},
   "source": [
    "plt.plot(history.history['loss'], label='loss')\n",
    "plt.plot(history.history['val_loss'], label='val_loss')\n",
    "plt.legend()"
   ]
  },
  {
   "cell_type": "raw",
   "id": "15b1d22e",
   "metadata": {},
   "source": [
    "plt.plot(history.history['accuracy'], label='accuracy')\n",
    "plt.plot(history.history['val_accuracy'], label='val_accuracy')\n",
    "plt.legend()"
   ]
  },
  {
   "cell_type": "raw",
   "id": "7c16a5f7",
   "metadata": {},
   "source": [
    "plt.plot(history1.history['loss'], label='loss')\n",
    "plt.plot(history1.history['val_loss'], label='val_loss')\n",
    "plt.legend()"
   ]
  },
  {
   "cell_type": "raw",
   "id": "15bf681a",
   "metadata": {},
   "source": [
    "plt.plot(history1.history['accuracy'], label='accuracy')\n",
    "plt.plot(history1.history['val_accuracy'], label='val_accuracy')\n",
    "plt.legend()"
   ]
  },
  {
   "cell_type": "code",
   "execution_count": null,
   "id": "a43fa546",
   "metadata": {},
   "outputs": [],
   "source": []
  }
 ],
 "metadata": {
  "kernelspec": {
   "display_name": "Python 3",
   "language": "python",
   "name": "python3"
  },
  "language_info": {
   "codemirror_mode": {
    "name": "ipython",
    "version": 3
   },
   "file_extension": ".py",
   "mimetype": "text/x-python",
   "name": "python",
   "nbconvert_exporter": "python",
   "pygments_lexer": "ipython3",
   "version": "3.8.0"
  }
 },
 "nbformat": 4,
 "nbformat_minor": 5
}
