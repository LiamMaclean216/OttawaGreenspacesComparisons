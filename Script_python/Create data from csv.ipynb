{
 "cells": [
  {
   "cell_type": "code",
   "execution_count": 5,
   "id": "f5564834",
   "metadata": {},
   "outputs": [],
   "source": [
    "from Class_Preprocessing import preprocessing_duels\n",
    "from os.path import abspath, join\n",
    "import tensorflow as tf\n",
    "import numpy as np"
   ]
  },
  {
   "cell_type": "code",
   "execution_count": 2,
   "id": "127c4341",
   "metadata": {
    "scrolled": true
   },
   "outputs": [
    {
     "name": "stdout",
     "output_type": "stream",
     "text": [
      "D:/duels_question_1.csv\n",
      "Creating inputs from csv ...\n",
      "Done\n",
      "Saving test set ...\n",
      "Done\n",
      "Saving train set ...\n",
      "Done\n",
      "D:/duels_question_2.csv\n",
      "Creating inputs from csv ...\n",
      "Done\n",
      "Saving test set ...\n",
      "Done\n",
      "Saving train set ...\n",
      "Done\n",
      "D:/duels_question_3.csv\n",
      "Creating inputs from csv ...\n",
      "Done\n",
      "Saving test set ...\n",
      "Done\n",
      "Saving train set ...\n",
      "Done\n",
      "D:/duels_question_4.csv\n",
      "Creating inputs from csv ...\n",
      "Done\n",
      "Saving test set ...\n",
      "Done\n",
      "Saving train set ...\n",
      "Done\n"
     ]
    }
   ],
   "source": [
    "#Create .npy files from csv data\n",
    "\n",
    "WEB_IMG_DIR = \"D:/Sample_web_green\"\n",
    "DATA_FOLDER = \"D:/Comparison_1\"\n",
    "COMP_CSV = join(\"D:/\", \"duels_question_1.csv\")\n",
    "preprocessing_duels(COMP_CSV, 224, WEB_IMG_DIR, DATA_FOLDER, 0.2)\n",
    "\n",
    "DATA_FOLDER = \"D:/Comparison_2\"\n",
    "COMP_CSV = join(\"D:/\", \"duels_question_2.csv\")\n",
    "preprocessing_duels(COMP_CSV, 224, WEB_IMG_DIR, DATA_FOLDER, 0.2)\n",
    "\n",
    "DATA_FOLDER = \"D:/Comparison_3\"\n",
    "COMP_CSV = join(\"D:/\", \"duels_question_3.csv\")\n",
    "preprocessing_duels(COMP_CSV, 224, WEB_IMG_DIR, DATA_FOLDER, 0.2)\n",
    "\n",
    "DATA_FOLDER = \"D:/Comparison_4\"\n",
    "COMP_CSV = join(\"D:/\", \"duels_question_4.csv\")\n",
    "preprocessing_duels(COMP_CSV, 224, WEB_IMG_DIR, DATA_FOLDER, 0.2)\n"
   ]
  },
  {
   "cell_type": "code",
   "execution_count": 9,
   "id": "956a2b32",
   "metadata": {
    "scrolled": true
   },
   "outputs": [
    {
     "name": "stdout",
     "output_type": "stream",
     "text": [
      "1\n",
      "2\n",
      "3\n",
      "4\n"
     ]
    }
   ],
   "source": [
    "#Create .tfrecord files from npy files\n",
    "\n",
    "val_split = 0.2\n",
    "\n",
    "for i in range(1,5): #iterate over each question\n",
    "    print(i)\n",
    "    DATA_FOLDER =\"D:\\Comparison_{}\".format(i)\n",
    "    tfrecord = tf.io.TFRecordWriter(join(DATA_FOLDER, \"data_train.tfrecord\"))\n",
    "    \n",
    "    data_left = np.load(join(DATA_FOLDER, \"train\", \"train_left_224.npy\"), mmap_mode=None)\n",
    "    data_right = np.load(join(DATA_FOLDER, \"train\", \"train_right_224.npy\"),  mmap_mode=None)\n",
    "    data_label = np.load(join(DATA_FOLDER, \"train\", \"train_labels_224.npy\"), mmap_mode=None)\n",
    "    labels_score = np.load(join(DATA_FOLDER, \"train\", \"train_labels_score_224.npy\"),  mmap_mode=None)\n",
    "    for j in range(data_left.shape[0]): #iterate through all rows\n",
    "        if(j == int(data_left.shape[0] * (1 - val_split)) ):\n",
    "            tfrecord = tf.io.TFRecordWriter(join(DATA_FOLDER, \"data_val.tfrecord\"))\n",
    "        features = {\n",
    "        'data_label' : tf.train.Feature(int64_list=tf.train.Int64List(value=data_label[j])),\n",
    "        'labels_score': tf.train.Feature(int64_list=tf.train.Int64List(value=np.array([labels_score[j]]))),\n",
    "        'data_left': tf.train.Feature(int64_list=tf.train.Int64List(value=data_left[j].astype(int).flatten())),\n",
    "        'data_right': tf.train.Feature(int64_list=tf.train.Int64List(value=data_right[j].astype(int).flatten())),\n",
    "            \n",
    "        }\n",
    "        \n",
    "        example = tf.train.Example(features=tf.train.Features(feature=features))\n",
    "        tfrecord.write(example.SerializeToString())\n"
   ]
  },
  {
   "cell_type": "code",
   "execution_count": null,
   "id": "0bbdb1cf",
   "metadata": {},
   "outputs": [],
   "source": []
  }
 ],
 "metadata": {
  "kernelspec": {
   "display_name": "Python 3",
   "language": "python",
   "name": "python3"
  },
  "language_info": {
   "codemirror_mode": {
    "name": "ipython",
    "version": 3
   },
   "file_extension": ".py",
   "mimetype": "text/x-python",
   "name": "python",
   "nbconvert_exporter": "python",
   "pygments_lexer": "ipython3",
   "version": "3.8.0"
  }
 },
 "nbformat": 4,
 "nbformat_minor": 5
}
