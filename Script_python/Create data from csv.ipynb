{
 "cells": [
  {
   "cell_type": "code",
   "execution_count": 1,
   "id": "29428025",
   "metadata": {},
   "outputs": [],
   "source": [
    "# ======================================================================================================================\n",
    "from Class_Preprocessing import preprocessing_duels\n",
    "from os.path import abspath, join\n"
   ]
  },
  {
   "cell_type": "code",
   "execution_count": 2,
   "id": "0ab69fb7",
   "metadata": {},
   "outputs": [],
   "source": [
    "WEB_IMG_DIR = \"Z:/Sample_web_green\"#abspath(\"Examples/Photos/Web_Images\")\n",
    "DATA_FOLDER = \"Z:/Comparisons_npy\"#abspath(\"Examples/Comparisons_npy\")\n",
    "COMP_CSV = join(\"Z:/\", \"duels_question_1.csv\")"
   ]
  },
  {
   "cell_type": "code",
   "execution_count": 3,
   "id": "bd8510cc",
   "metadata": {},
   "outputs": [
    {
     "name": "stdout",
     "output_type": "stream",
     "text": [
      "Z:/duels_question_1.csv\n",
      "Creating inputs from csv ...\n",
      "Done\n",
      "Saving test set ...\n",
      "Done\n",
      "Saving train set ...\n",
      "Done\n"
     ]
    },
    {
     "ename": "UnboundLocalError",
     "evalue": "local variable 'train_left' referenced before assignment",
     "output_type": "error",
     "traceback": [
      "\u001b[1;31m---------------------------------------------------------------------------\u001b[0m",
      "\u001b[1;31mUnboundLocalError\u001b[0m                         Traceback (most recent call last)",
      "\u001b[1;32m<ipython-input-3-617cda2af8ae>\u001b[0m in \u001b[0;36m<module>\u001b[1;34m\u001b[0m\n\u001b[1;32m----> 1\u001b[1;33m \u001b[0mleft\u001b[0m\u001b[1;33m,\u001b[0m \u001b[0mright\u001b[0m\u001b[1;33m,\u001b[0m \u001b[0mlabels\u001b[0m\u001b[1;33m,\u001b[0m \u001b[0mlabels_score\u001b[0m \u001b[1;33m=\u001b[0m \u001b[0mpreprocessing_duels\u001b[0m\u001b[1;33m(\u001b[0m\u001b[0mCOMP_CSV\u001b[0m\u001b[1;33m,\u001b[0m \u001b[1;36m224\u001b[0m\u001b[1;33m,\u001b[0m \u001b[0mWEB_IMG_DIR\u001b[0m\u001b[1;33m,\u001b[0m \u001b[0mDATA_FOLDER\u001b[0m\u001b[1;33m,\u001b[0m \u001b[1;36m0.2\u001b[0m\u001b[1;33m)\u001b[0m\u001b[1;33m\u001b[0m\u001b[1;33m\u001b[0m\u001b[0m\n\u001b[0m\u001b[0;32m      2\u001b[0m \u001b[1;33m\u001b[0m\u001b[0m\n\u001b[0;32m      3\u001b[0m \u001b[0mprint\u001b[0m\u001b[1;33m(\u001b[0m\u001b[1;34m\"done\"\u001b[0m\u001b[1;33m)\u001b[0m\u001b[1;33m\u001b[0m\u001b[1;33m\u001b[0m\u001b[0m\n",
      "\u001b[1;32m~\\Google Drive\\GitHub\\OttawaGreenspacesComparisons\\Script_python\\Class_Preprocessing.py\u001b[0m in \u001b[0;36mpreprocessing_duels\u001b[1;34m(csv_path, img_size, image_folder, save_folder, test)\u001b[0m\n\u001b[0;32m    323\u001b[0m     \u001b[0mprint\u001b[0m\u001b[1;33m(\u001b[0m\u001b[1;34m\"Done\"\u001b[0m\u001b[1;33m)\u001b[0m\u001b[1;33m\u001b[0m\u001b[1;33m\u001b[0m\u001b[0m\n\u001b[0;32m    324\u001b[0m \u001b[1;33m\u001b[0m\u001b[0m\n\u001b[1;32m--> 325\u001b[1;33m     \u001b[1;32mreturn\u001b[0m \u001b[0mtrain_left\u001b[0m\u001b[1;33m,\u001b[0m \u001b[0mtrain_right\u001b[0m\u001b[1;33m,\u001b[0m \u001b[0mtrain_labels\u001b[0m\u001b[1;33m,\u001b[0m \u001b[0mtrain_labels_score\u001b[0m\u001b[1;33m\u001b[0m\u001b[1;33m\u001b[0m\u001b[0m\n\u001b[0m\u001b[0;32m    326\u001b[0m \u001b[1;33m\u001b[0m\u001b[0m\n\u001b[0;32m    327\u001b[0m \u001b[1;33m\u001b[0m\u001b[0m\n",
      "\u001b[1;31mUnboundLocalError\u001b[0m: local variable 'train_left' referenced before assignment"
     ]
    }
   ],
   "source": [
    "left, right, labels, labels_score = preprocessing_duels(COMP_CSV, 224, WEB_IMG_DIR, DATA_FOLDER, 0.2)\n",
    "\n",
    "print(\"done\")"
   ]
  },
  {
   "cell_type": "code",
   "execution_count": null,
   "id": "d2cc89d1",
   "metadata": {},
   "outputs": [],
   "source": [
    "dfg"
   ]
  },
  {
   "cell_type": "code",
   "execution_count": null,
   "id": "8c0c3182",
   "metadata": {},
   "outputs": [],
   "source": []
  }
 ],
 "metadata": {
  "kernelspec": {
   "display_name": "Python 3",
   "language": "python",
   "name": "python3"
  },
  "language_info": {
   "codemirror_mode": {
    "name": "ipython",
    "version": 3
   },
   "file_extension": ".py",
   "mimetype": "text/x-python",
   "name": "python",
   "nbconvert_exporter": "python",
   "pygments_lexer": "ipython3",
   "version": "3.8.0"
  }
 },
 "nbformat": 4,
 "nbformat_minor": 5
}
